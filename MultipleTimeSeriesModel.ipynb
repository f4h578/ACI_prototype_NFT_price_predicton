{
 "cells": [
  {
   "cell_type": "code",
   "execution_count": 118,
   "id": "bde42629",
   "metadata": {},
   "outputs": [],
   "source": [
    "# Source: https://github.com/unit8co/darts/blob/master/examples/01-multi-time-series-and-covariates.ipynb\n",
    "import pandas as pd\n",
    "import numpy as np\n",
    "import torch\n",
    "import matplotlib.pyplot as plt\n",
    "from sklearn.preprocessing import MinMaxScaler\n",
    "\n",
    "from darts import TimeSeries\n",
    "from darts.utils.timeseries_generation import (\n",
    "    gaussian_timeseries,\n",
    "    linear_timeseries,\n",
    "    sine_timeseries,\n",
    ")\n",
    "from darts.models import (\n",
    "    RNNModel,\n",
    "    TCNModel,\n",
    "    TransformerModel,\n",
    "    NBEATSModel,\n",
    "    BlockRNNModel,\n",
    ")\n",
    "from darts.metrics import mape, smape, rmse\n",
    "from darts.dataprocessing.transformers import Scaler\n",
    "from darts.utils.timeseries_generation import datetime_attribute_timeseries\n",
    "from darts.datasets import AirPassengersDataset, MonthlyMilkDataset\n",
    "\n",
    "# for reproducibility\n",
    "torch.manual_seed(1)\n",
    "np.random.seed(1)"
   ]
  },
  {
   "cell_type": "code",
   "execution_count": 136,
   "id": "980c1b84",
   "metadata": {},
   "outputs": [
    {
     "name": "stderr",
     "output_type": "stream",
     "text": [
      "/var/folders/pr/s8vz2jrj0gzcy0cb3dtmqx800000gn/T/ipykernel_84533/596541118.py:2: DtypeWarning: Columns (13) have mixed types. Specify dtype option on import or set low_memory=False.\n",
      "  training_data = pd.read_csv('./data/training_data.csv')\n"
     ]
    }
   ],
   "source": [
    "# Load full training dataset\n",
    "training_data = pd.read_csv('./data/training_data.csv')"
   ]
  },
  {
   "cell_type": "code",
   "execution_count": 137,
   "id": "6128a262",
   "metadata": {},
   "outputs": [],
   "source": [
    "# Important! Due to the large size of the dataset only import a subset to test the code\n",
    "\n",
    "# Load approx half of the available data\n",
    "training_data = training_data[0:4780]\n",
    "training_data.columns = training_data.columns.str.lower()\n",
    "training_data = training_data.drop(columns=['name', 'last_sale','sales','presale'])"
   ]
  },
  {
   "cell_type": "code",
   "execution_count": 138,
   "id": "92609434",
   "metadata": {},
   "outputs": [],
   "source": [
    "# Function to merge 2 dictionaries\n",
    "def merge(d1, d2):\n",
    "    result = {**d1, **d2}\n",
    "    return result"
   ]
  },
  {
   "cell_type": "code",
   "execution_count": 139,
   "id": "1b8aff34",
   "metadata": {},
   "outputs": [],
   "source": [
    "# Function to one hot encode the data\n",
    "def one_hot_encode_data(dataset):\n",
    "    # One hot encode data\n",
    "    from sklearn.preprocessing import OneHotEncoder\n",
    "    col_to_encode = dataset[['owner', 'mouth', 'eyes', 'hat', 'fur', 'background', 'clothes', 'earring']]\n",
    "    col_to_encode.fillna('Other', inplace=True)\n",
    "\n",
    "    X = col_to_encode\n",
    "    enc = OneHotEncoder(handle_unknown='ignore', sparse=False)\n",
    "    enc.fit(X)\n",
    "\n",
    "    col_names = ['owner', 'mouth', 'eyes', 'hat', 'fur', 'background', 'clothes', 'earring']\n",
    "    colnames = enc.get_feature_names(col_names)\n",
    "    encoded_data =  pd.DataFrame(enc.fit_transform(X), columns = colnames)\n",
    "\n",
    "    dataset_temp = dataset.drop(columns=col_names)\n",
    "    dataset_dic = dataset_temp.to_dict('list')\n",
    "    encoded_data_dic = encoded_data.to_dict('list')\n",
    "\n",
    "    encoded_data_final = merge(encoded_data_dic, dataset_dic)\n",
    "    encoded_data_final = pd.DataFrame.from_dict(encoded_data_final)\n",
    "\n",
    "    traget_index = encoded_data_final.columns.get_loc(\"eth_sale price\")\n",
    "    print('done')\n",
    "    return encoded_data_final, traget_index"
   ]
  },
  {
   "cell_type": "code",
   "execution_count": 140,
   "id": "75a71b32",
   "metadata": {},
   "outputs": [
    {
     "name": "stdout",
     "output_type": "stream",
     "text": [
      "done\n"
     ]
    },
    {
     "name": "stderr",
     "output_type": "stream",
     "text": [
      "/var/folders/pr/s8vz2jrj0gzcy0cb3dtmqx800000gn/T/ipykernel_84533/562302766.py:6: SettingWithCopyWarning: \n",
      "A value is trying to be set on a copy of a slice from a DataFrame\n",
      "\n",
      "See the caveats in the documentation: https://pandas.pydata.org/pandas-docs/stable/user_guide/indexing.html#returning-a-view-versus-a-copy\n",
      "  col_to_encode.fillna('Other', inplace=True)\n",
      "/Users/jb/opt/anaconda3/envs/DartMachineLearning/lib/python3.8/site-packages/sklearn/utils/deprecation.py:87: FutureWarning: Function get_feature_names is deprecated; get_feature_names is deprecated in 1.0 and will be removed in 1.2. Please use get_feature_names_out instead.\n",
      "  warnings.warn(msg, category=FutureWarning)\n"
     ]
    }
   ],
   "source": [
    "encoded_train_data = one_hot_encode_data(training_data)[0]\n",
    "#encoded_test_data = one_hot_encode_data(test_data)[0]\n",
    "#train_target_index = one_hot_encode_data(training_data)[1]"
   ]
  },
  {
   "cell_type": "code",
   "execution_count": 141,
   "id": "e9c29b85",
   "metadata": {},
   "outputs": [],
   "source": [
    "# Save encoded training data\n",
    "#encoded_train_data.to_csv('./data/encoded_train_data.csv', index=False)"
   ]
  },
  {
   "cell_type": "code",
   "execution_count": 142,
   "id": "3138daf5",
   "metadata": {},
   "outputs": [],
   "source": [
    "# Convert data to darts timeseries data and splitt datasets into individual data\n",
    "def convert_to_timeseries(data):\n",
    "    grouped = data.groupby(['token_id'])\n",
    "    l_grouped = list(grouped)\n",
    "    target_timeseries_list = []\n",
    "    covariates_timeseries_list = []\n",
    "    lenght_data = len(l_grouped)\n",
    "    for i in range(0,lenght_data):\n",
    "        single_nft = l_grouped[i][1].reset_index(drop=True)\n",
    "        #print(single_nft['token_id'])\n",
    "        index = pd.DatetimeIndex(single_nft['timestamp'])\n",
    "        single_nft = single_nft.set_index(index)\n",
    "        single_nft = single_nft.drop(['timestamp'],axis=1)\n",
    "        single_nft = single_nft[~single_nft.index.duplicated(keep='first')]\n",
    "        col_names = single_nft.columns\n",
    "        sc = MinMaxScaler(feature_range=(0,1))\n",
    "        single_nft_scaled = sc.fit_transform(single_nft)\n",
    "        single_nft_scaled = pd.DataFrame(single_nft_scaled, columns=col_names)\n",
    "        single_nft_scaled_ts = TimeSeries.from_dataframe(single_nft_scaled,fill_missing_dates=True,freq='D')\n",
    "        train_eth_price = single_nft_scaled_ts['eth_sale price']\n",
    "        col_names = col_names.tolist()\n",
    "        col_names.remove('eth_sale price')\n",
    "        target_timeseries_list.append(train_eth_price)\n",
    "        single_nft_scaled = single_nft_scaled.drop(['eth_sale price'],axis=1)\n",
    "        train_covariates_ts = TimeSeries.from_values(single_nft_scaled)\n",
    "        covariates_timeseries_list.append(train_covariates_ts)\n",
    "    return target_timeseries_list, covariates_timeseries_list"
   ]
  },
  {
   "cell_type": "code",
   "execution_count": 143,
   "id": "bd815dff",
   "metadata": {},
   "outputs": [
    {
     "name": "stdout",
     "output_type": "stream",
     "text": [
      "done\n"
     ]
    }
   ],
   "source": [
    "# Create datasets as timeseries from encoded data\n",
    "train_target = convert_to_timeseries(encoded_train_data)[0]\n",
    "train_covars = convert_to_timeseries(encoded_train_data)[1]\n",
    "print('done')"
   ]
  },
  {
   "cell_type": "code",
   "execution_count": 144,
   "id": "71f2793d",
   "metadata": {},
   "outputs": [],
   "source": [
    "# Create train and test data\n",
    "test_target = train_target[0:5]\n",
    "test_covars = train_covars[0:5]\n",
    "train_target = train_target[5:20]\n",
    "train_covars = train_covars[5:20]"
   ]
  },
  {
   "cell_type": "code",
   "execution_count": 127,
   "id": "081bf7b9",
   "metadata": {},
   "outputs": [],
   "source": [
    "# Optinal: Use full dataset instead of single nft datasets\n",
    "#sc = MinMaxScaler(feature_range=(0,1))\n",
    "#encoded_traning_data_full = encoded_traning_data_temp.drop(['timestamp'],axis=1)\n",
    "#train_eth_price_scaled_all = sc.fit_transform(encoded_traning_data_full)\n",
    "#train_timeseries_list[1]['eth_sale price']\n",
    "#train_eth_price_scaled_temp = train_eth_price_scaled_all[:,60]\n",
    "#train_covariates_all = np.delete(train_eth_price_scaled_all, np.s_[:60], axis=1)\n",
    "#print('lenght: target ',len(train_eth_price_scaled_all))\n",
    "#print('lenght: covariates ',len(train_covariates_all))"
   ]
  },
  {
   "cell_type": "code",
   "execution_count": 145,
   "id": "c9da8475",
   "metadata": {},
   "outputs": [
    {
     "name": "stderr",
     "output_type": "stream",
     "text": [
      "[2022-06-10 19:13:49,198] INFO | darts.models.forecasting.torch_forecasting_model | Train dataset contains 3060 samples.\n",
      "[2022-06-10 19:13:49,198] INFO | darts.models.forecasting.torch_forecasting_model | Train dataset contains 3060 samples.\n",
      "2022-06-10 19:13:49 darts.models.forecasting.torch_forecasting_model INFO: Train dataset contains 3060 samples.\n",
      "[2022-06-10 19:13:49,207] INFO | darts.models.forecasting.torch_forecasting_model | Time series values are 64-bits; casting model to float64.\n",
      "[2022-06-10 19:13:49,207] INFO | darts.models.forecasting.torch_forecasting_model | Time series values are 64-bits; casting model to float64.\n",
      "2022-06-10 19:13:49 darts.models.forecasting.torch_forecasting_model INFO: Time series values are 64-bits; casting model to float64.\n",
      "[2022-06-10 19:13:49,210] WARNING | darts.models.forecasting.torch_forecasting_model | DeprecationWarning: kwarg `verbose` is deprecated and will be removed in a future Darts version. Instead, control verbosity with PyTorch Lightning Trainer parameters `enable_progress_bar`, `progress_bar_refresh_rate` and `enable_model_summary` in the `pl_trainer_kwargs` dict at model creation.\n",
      "[2022-06-10 19:13:49,210] WARNING | darts.models.forecasting.torch_forecasting_model | DeprecationWarning: kwarg `verbose` is deprecated and will be removed in a future Darts version. Instead, control verbosity with PyTorch Lightning Trainer parameters `enable_progress_bar`, `progress_bar_refresh_rate` and `enable_model_summary` in the `pl_trainer_kwargs` dict at model creation.\n",
      "2022-06-10 19:13:49 darts.models.forecasting.torch_forecasting_model WARNING: DeprecationWarning: kwarg `verbose` is deprecated and will be removed in a future Darts version. Instead, control verbosity with PyTorch Lightning Trainer parameters `enable_progress_bar`, `progress_bar_refresh_rate` and `enable_model_summary` in the `pl_trainer_kwargs` dict at model creation.\n",
      "2022-06-10 19:13:49 pytorch_lightning.utilities.rank_zero INFO: GPU available: False, used: False\n",
      "2022-06-10 19:13:49 pytorch_lightning.utilities.rank_zero INFO: TPU available: False, using: 0 TPU cores\n",
      "2022-06-10 19:13:49 pytorch_lightning.utilities.rank_zero INFO: IPU available: False, using: 0 IPUs\n",
      "2022-06-10 19:13:49 pytorch_lightning.utilities.rank_zero INFO: HPU available: False, using: 0 HPUs\n",
      "2022-06-10 19:13:49 pytorch_lightning.callbacks.model_summary INFO: \n",
      "  | Name      | Type       | Params\n",
      "-----------------------------------------\n",
      "0 | criterion | MSELoss    | 0     \n",
      "1 | rnn       | LSTM       | 14.5 K\n",
      "2 | fc        | Sequential | 312   \n",
      "-----------------------------------------\n",
      "14.8 K    Trainable params\n",
      "0         Non-trainable params\n",
      "14.8 K    Total params\n",
      "0.118     Total estimated model params size (MB)\n"
     ]
    },
    {
     "data": {
      "application/vnd.jupyter.widget-view+json": {
       "model_id": "b8a04aa6186b4d0b8ac3690732864563",
       "version_major": 2,
       "version_minor": 0
      },
      "text/plain": [
       "Training: 0it [00:00, ?it/s]"
      ]
     },
     "metadata": {},
     "output_type": "display_data"
    },
    {
     "data": {
      "text/plain": [
       "<darts.models.forecasting.block_rnn_model.BlockRNNModel at 0x7f7ce1610970>"
      ]
     },
     "execution_count": 145,
     "metadata": {},
     "output_type": "execute_result"
    }
   ],
   "source": [
    "# Build the model and fit the model\n",
    "model_cov = BlockRNNModel(\n",
    "    model=\"LSTM\",\n",
    "    input_chunk_length=24,\n",
    "    output_chunk_length=12,\n",
    "    n_epochs=10,\n",
    "    random_state=0,\n",
    ")\n",
    "\n",
    "model_cov.fit(\n",
    "    series=train_target,\n",
    "    past_covariates=train_covars,\n",
    "    verbose=True,\n",
    ")"
   ]
  },
  {
   "cell_type": "code",
   "execution_count": 152,
   "id": "38f44985",
   "metadata": {},
   "outputs": [],
   "source": [
    "predict_target = test_target[2]\n",
    "predict_covars = test_covars[2]\n",
    "# Full set data\n",
    "#predict_target = train_covariates_ts[1]\n",
    "#predict_covars = train_eth_price_scaled_ts[1]"
   ]
  },
  {
   "cell_type": "code",
   "execution_count": 153,
   "id": "08da080f",
   "metadata": {},
   "outputs": [
    {
     "data": {
      "application/vnd.jupyter.widget-view+json": {
       "model_id": "dd29cfce8fe04a00a934866acc5d4428",
       "version_major": 2,
       "version_minor": 0
      },
      "text/plain": [
       "Predicting: 96it [00:00, ?it/s]"
      ]
     },
     "metadata": {},
     "output_type": "display_data"
    },
    {
     "data": {
      "text/plain": [
       "<matplotlib.legend.Legend at 0x7f7bf85619d0>"
      ]
     },
     "execution_count": 153,
     "metadata": {},
     "output_type": "execute_result"
    },
    {
     "data": {
      "image/png": "[encoded data removed]",
      "text/plain": [
       "<Figure size 432x288 with 1 Axes>"
      ]
     },
     "metadata": {
      "needs_background": "light"
     },
     "output_type": "display_data"
    }
   ],
   "source": [
    "pred_cov = model_cov.predict(n=10,series=predict_target,past_covariates=predict_covars)\n",
    "predict_target .plot(label=\"actual\")\n",
    "pred_cov.plot(label=\"forecast\")\n",
    "plt.legend()"
   ]
  },
  {
   "cell_type": "code",
   "execution_count": 163,
   "id": "17bf9dc9",
   "metadata": {},
   "outputs": [],
   "source": [
    "def backtrack_testing(target, covars):\n",
    "    backtest_cov = model_cov.historical_forecasts(\n",
    "        target,\n",
    "        past_covariates=covars,\n",
    "        start=0.12,\n",
    "        forecast_horizon=12,\n",
    "        stride=1,\n",
    "        retrain=False,\n",
    "        verbose=False,\n",
    "    )\n",
    "    return backtest_cov"
   ]
  },
  {
   "cell_type": "code",
   "execution_count": 165,
   "id": "5f714f24",
   "metadata": {},
   "outputs": [
    {
     "data": {
      "application/vnd.jupyter.widget-view+json": {
       "model_id": "905588b45db1464db8225639c0ebabda",
       "version_major": 2,
       "version_minor": 0
      },
      "text/plain": [
       "Predicting: 96it [00:00, ?it/s]"
      ]
     },
     "metadata": {},
     "output_type": "display_data"
    },
    {
     "data": {
      "application/vnd.jupyter.widget-view+json": {
       "model_id": "d973e5c89e6e4ed1b2b6f314ba6778f9",
       "version_major": 2,
       "version_minor": 0
      },
      "text/plain": [
       "Predicting: 96it [00:00, ?it/s]"
      ]
     },
     "metadata": {},
     "output_type": "display_data"
    },
    {
     "data": {
      "application/vnd.jupyter.widget-view+json": {
       "model_id": "fcde6ea308ae48f99fb5d29ad30ea098",
       "version_major": 2,
       "version_minor": 0
      },
      "text/plain": [
       "Predicting: 96it [00:00, ?it/s]"
      ]
     },
     "metadata": {},
     "output_type": "display_data"
    },
    {
     "data": {
      "application/vnd.jupyter.widget-view+json": {
       "model_id": "9cd0b36129624acdbcfb7fde6d66dfd7",
       "version_major": 2,
       "version_minor": 0
      },
      "text/plain": [
       "Predicting: 96it [00:00, ?it/s]"
      ]
     },
     "metadata": {},
     "output_type": "display_data"
    },
    {
     "data": {
      "application/vnd.jupyter.widget-view+json": {
       "model_id": "3b76b994529249a78420c5c797139eb7",
       "version_major": 2,
       "version_minor": 0
      },
      "text/plain": [
       "Predicting: 96it [00:00, ?it/s]"
      ]
     },
     "metadata": {},
     "output_type": "display_data"
    },
    {
     "data": {
      "application/vnd.jupyter.widget-view+json": {
       "model_id": "26d017ca65554af7aff23db652ac76ef",
       "version_major": 2,
       "version_minor": 0
      },
      "text/plain": [
       "Predicting: 96it [00:00, ?it/s]"
      ]
     },
     "metadata": {},
     "output_type": "display_data"
    },
    {
     "data": {
      "application/vnd.jupyter.widget-view+json": {
       "model_id": "00d26a9c42fb4f4cb143d97771b9bdc9",
       "version_major": 2,
       "version_minor": 0
      },
      "text/plain": [
       "Predicting: 96it [00:00, ?it/s]"
      ]
     },
     "metadata": {},
     "output_type": "display_data"
    },
    {
     "data": {
      "application/vnd.jupyter.widget-view+json": {
       "model_id": "5baf05f14a194eb799d42673463dfa05",
       "version_major": 2,
       "version_minor": 0
      },
      "text/plain": [
       "Predicting: 96it [00:00, ?it/s]"
      ]
     },
     "metadata": {},
     "output_type": "display_data"
    },
    {
     "data": {
      "application/vnd.jupyter.widget-view+json": {
       "model_id": "6a4c5a3bd1924b91a5d9b6f218e210f4",
       "version_major": 2,
       "version_minor": 0
      },
      "text/plain": [
       "Predicting: 96it [00:00, ?it/s]"
      ]
     },
     "metadata": {},
     "output_type": "display_data"
    },
    {
     "data": {
      "application/vnd.jupyter.widget-view+json": {
       "model_id": "ee5bb60c53eb488b95f84107cb4561bb",
       "version_major": 2,
       "version_minor": 0
      },
      "text/plain": [
       "Predicting: 96it [00:00, ?it/s]"
      ]
     },
     "metadata": {},
     "output_type": "display_data"
    },
    {
     "data": {
      "application/vnd.jupyter.widget-view+json": {
       "model_id": "d33eb0e027554c7e945fb3930cabad3e",
       "version_major": 2,
       "version_minor": 0
      },
      "text/plain": [
       "Predicting: 96it [00:00, ?it/s]"
      ]
     },
     "metadata": {},
     "output_type": "display_data"
    },
    {
     "data": {
      "application/vnd.jupyter.widget-view+json": {
       "model_id": "32fd548d4b8445aca3cec1686eb6dfd8",
       "version_major": 2,
       "version_minor": 0
      },
      "text/plain": [
       "Predicting: 96it [00:00, ?it/s]"
      ]
     },
     "metadata": {},
     "output_type": "display_data"
    },
    {
     "data": {
      "application/vnd.jupyter.widget-view+json": {
       "model_id": "a60c4094042b48d08613e5469ab81404",
       "version_major": 2,
       "version_minor": 0
      },
      "text/plain": [
       "Predicting: 96it [00:00, ?it/s]"
      ]
     },
     "metadata": {},
     "output_type": "display_data"
    },
    {
     "data": {
      "application/vnd.jupyter.widget-view+json": {
       "model_id": "78147036ff114184a2dd87596c2b755a",
       "version_major": 2,
       "version_minor": 0
      },
      "text/plain": [
       "Predicting: 96it [00:00, ?it/s]"
      ]
     },
     "metadata": {},
     "output_type": "display_data"
    },
    {
     "data": {
      "application/vnd.jupyter.widget-view+json": {
       "model_id": "13bf0cae025b458f96f132da3de7a9ce",
       "version_major": 2,
       "version_minor": 0
      },
      "text/plain": [
       "Predicting: 96it [00:00, ?it/s]"
      ]
     },
     "metadata": {},
     "output_type": "display_data"
    },
    {
     "data": {
      "application/vnd.jupyter.widget-view+json": {
       "model_id": "6be443ebef0c41acbe1228e801dcc507",
       "version_major": 2,
       "version_minor": 0
      },
      "text/plain": [
       "Predicting: 96it [00:00, ?it/s]"
      ]
     },
     "metadata": {},
     "output_type": "display_data"
    },
    {
     "data": {
      "application/vnd.jupyter.widget-view+json": {
       "model_id": "b9aec9ac02b44ec49bf02bea1e21c1d4",
       "version_major": 2,
       "version_minor": 0
      },
      "text/plain": [
       "Predicting: 96it [00:00, ?it/s]"
      ]
     },
     "metadata": {},
     "output_type": "display_data"
    },
    {
     "data": {
      "application/vnd.jupyter.widget-view+json": {
       "model_id": "514c7bef6df2476299481e080625db11",
       "version_major": 2,
       "version_minor": 0
      },
      "text/plain": [
       "Predicting: 96it [00:00, ?it/s]"
      ]
     },
     "metadata": {},
     "output_type": "display_data"
    },
    {
     "data": {
      "application/vnd.jupyter.widget-view+json": {
       "model_id": "b9da518458684e68a8e2118a27f12a70",
       "version_major": 2,
       "version_minor": 0
      },
      "text/plain": [
       "Predicting: 96it [00:00, ?it/s]"
      ]
     },
     "metadata": {},
     "output_type": "display_data"
    },
    {
     "data": {
      "application/vnd.jupyter.widget-view+json": {
       "model_id": "8a450d8828d9465489fe2f9afd9f3182",
       "version_major": 2,
       "version_minor": 0
      },
      "text/plain": [
       "Predicting: 96it [00:00, ?it/s]"
      ]
     },
     "metadata": {},
     "output_type": "display_data"
    },
    {
     "data": {
      "application/vnd.jupyter.widget-view+json": {
       "model_id": "33e6e272ed4645f588476ff5563461d7",
       "version_major": 2,
       "version_minor": 0
      },
      "text/plain": [
       "Predicting: 96it [00:00, ?it/s]"
      ]
     },
     "metadata": {},
     "output_type": "display_data"
    },
    {
     "data": {
      "application/vnd.jupyter.widget-view+json": {
       "model_id": "631a5f66913b44e38afcb6ba01750c1b",
       "version_major": 2,
       "version_minor": 0
      },
      "text/plain": [
       "Predicting: 96it [00:00, ?it/s]"
      ]
     },
     "metadata": {},
     "output_type": "display_data"
    },
    {
     "data": {
      "application/vnd.jupyter.widget-view+json": {
       "model_id": "70866f0f3d2e470ca51681d386bc0e0f",
       "version_major": 2,
       "version_minor": 0
      },
      "text/plain": [
       "Predicting: 96it [00:00, ?it/s]"
      ]
     },
     "metadata": {},
     "output_type": "display_data"
    },
    {
     "data": {
      "application/vnd.jupyter.widget-view+json": {
       "model_id": "856bb2d308b3476cb8d37d6eb81d4096",
       "version_major": 2,
       "version_minor": 0
      },
      "text/plain": [
       "Predicting: 96it [00:00, ?it/s]"
      ]
     },
     "metadata": {},
     "output_type": "display_data"
    },
    {
     "data": {
      "application/vnd.jupyter.widget-view+json": {
       "model_id": "98f78f624bb24e069ddc9ad59dd3f68c",
       "version_major": 2,
       "version_minor": 0
      },
      "text/plain": [
       "Predicting: 96it [00:00, ?it/s]"
      ]
     },
     "metadata": {},
     "output_type": "display_data"
    },
    {
     "data": {
      "application/vnd.jupyter.widget-view+json": {
       "model_id": "b119955a13cf4877bb6b4c638ebb9a32",
       "version_major": 2,
       "version_minor": 0
      },
      "text/plain": [
       "Predicting: 96it [00:00, ?it/s]"
      ]
     },
     "metadata": {},
     "output_type": "display_data"
    },
    {
     "data": {
      "application/vnd.jupyter.widget-view+json": {
       "model_id": "fdd05b82c46b465bbaf91ad2646108ae",
       "version_major": 2,
       "version_minor": 0
      },
      "text/plain": [
       "Predicting: 96it [00:00, ?it/s]"
      ]
     },
     "metadata": {},
     "output_type": "display_data"
    },
    {
     "data": {
      "application/vnd.jupyter.widget-view+json": {
       "model_id": "527a69f087b2435d949a35c696528031",
       "version_major": 2,
       "version_minor": 0
      },
      "text/plain": [
       "Predicting: 96it [00:00, ?it/s]"
      ]
     },
     "metadata": {},
     "output_type": "display_data"
    },
    {
     "data": {
      "application/vnd.jupyter.widget-view+json": {
       "model_id": "a10101d618c5446c88df217605d6e6ab",
       "version_major": 2,
       "version_minor": 0
      },
      "text/plain": [
       "Predicting: 96it [00:00, ?it/s]"
      ]
     },
     "metadata": {},
     "output_type": "display_data"
    },
    {
     "data": {
      "application/vnd.jupyter.widget-view+json": {
       "model_id": "40df7203560243f8ab9b0e0b26da35f1",
       "version_major": 2,
       "version_minor": 0
      },
      "text/plain": [
       "Predicting: 96it [00:00, ?it/s]"
      ]
     },
     "metadata": {},
     "output_type": "display_data"
    },
    {
     "data": {
      "application/vnd.jupyter.widget-view+json": {
       "model_id": "840801388e7045b4a40aaae880363769",
       "version_major": 2,
       "version_minor": 0
      },
      "text/plain": [
       "Predicting: 96it [00:00, ?it/s]"
      ]
     },
     "metadata": {},
     "output_type": "display_data"
    },
    {
     "data": {
      "application/vnd.jupyter.widget-view+json": {
       "model_id": "2b6ba7b4dcbb4565a0542837d6a4ff4c",
       "version_major": 2,
       "version_minor": 0
      },
      "text/plain": [
       "Predicting: 96it [00:00, ?it/s]"
      ]
     },
     "metadata": {},
     "output_type": "display_data"
    },
    {
     "data": {
      "application/vnd.jupyter.widget-view+json": {
       "model_id": "b34d2c8c66424157a98a6b750f469797",
       "version_major": 2,
       "version_minor": 0
      },
      "text/plain": [
       "Predicting: 96it [00:00, ?it/s]"
      ]
     },
     "metadata": {},
     "output_type": "display_data"
    },
    {
     "data": {
      "application/vnd.jupyter.widget-view+json": {
       "model_id": "0b9d2802a3fa4059a6098bb514941de5",
       "version_major": 2,
       "version_minor": 0
      },
      "text/plain": [
       "Predicting: 96it [00:00, ?it/s]"
      ]
     },
     "metadata": {},
     "output_type": "display_data"
    },
    {
     "data": {
      "application/vnd.jupyter.widget-view+json": {
       "model_id": "4257188176b748b0be71525a509018d0",
       "version_major": 2,
       "version_minor": 0
      },
      "text/plain": [
       "Predicting: 96it [00:00, ?it/s]"
      ]
     },
     "metadata": {},
     "output_type": "display_data"
    },
    {
     "data": {
      "application/vnd.jupyter.widget-view+json": {
       "model_id": "23b3b80a26af4de08f7111141e25327c",
       "version_major": 2,
       "version_minor": 0
      },
      "text/plain": [
       "Predicting: 96it [00:00, ?it/s]"
      ]
     },
     "metadata": {},
     "output_type": "display_data"
    },
    {
     "data": {
      "application/vnd.jupyter.widget-view+json": {
       "model_id": "f4b5a7fd7e1b4de7ad4571d70c0523a5",
       "version_major": 2,
       "version_minor": 0
      },
      "text/plain": [
       "Predicting: 96it [00:00, ?it/s]"
      ]
     },
     "metadata": {},
     "output_type": "display_data"
    },
    {
     "data": {
      "application/vnd.jupyter.widget-view+json": {
       "model_id": "ef8a4fec24d84a4dbe0e568eeb03311c",
       "version_major": 2,
       "version_minor": 0
      },
      "text/plain": [
       "Predicting: 96it [00:00, ?it/s]"
      ]
     },
     "metadata": {},
     "output_type": "display_data"
    },
    {
     "data": {
      "application/vnd.jupyter.widget-view+json": {
       "model_id": "ef279e274f1e466c96b8534e29f1ccc6",
       "version_major": 2,
       "version_minor": 0
      },
      "text/plain": [
       "Predicting: 96it [00:00, ?it/s]"
      ]
     },
     "metadata": {},
     "output_type": "display_data"
    },
    {
     "data": {
      "application/vnd.jupyter.widget-view+json": {
       "model_id": "83a845d30ee14de49d4b1d223e90e560",
       "version_major": 2,
       "version_minor": 0
      },
      "text/plain": [
       "Predicting: 96it [00:00, ?it/s]"
      ]
     },
     "metadata": {},
     "output_type": "display_data"
    },
    {
     "data": {
      "application/vnd.jupyter.widget-view+json": {
       "model_id": "838def7fb38f41a7a39901eac7fb6391",
       "version_major": 2,
       "version_minor": 0
      },
      "text/plain": [
       "Predicting: 96it [00:00, ?it/s]"
      ]
     },
     "metadata": {},
     "output_type": "display_data"
    },
    {
     "data": {
      "application/vnd.jupyter.widget-view+json": {
       "model_id": "ad6644fdd1b84f70bd1fc5319a8ec9a9",
       "version_major": 2,
       "version_minor": 0
      },
      "text/plain": [
       "Predicting: 96it [00:00, ?it/s]"
      ]
     },
     "metadata": {},
     "output_type": "display_data"
    },
    {
     "data": {
      "application/vnd.jupyter.widget-view+json": {
       "model_id": "b6db38bdc68447c9992fd9aa9f77d07a",
       "version_major": 2,
       "version_minor": 0
      },
      "text/plain": [
       "Predicting: 96it [00:00, ?it/s]"
      ]
     },
     "metadata": {},
     "output_type": "display_data"
    },
    {
     "data": {
      "application/vnd.jupyter.widget-view+json": {
       "model_id": "497380e7a6ed45508085973566863a34",
       "version_major": 2,
       "version_minor": 0
      },
      "text/plain": [
       "Predicting: 96it [00:00, ?it/s]"
      ]
     },
     "metadata": {},
     "output_type": "display_data"
    },
    {
     "data": {
      "application/vnd.jupyter.widget-view+json": {
       "model_id": "4c4fc6e15ebb4276ae9b2461991072cd",
       "version_major": 2,
       "version_minor": 0
      },
      "text/plain": [
       "Predicting: 96it [00:00, ?it/s]"
      ]
     },
     "metadata": {},
     "output_type": "display_data"
    },
    {
     "data": {
      "application/vnd.jupyter.widget-view+json": {
       "model_id": "1adf5ca17cf94a76ac290c163ac4c8b6",
       "version_major": 2,
       "version_minor": 0
      },
      "text/plain": [
       "Predicting: 96it [00:00, ?it/s]"
      ]
     },
     "metadata": {},
     "output_type": "display_data"
    },
    {
     "data": {
      "application/vnd.jupyter.widget-view+json": {
       "model_id": "6a4f2ea1947f49e2b999b1e6b00f9340",
       "version_major": 2,
       "version_minor": 0
      },
      "text/plain": [
       "Predicting: 96it [00:00, ?it/s]"
      ]
     },
     "metadata": {},
     "output_type": "display_data"
    },
    {
     "data": {
      "application/vnd.jupyter.widget-view+json": {
       "model_id": "d3579deaf1e44587ba0b46b42f44fbf7",
       "version_major": 2,
       "version_minor": 0
      },
      "text/plain": [
       "Predicting: 96it [00:00, ?it/s]"
      ]
     },
     "metadata": {},
     "output_type": "display_data"
    },
    {
     "data": {
      "application/vnd.jupyter.widget-view+json": {
       "model_id": "54dd5ef1c15b466b9512b812170c444e",
       "version_major": 2,
       "version_minor": 0
      },
      "text/plain": [
       "Predicting: 96it [00:00, ?it/s]"
      ]
     },
     "metadata": {},
     "output_type": "display_data"
    },
    {
     "data": {
      "application/vnd.jupyter.widget-view+json": {
       "model_id": "568c27b038b941bfaaefc4ade3d5c7cc",
       "version_major": 2,
       "version_minor": 0
      },
      "text/plain": [
       "Predicting: 96it [00:00, ?it/s]"
      ]
     },
     "metadata": {},
     "output_type": "display_data"
    },
    {
     "data": {
      "application/vnd.jupyter.widget-view+json": {
       "model_id": "974b88b3c9b64e81b20f117103e2ac01",
       "version_major": 2,
       "version_minor": 0
      },
      "text/plain": [
       "Predicting: 96it [00:00, ?it/s]"
      ]
     },
     "metadata": {},
     "output_type": "display_data"
    },
    {
     "data": {
      "application/vnd.jupyter.widget-view+json": {
       "model_id": "e4fbe7055b8e487ab883c41e0b333ec1",
       "version_major": 2,
       "version_minor": 0
      },
      "text/plain": [
       "Predicting: 96it [00:00, ?it/s]"
      ]
     },
     "metadata": {},
     "output_type": "display_data"
    },
    {
     "data": {
      "application/vnd.jupyter.widget-view+json": {
       "model_id": "7c523e15bb7342cdb22966796452c30d",
       "version_major": 2,
       "version_minor": 0
      },
      "text/plain": [
       "Predicting: 96it [00:00, ?it/s]"
      ]
     },
     "metadata": {},
     "output_type": "display_data"
    },
    {
     "data": {
      "application/vnd.jupyter.widget-view+json": {
       "model_id": "f84eef9937b74994969ae2340cadeb5b",
       "version_major": 2,
       "version_minor": 0
      },
      "text/plain": [
       "Predicting: 96it [00:00, ?it/s]"
      ]
     },
     "metadata": {},
     "output_type": "display_data"
    },
    {
     "data": {
      "application/vnd.jupyter.widget-view+json": {
       "model_id": "2c19110ed20b47bf8e12fbdee3bef03c",
       "version_major": 2,
       "version_minor": 0
      },
      "text/plain": [
       "Predicting: 96it [00:00, ?it/s]"
      ]
     },
     "metadata": {},
     "output_type": "display_data"
    },
    {
     "data": {
      "application/vnd.jupyter.widget-view+json": {
       "model_id": "0e645ef039524af48ecbf8f9a67c9372",
       "version_major": 2,
       "version_minor": 0
      },
      "text/plain": [
       "Predicting: 96it [00:00, ?it/s]"
      ]
     },
     "metadata": {},
     "output_type": "display_data"
    },
    {
     "data": {
      "application/vnd.jupyter.widget-view+json": {
       "model_id": "beb7bca2e2f345abb3002354d2bfc1e2",
       "version_major": 2,
       "version_minor": 0
      },
      "text/plain": [
       "Predicting: 96it [00:00, ?it/s]"
      ]
     },
     "metadata": {},
     "output_type": "display_data"
    },
    {
     "data": {
      "application/vnd.jupyter.widget-view+json": {
       "model_id": "301d3c62234e40348d1a647b39258023",
       "version_major": 2,
       "version_minor": 0
      },
      "text/plain": [
       "Predicting: 96it [00:00, ?it/s]"
      ]
     },
     "metadata": {},
     "output_type": "display_data"
    },
    {
     "data": {
      "application/vnd.jupyter.widget-view+json": {
       "model_id": "9b6830769ddd45999e3122e2142c823f",
       "version_major": 2,
       "version_minor": 0
      },
      "text/plain": [
       "Predicting: 96it [00:00, ?it/s]"
      ]
     },
     "metadata": {},
     "output_type": "display_data"
    },
    {
     "data": {
      "application/vnd.jupyter.widget-view+json": {
       "model_id": "349ff63322944e3cb858f69b88448d42",
       "version_major": 2,
       "version_minor": 0
      },
      "text/plain": [
       "Predicting: 96it [00:00, ?it/s]"
      ]
     },
     "metadata": {},
     "output_type": "display_data"
    },
    {
     "data": {
      "application/vnd.jupyter.widget-view+json": {
       "model_id": "937e5bd8ac09486b80341fe39399c51b",
       "version_major": 2,
       "version_minor": 0
      },
      "text/plain": [
       "Predicting: 96it [00:00, ?it/s]"
      ]
     },
     "metadata": {},
     "output_type": "display_data"
    },
    {
     "data": {
      "application/vnd.jupyter.widget-view+json": {
       "model_id": "788c0ccc702047c4a3da5778ff9dbc21",
       "version_major": 2,
       "version_minor": 0
      },
      "text/plain": [
       "Predicting: 96it [00:00, ?it/s]"
      ]
     },
     "metadata": {},
     "output_type": "display_data"
    },
    {
     "data": {
      "application/vnd.jupyter.widget-view+json": {
       "model_id": "230b4af08dec48658f18cc8e1a566ca5",
       "version_major": 2,
       "version_minor": 0
      },
      "text/plain": [
       "Predicting: 96it [00:00, ?it/s]"
      ]
     },
     "metadata": {},
     "output_type": "display_data"
    },
    {
     "data": {
      "application/vnd.jupyter.widget-view+json": {
       "model_id": "561d3922ab62455b8fd5997954611998",
       "version_major": 2,
       "version_minor": 0
      },
      "text/plain": [
       "Predicting: 96it [00:00, ?it/s]"
      ]
     },
     "metadata": {},
     "output_type": "display_data"
    },
    {
     "data": {
      "application/vnd.jupyter.widget-view+json": {
       "model_id": "a68e38bf75d64df8b91c466589bb2f89",
       "version_major": 2,
       "version_minor": 0
      },
      "text/plain": [
       "Predicting: 96it [00:00, ?it/s]"
      ]
     },
     "metadata": {},
     "output_type": "display_data"
    },
    {
     "data": {
      "application/vnd.jupyter.widget-view+json": {
       "model_id": "1891cb2b5d9d469a937ceaa335b914f6",
       "version_major": 2,
       "version_minor": 0
      },
      "text/plain": [
       "Predicting: 96it [00:00, ?it/s]"
      ]
     },
     "metadata": {},
     "output_type": "display_data"
    },
    {
     "data": {
      "application/vnd.jupyter.widget-view+json": {
       "model_id": "2d9d333a788d42f9b782219397955679",
       "version_major": 2,
       "version_minor": 0
      },
      "text/plain": [
       "Predicting: 96it [00:00, ?it/s]"
      ]
     },
     "metadata": {},
     "output_type": "display_data"
    },
    {
     "data": {
      "application/vnd.jupyter.widget-view+json": {
       "model_id": "d63c021c56b245b6b3f4a7e1c941fc8b",
       "version_major": 2,
       "version_minor": 0
      },
      "text/plain": [
       "Predicting: 96it [00:00, ?it/s]"
      ]
     },
     "metadata": {},
     "output_type": "display_data"
    },
    {
     "data": {
      "application/vnd.jupyter.widget-view+json": {
       "model_id": "184a45216ab944539119bc0778114831",
       "version_major": 2,
       "version_minor": 0
      },
      "text/plain": [
       "Predicting: 96it [00:00, ?it/s]"
      ]
     },
     "metadata": {},
     "output_type": "display_data"
    },
    {
     "data": {
      "application/vnd.jupyter.widget-view+json": {
       "model_id": "0fe80724b1ea40f681d7d9ef79e91f4a",
       "version_major": 2,
       "version_minor": 0
      },
      "text/plain": [
       "Predicting: 96it [00:00, ?it/s]"
      ]
     },
     "metadata": {},
     "output_type": "display_data"
    },
    {
     "data": {
      "application/vnd.jupyter.widget-view+json": {
       "model_id": "82d3c6bdff0a48ad8dfdaa46b7785003",
       "version_major": 2,
       "version_minor": 0
      },
      "text/plain": [
       "Predicting: 96it [00:00, ?it/s]"
      ]
     },
     "metadata": {},
     "output_type": "display_data"
    },
    {
     "data": {
      "application/vnd.jupyter.widget-view+json": {
       "model_id": "f405a27088574752b8099dab0f34b99b",
       "version_major": 2,
       "version_minor": 0
      },
      "text/plain": [
       "Predicting: 96it [00:00, ?it/s]"
      ]
     },
     "metadata": {},
     "output_type": "display_data"
    },
    {
     "data": {
      "application/vnd.jupyter.widget-view+json": {
       "model_id": "deff9cfcb9ed4badb4e1c778742f3ad3",
       "version_major": 2,
       "version_minor": 0
      },
      "text/plain": [
       "Predicting: 96it [00:00, ?it/s]"
      ]
     },
     "metadata": {},
     "output_type": "display_data"
    },
    {
     "data": {
      "application/vnd.jupyter.widget-view+json": {
       "model_id": "ed64087e1dd4428bb1696710ba639450",
       "version_major": 2,
       "version_minor": 0
      },
      "text/plain": [
       "Predicting: 96it [00:00, ?it/s]"
      ]
     },
     "metadata": {},
     "output_type": "display_data"
    },
    {
     "data": {
      "application/vnd.jupyter.widget-view+json": {
       "model_id": "742e23be1cec4bd38455a017dc55ac06",
       "version_major": 2,
       "version_minor": 0
      },
      "text/plain": [
       "Predicting: 96it [00:00, ?it/s]"
      ]
     },
     "metadata": {},
     "output_type": "display_data"
    },
    {
     "data": {
      "application/vnd.jupyter.widget-view+json": {
       "model_id": "bf44ac436a7b4298abb36014f07bd2be",
       "version_major": 2,
       "version_minor": 0
      },
      "text/plain": [
       "Predicting: 96it [00:00, ?it/s]"
      ]
     },
     "metadata": {},
     "output_type": "display_data"
    },
    {
     "data": {
      "application/vnd.jupyter.widget-view+json": {
       "model_id": "308047cbb7614e07ada53245109fdf34",
       "version_major": 2,
       "version_minor": 0
      },
      "text/plain": [
       "Predicting: 96it [00:00, ?it/s]"
      ]
     },
     "metadata": {},
     "output_type": "display_data"
    },
    {
     "data": {
      "application/vnd.jupyter.widget-view+json": {
       "model_id": "f72f868ce0264022b922fb6cfef85f30",
       "version_major": 2,
       "version_minor": 0
      },
      "text/plain": [
       "Predicting: 96it [00:00, ?it/s]"
      ]
     },
     "metadata": {},
     "output_type": "display_data"
    },
    {
     "data": {
      "application/vnd.jupyter.widget-view+json": {
       "model_id": "b28820f319304e05b3a3046819f9dca6",
       "version_major": 2,
       "version_minor": 0
      },
      "text/plain": [
       "Predicting: 96it [00:00, ?it/s]"
      ]
     },
     "metadata": {},
     "output_type": "display_data"
    },
    {
     "data": {
      "application/vnd.jupyter.widget-view+json": {
       "model_id": "4f44a8978988452eb5a5390a931bbabb",
       "version_major": 2,
       "version_minor": 0
      },
      "text/plain": [
       "Predicting: 96it [00:00, ?it/s]"
      ]
     },
     "metadata": {},
     "output_type": "display_data"
    },
    {
     "data": {
      "application/vnd.jupyter.widget-view+json": {
       "model_id": "e5f30f5931db40ceab618d098175f257",
       "version_major": 2,
       "version_minor": 0
      },
      "text/plain": [
       "Predicting: 96it [00:00, ?it/s]"
      ]
     },
     "metadata": {},
     "output_type": "display_data"
    },
    {
     "data": {
      "application/vnd.jupyter.widget-view+json": {
       "model_id": "953981f1e4fb42849b1712e4b2df7c0f",
       "version_major": 2,
       "version_minor": 0
      },
      "text/plain": [
       "Predicting: 96it [00:00, ?it/s]"
      ]
     },
     "metadata": {},
     "output_type": "display_data"
    },
    {
     "data": {
      "application/vnd.jupyter.widget-view+json": {
       "model_id": "d8cf4d3dbefb4a9c9d32a591d8a70de8",
       "version_major": 2,
       "version_minor": 0
      },
      "text/plain": [
       "Predicting: 96it [00:00, ?it/s]"
      ]
     },
     "metadata": {},
     "output_type": "display_data"
    },
    {
     "data": {
      "application/vnd.jupyter.widget-view+json": {
       "model_id": "fec639bd775b44aa94c6b0e5eb5f8cb9",
       "version_major": 2,
       "version_minor": 0
      },
      "text/plain": [
       "Predicting: 96it [00:00, ?it/s]"
      ]
     },
     "metadata": {},
     "output_type": "display_data"
    },
    {
     "data": {
      "application/vnd.jupyter.widget-view+json": {
       "model_id": "c6bca1374615419fb8a7133fa58388c2",
       "version_major": 2,
       "version_minor": 0
      },
      "text/plain": [
       "Predicting: 96it [00:00, ?it/s]"
      ]
     },
     "metadata": {},
     "output_type": "display_data"
    },
    {
     "data": {
      "application/vnd.jupyter.widget-view+json": {
       "model_id": "be1152b1374e4c3b80484ffb40c357ec",
       "version_major": 2,
       "version_minor": 0
      },
      "text/plain": [
       "Predicting: 96it [00:00, ?it/s]"
      ]
     },
     "metadata": {},
     "output_type": "display_data"
    },
    {
     "data": {
      "application/vnd.jupyter.widget-view+json": {
       "model_id": "8e12ea64019041209acae3fa462c5d69",
       "version_major": 2,
       "version_minor": 0
      },
      "text/plain": [
       "Predicting: 96it [00:00, ?it/s]"
      ]
     },
     "metadata": {},
     "output_type": "display_data"
    },
    {
     "data": {
      "application/vnd.jupyter.widget-view+json": {
       "model_id": "ddb28c4a6dab4776beb61083f8ebd5ba",
       "version_major": 2,
       "version_minor": 0
      },
      "text/plain": [
       "Predicting: 96it [00:00, ?it/s]"
      ]
     },
     "metadata": {},
     "output_type": "display_data"
    },
    {
     "data": {
      "application/vnd.jupyter.widget-view+json": {
       "model_id": "8cce2a9666c04eafab903aa9c95efdd8",
       "version_major": 2,
       "version_minor": 0
      },
      "text/plain": [
       "Predicting: 96it [00:00, ?it/s]"
      ]
     },
     "metadata": {},
     "output_type": "display_data"
    },
    {
     "data": {
      "application/vnd.jupyter.widget-view+json": {
       "model_id": "2ac36c7f7c574480861dfbc88f87f5df",
       "version_major": 2,
       "version_minor": 0
      },
      "text/plain": [
       "Predicting: 96it [00:00, ?it/s]"
      ]
     },
     "metadata": {},
     "output_type": "display_data"
    },
    {
     "data": {
      "application/vnd.jupyter.widget-view+json": {
       "model_id": "57375c33ac964393933f0857b5e8b844",
       "version_major": 2,
       "version_minor": 0
      },
      "text/plain": [
       "Predicting: 96it [00:00, ?it/s]"
      ]
     },
     "metadata": {},
     "output_type": "display_data"
    },
    {
     "data": {
      "application/vnd.jupyter.widget-view+json": {
       "model_id": "710822ef0fd64f86816a1831797f4555",
       "version_major": 2,
       "version_minor": 0
      },
      "text/plain": [
       "Predicting: 96it [00:00, ?it/s]"
      ]
     },
     "metadata": {},
     "output_type": "display_data"
    },
    {
     "data": {
      "application/vnd.jupyter.widget-view+json": {
       "model_id": "65bfd256ceed4405a00cd2e25a05f170",
       "version_major": 2,
       "version_minor": 0
      },
      "text/plain": [
       "Predicting: 96it [00:00, ?it/s]"
      ]
     },
     "metadata": {},
     "output_type": "display_data"
    },
    {
     "data": {
      "application/vnd.jupyter.widget-view+json": {
       "model_id": "3464b896853e41ae807e40dab40dfc7a",
       "version_major": 2,
       "version_minor": 0
      },
      "text/plain": [
       "Predicting: 96it [00:00, ?it/s]"
      ]
     },
     "metadata": {},
     "output_type": "display_data"
    },
    {
     "data": {
      "application/vnd.jupyter.widget-view+json": {
       "model_id": "e86bc8eb89d540bf8fd52be75392e50f",
       "version_major": 2,
       "version_minor": 0
      },
      "text/plain": [
       "Predicting: 96it [00:00, ?it/s]"
      ]
     },
     "metadata": {},
     "output_type": "display_data"
    },
    {
     "data": {
      "application/vnd.jupyter.widget-view+json": {
       "model_id": "5064f1e139324eec86363eba69e1aaad",
       "version_major": 2,
       "version_minor": 0
      },
      "text/plain": [
       "Predicting: 96it [00:00, ?it/s]"
      ]
     },
     "metadata": {},
     "output_type": "display_data"
    },
    {
     "data": {
      "application/vnd.jupyter.widget-view+json": {
       "model_id": "2387c611398a4fe994ba175296d12ba4",
       "version_major": 2,
       "version_minor": 0
      },
      "text/plain": [
       "Predicting: 96it [00:00, ?it/s]"
      ]
     },
     "metadata": {},
     "output_type": "display_data"
    },
    {
     "data": {
      "application/vnd.jupyter.widget-view+json": {
       "model_id": "26f36f8e5dc841a69df075d8e2ddee42",
       "version_major": 2,
       "version_minor": 0
      },
      "text/plain": [
       "Predicting: 96it [00:00, ?it/s]"
      ]
     },
     "metadata": {},
     "output_type": "display_data"
    },
    {
     "data": {
      "application/vnd.jupyter.widget-view+json": {
       "model_id": "207ed1c206b64db4a884a5778a8ae5cd",
       "version_major": 2,
       "version_minor": 0
      },
      "text/plain": [
       "Predicting: 96it [00:00, ?it/s]"
      ]
     },
     "metadata": {},
     "output_type": "display_data"
    },
    {
     "data": {
      "application/vnd.jupyter.widget-view+json": {
       "model_id": "4f471ff90bae422b8b85fec6a1eeff4e",
       "version_major": 2,
       "version_minor": 0
      },
      "text/plain": [
       "Predicting: 96it [00:00, ?it/s]"
      ]
     },
     "metadata": {},
     "output_type": "display_data"
    },
    {
     "data": {
      "application/vnd.jupyter.widget-view+json": {
       "model_id": "24a95a5fc64047d5b6ad2c02a2c3f9e6",
       "version_major": 2,
       "version_minor": 0
      },
      "text/plain": [
       "Predicting: 96it [00:00, ?it/s]"
      ]
     },
     "metadata": {},
     "output_type": "display_data"
    },
    {
     "data": {
      "application/vnd.jupyter.widget-view+json": {
       "model_id": "4f3100660ec44bf786b87b37711f9fae",
       "version_major": 2,
       "version_minor": 0
      },
      "text/plain": [
       "Predicting: 96it [00:00, ?it/s]"
      ]
     },
     "metadata": {},
     "output_type": "display_data"
    },
    {
     "data": {
      "application/vnd.jupyter.widget-view+json": {
       "model_id": "dae49aea2c324dfeb698d3673e03591d",
       "version_major": 2,
       "version_minor": 0
      },
      "text/plain": [
       "Predicting: 96it [00:00, ?it/s]"
      ]
     },
     "metadata": {},
     "output_type": "display_data"
    },
    {
     "data": {
      "application/vnd.jupyter.widget-view+json": {
       "model_id": "adf864e47d004ebb8f2a8d6103ebe990",
       "version_major": 2,
       "version_minor": 0
      },
      "text/plain": [
       "Predicting: 96it [00:00, ?it/s]"
      ]
     },
     "metadata": {},
     "output_type": "display_data"
    },
    {
     "data": {
      "application/vnd.jupyter.widget-view+json": {
       "model_id": "47bf6dd75621420ebf02a6dafd88fb9f",
       "version_major": 2,
       "version_minor": 0
      },
      "text/plain": [
       "Predicting: 96it [00:00, ?it/s]"
      ]
     },
     "metadata": {},
     "output_type": "display_data"
    },
    {
     "data": {
      "application/vnd.jupyter.widget-view+json": {
       "model_id": "32eeb6dc671a48c39f7a1509d56ee9df",
       "version_major": 2,
       "version_minor": 0
      },
      "text/plain": [
       "Predicting: 96it [00:00, ?it/s]"
      ]
     },
     "metadata": {},
     "output_type": "display_data"
    },
    {
     "data": {
      "application/vnd.jupyter.widget-view+json": {
       "model_id": "74faa7082d004884932b5bb3e7d2a676",
       "version_major": 2,
       "version_minor": 0
      },
      "text/plain": [
       "Predicting: 96it [00:00, ?it/s]"
      ]
     },
     "metadata": {},
     "output_type": "display_data"
    },
    {
     "data": {
      "application/vnd.jupyter.widget-view+json": {
       "model_id": "6d60dae6db0b4478870ae94b859446da",
       "version_major": 2,
       "version_minor": 0
      },
      "text/plain": [
       "Predicting: 96it [00:00, ?it/s]"
      ]
     },
     "metadata": {},
     "output_type": "display_data"
    },
    {
     "data": {
      "application/vnd.jupyter.widget-view+json": {
       "model_id": "37ea9cf1e86f428f839049a6d6b77223",
       "version_major": 2,
       "version_minor": 0
      },
      "text/plain": [
       "Predicting: 96it [00:00, ?it/s]"
      ]
     },
     "metadata": {},
     "output_type": "display_data"
    },
    {
     "data": {
      "application/vnd.jupyter.widget-view+json": {
       "model_id": "183c42e67b0a47fabf7809fadd67a7cb",
       "version_major": 2,
       "version_minor": 0
      },
      "text/plain": [
       "Predicting: 96it [00:00, ?it/s]"
      ]
     },
     "metadata": {},
     "output_type": "display_data"
    },
    {
     "data": {
      "application/vnd.jupyter.widget-view+json": {
       "model_id": "205841a6f687463484ec9acbe06a731e",
       "version_major": 2,
       "version_minor": 0
      },
      "text/plain": [
       "Predicting: 96it [00:00, ?it/s]"
      ]
     },
     "metadata": {},
     "output_type": "display_data"
    },
    {
     "data": {
      "application/vnd.jupyter.widget-view+json": {
       "model_id": "b7731548f1af492aa099cf484eb55fd2",
       "version_major": 2,
       "version_minor": 0
      },
      "text/plain": [
       "Predicting: 96it [00:00, ?it/s]"
      ]
     },
     "metadata": {},
     "output_type": "display_data"
    },
    {
     "data": {
      "application/vnd.jupyter.widget-view+json": {
       "model_id": "1451a6f4558a4399984b8a185306ff1e",
       "version_major": 2,
       "version_minor": 0
      },
      "text/plain": [
       "Predicting: 96it [00:00, ?it/s]"
      ]
     },
     "metadata": {},
     "output_type": "display_data"
    },
    {
     "data": {
      "application/vnd.jupyter.widget-view+json": {
       "model_id": "08b6299474af492e8e866223ac754431",
       "version_major": 2,
       "version_minor": 0
      },
      "text/plain": [
       "Predicting: 96it [00:00, ?it/s]"
      ]
     },
     "metadata": {},
     "output_type": "display_data"
    },
    {
     "data": {
      "application/vnd.jupyter.widget-view+json": {
       "model_id": "49e40046ef7542198ec2fd85302467fa",
       "version_major": 2,
       "version_minor": 0
      },
      "text/plain": [
       "Predicting: 96it [00:00, ?it/s]"
      ]
     },
     "metadata": {},
     "output_type": "display_data"
    },
    {
     "data": {
      "application/vnd.jupyter.widget-view+json": {
       "model_id": "54c69599e57c428991d5690f2c72c5d7",
       "version_major": 2,
       "version_minor": 0
      },
      "text/plain": [
       "Predicting: 96it [00:00, ?it/s]"
      ]
     },
     "metadata": {},
     "output_type": "display_data"
    },
    {
     "data": {
      "application/vnd.jupyter.widget-view+json": {
       "model_id": "aa2b3bbb52a649908ffcb9d7c251f7dc",
       "version_major": 2,
       "version_minor": 0
      },
      "text/plain": [
       "Predicting: 96it [00:00, ?it/s]"
      ]
     },
     "metadata": {},
     "output_type": "display_data"
    },
    {
     "data": {
      "application/vnd.jupyter.widget-view+json": {
       "model_id": "ffe4e66a7638488dbbd2954741681ebd",
       "version_major": 2,
       "version_minor": 0
      },
      "text/plain": [
       "Predicting: 96it [00:00, ?it/s]"
      ]
     },
     "metadata": {},
     "output_type": "display_data"
    },
    {
     "data": {
      "application/vnd.jupyter.widget-view+json": {
       "model_id": "48ff14da2a5a433b862a560c5ca34396",
       "version_major": 2,
       "version_minor": 0
      },
      "text/plain": [
       "Predicting: 96it [00:00, ?it/s]"
      ]
     },
     "metadata": {},
     "output_type": "display_data"
    },
    {
     "data": {
      "application/vnd.jupyter.widget-view+json": {
       "model_id": "9d3d0ccbe87149d6b80d2c5b20a97fa1",
       "version_major": 2,
       "version_minor": 0
      },
      "text/plain": [
       "Predicting: 96it [00:00, ?it/s]"
      ]
     },
     "metadata": {},
     "output_type": "display_data"
    },
    {
     "data": {
      "application/vnd.jupyter.widget-view+json": {
       "model_id": "a0e5af0a95164e8b81b9346ff8d35842",
       "version_major": 2,
       "version_minor": 0
      },
      "text/plain": [
       "Predicting: 96it [00:00, ?it/s]"
      ]
     },
     "metadata": {},
     "output_type": "display_data"
    },
    {
     "data": {
      "application/vnd.jupyter.widget-view+json": {
       "model_id": "87c93f9cbcb94f699d1f5e73b113fdc5",
       "version_major": 2,
       "version_minor": 0
      },
      "text/plain": [
       "Predicting: 96it [00:00, ?it/s]"
      ]
     },
     "metadata": {},
     "output_type": "display_data"
    },
    {
     "data": {
      "application/vnd.jupyter.widget-view+json": {
       "model_id": "85300a360ba54aa1821d03658cdde5be",
       "version_major": 2,
       "version_minor": 0
      },
      "text/plain": [
       "Predicting: 96it [00:00, ?it/s]"
      ]
     },
     "metadata": {},
     "output_type": "display_data"
    },
    {
     "data": {
      "application/vnd.jupyter.widget-view+json": {
       "model_id": "d4ee710f9fc940c1a501c8b067a5167d",
       "version_major": 2,
       "version_minor": 0
      },
      "text/plain": [
       "Predicting: 96it [00:00, ?it/s]"
      ]
     },
     "metadata": {},
     "output_type": "display_data"
    },
    {
     "data": {
      "application/vnd.jupyter.widget-view+json": {
       "model_id": "f80ca242651f4de6828a21506eeab1fb",
       "version_major": 2,
       "version_minor": 0
      },
      "text/plain": [
       "Predicting: 96it [00:00, ?it/s]"
      ]
     },
     "metadata": {},
     "output_type": "display_data"
    },
    {
     "data": {
      "application/vnd.jupyter.widget-view+json": {
       "model_id": "44b1a0fe3aea4ebb9fe5a6424804a38c",
       "version_major": 2,
       "version_minor": 0
      },
      "text/plain": [
       "Predicting: 96it [00:00, ?it/s]"
      ]
     },
     "metadata": {},
     "output_type": "display_data"
    },
    {
     "data": {
      "application/vnd.jupyter.widget-view+json": {
       "model_id": "7894d5596b4d461da1fb42e23ca3e91a",
       "version_major": 2,
       "version_minor": 0
      },
      "text/plain": [
       "Predicting: 96it [00:00, ?it/s]"
      ]
     },
     "metadata": {},
     "output_type": "display_data"
    },
    {
     "data": {
      "application/vnd.jupyter.widget-view+json": {
       "model_id": "d0e4155fa04441a9bcae051a20efb02f",
       "version_major": 2,
       "version_minor": 0
      },
      "text/plain": [
       "Predicting: 96it [00:00, ?it/s]"
      ]
     },
     "metadata": {},
     "output_type": "display_data"
    },
    {
     "data": {
      "application/vnd.jupyter.widget-view+json": {
       "model_id": "a5ee6bdf111c43c8a30b6ec3ae7d9e2e",
       "version_major": 2,
       "version_minor": 0
      },
      "text/plain": [
       "Predicting: 96it [00:00, ?it/s]"
      ]
     },
     "metadata": {},
     "output_type": "display_data"
    },
    {
     "data": {
      "application/vnd.jupyter.widget-view+json": {
       "model_id": "bef9462260e34389b98f3038812d0f3e",
       "version_major": 2,
       "version_minor": 0
      },
      "text/plain": [
       "Predicting: 96it [00:00, ?it/s]"
      ]
     },
     "metadata": {},
     "output_type": "display_data"
    },
    {
     "data": {
      "application/vnd.jupyter.widget-view+json": {
       "model_id": "e1e02114dcc14903aba000f9f44cedac",
       "version_major": 2,
       "version_minor": 0
      },
      "text/plain": [
       "Predicting: 96it [00:00, ?it/s]"
      ]
     },
     "metadata": {},
     "output_type": "display_data"
    },
    {
     "data": {
      "application/vnd.jupyter.widget-view+json": {
       "model_id": "b882a2233a57422ba6810bb72f421df5",
       "version_major": 2,
       "version_minor": 0
      },
      "text/plain": [
       "Predicting: 96it [00:00, ?it/s]"
      ]
     },
     "metadata": {},
     "output_type": "display_data"
    },
    {
     "data": {
      "application/vnd.jupyter.widget-view+json": {
       "model_id": "a7663b7877a947a296e7da16a0bc472d",
       "version_major": 2,
       "version_minor": 0
      },
      "text/plain": [
       "Predicting: 96it [00:00, ?it/s]"
      ]
     },
     "metadata": {},
     "output_type": "display_data"
    },
    {
     "data": {
      "application/vnd.jupyter.widget-view+json": {
       "model_id": "962e46275a3448a485ff81c873257a3f",
       "version_major": 2,
       "version_minor": 0
      },
      "text/plain": [
       "Predicting: 96it [00:00, ?it/s]"
      ]
     },
     "metadata": {},
     "output_type": "display_data"
    },
    {
     "data": {
      "application/vnd.jupyter.widget-view+json": {
       "model_id": "adb7a2c26f5f4e41b37582f63e72cf88",
       "version_major": 2,
       "version_minor": 0
      },
      "text/plain": [
       "Predicting: 96it [00:00, ?it/s]"
      ]
     },
     "metadata": {},
     "output_type": "display_data"
    },
    {
     "data": {
      "application/vnd.jupyter.widget-view+json": {
       "model_id": "0bc8f356402446d08319bb0d5263bcdb",
       "version_major": 2,
       "version_minor": 0
      },
      "text/plain": [
       "Predicting: 96it [00:00, ?it/s]"
      ]
     },
     "metadata": {},
     "output_type": "display_data"
    },
    {
     "data": {
      "application/vnd.jupyter.widget-view+json": {
       "model_id": "66be02f295d248938297472cefc616e8",
       "version_major": 2,
       "version_minor": 0
      },
      "text/plain": [
       "Predicting: 96it [00:00, ?it/s]"
      ]
     },
     "metadata": {},
     "output_type": "display_data"
    },
    {
     "data": {
      "application/vnd.jupyter.widget-view+json": {
       "model_id": "0f392756bf914cc3b44b379c98637486",
       "version_major": 2,
       "version_minor": 0
      },
      "text/plain": [
       "Predicting: 96it [00:00, ?it/s]"
      ]
     },
     "metadata": {},
     "output_type": "display_data"
    },
    {
     "data": {
      "application/vnd.jupyter.widget-view+json": {
       "model_id": "64cf22c8e90f401f828dd5c77ce030c6",
       "version_major": 2,
       "version_minor": 0
      },
      "text/plain": [
       "Predicting: 96it [00:00, ?it/s]"
      ]
     },
     "metadata": {},
     "output_type": "display_data"
    },
    {
     "data": {
      "application/vnd.jupyter.widget-view+json": {
       "model_id": "bf93c03acd0646709c3365e348968307",
       "version_major": 2,
       "version_minor": 0
      },
      "text/plain": [
       "Predicting: 96it [00:00, ?it/s]"
      ]
     },
     "metadata": {},
     "output_type": "display_data"
    },
    {
     "data": {
      "application/vnd.jupyter.widget-view+json": {
       "model_id": "9057fe8b98cb4762ae89e4188569956d",
       "version_major": 2,
       "version_minor": 0
      },
      "text/plain": [
       "Predicting: 96it [00:00, ?it/s]"
      ]
     },
     "metadata": {},
     "output_type": "display_data"
    },
    {
     "data": {
      "application/vnd.jupyter.widget-view+json": {
       "model_id": "78462a78990a4c9695d06b2b8f1f0527",
       "version_major": 2,
       "version_minor": 0
      },
      "text/plain": [
       "Predicting: 96it [00:00, ?it/s]"
      ]
     },
     "metadata": {},
     "output_type": "display_data"
    },
    {
     "data": {
      "application/vnd.jupyter.widget-view+json": {
       "model_id": "299793bd121143faa0012d55a2e19bfb",
       "version_major": 2,
       "version_minor": 0
      },
      "text/plain": [
       "Predicting: 96it [00:00, ?it/s]"
      ]
     },
     "metadata": {},
     "output_type": "display_data"
    },
    {
     "data": {
      "application/vnd.jupyter.widget-view+json": {
       "model_id": "ddd877a8e93c48489855649cdf9f4927",
       "version_major": 2,
       "version_minor": 0
      },
      "text/plain": [
       "Predicting: 96it [00:00, ?it/s]"
      ]
     },
     "metadata": {},
     "output_type": "display_data"
    },
    {
     "data": {
      "application/vnd.jupyter.widget-view+json": {
       "model_id": "f4cdc07692e044a6a4f8e58f74867765",
       "version_major": 2,
       "version_minor": 0
      },
      "text/plain": [
       "Predicting: 96it [00:00, ?it/s]"
      ]
     },
     "metadata": {},
     "output_type": "display_data"
    },
    {
     "data": {
      "application/vnd.jupyter.widget-view+json": {
       "model_id": "20a69541b0444233baa02d9d8416d206",
       "version_major": 2,
       "version_minor": 0
      },
      "text/plain": [
       "Predicting: 96it [00:00, ?it/s]"
      ]
     },
     "metadata": {},
     "output_type": "display_data"
    },
    {
     "data": {
      "application/vnd.jupyter.widget-view+json": {
       "model_id": "d1868bcbff7946f1b46a2e6499969925",
       "version_major": 2,
       "version_minor": 0
      },
      "text/plain": [
       "Predicting: 96it [00:00, ?it/s]"
      ]
     },
     "metadata": {},
     "output_type": "display_data"
    },
    {
     "data": {
      "application/vnd.jupyter.widget-view+json": {
       "model_id": "585b86fc154848e1b4c1715eb53549a9",
       "version_major": 2,
       "version_minor": 0
      },
      "text/plain": [
       "Predicting: 96it [00:00, ?it/s]"
      ]
     },
     "metadata": {},
     "output_type": "display_data"
    },
    {
     "data": {
      "application/vnd.jupyter.widget-view+json": {
       "model_id": "1a2e00e797c642c1963282e04ab95a3d",
       "version_major": 2,
       "version_minor": 0
      },
      "text/plain": [
       "Predicting: 96it [00:00, ?it/s]"
      ]
     },
     "metadata": {},
     "output_type": "display_data"
    },
    {
     "data": {
      "application/vnd.jupyter.widget-view+json": {
       "model_id": "2c5170288586432bac50d05209940338",
       "version_major": 2,
       "version_minor": 0
      },
      "text/plain": [
       "Predicting: 96it [00:00, ?it/s]"
      ]
     },
     "metadata": {},
     "output_type": "display_data"
    },
    {
     "data": {
      "application/vnd.jupyter.widget-view+json": {
       "model_id": "2b256b1d330b4ce59531bdf5b50f3bae",
       "version_major": 2,
       "version_minor": 0
      },
      "text/plain": [
       "Predicting: 96it [00:00, ?it/s]"
      ]
     },
     "metadata": {},
     "output_type": "display_data"
    },
    {
     "data": {
      "application/vnd.jupyter.widget-view+json": {
       "model_id": "db846b6939f04d799bd7cddb0e49d741",
       "version_major": 2,
       "version_minor": 0
      },
      "text/plain": [
       "Predicting: 96it [00:00, ?it/s]"
      ]
     },
     "metadata": {},
     "output_type": "display_data"
    },
    {
     "data": {
      "application/vnd.jupyter.widget-view+json": {
       "model_id": "0e9e4c76a38a4bf19616d23f3ab6e028",
       "version_major": 2,
       "version_minor": 0
      },
      "text/plain": [
       "Predicting: 96it [00:00, ?it/s]"
      ]
     },
     "metadata": {},
     "output_type": "display_data"
    },
    {
     "data": {
      "application/vnd.jupyter.widget-view+json": {
       "model_id": "0ecb1f41cc95423eb4e414dfc903c301",
       "version_major": 2,
       "version_minor": 0
      },
      "text/plain": [
       "Predicting: 96it [00:00, ?it/s]"
      ]
     },
     "metadata": {},
     "output_type": "display_data"
    },
    {
     "data": {
      "application/vnd.jupyter.widget-view+json": {
       "model_id": "7c69bf9db67943c8a4d0b56c2a5e962c",
       "version_major": 2,
       "version_minor": 0
      },
      "text/plain": [
       "Predicting: 96it [00:00, ?it/s]"
      ]
     },
     "metadata": {},
     "output_type": "display_data"
    },
    {
     "data": {
      "application/vnd.jupyter.widget-view+json": {
       "model_id": "0c36812cc8ec402284d36e7478ec74fe",
       "version_major": 2,
       "version_minor": 0
      },
      "text/plain": [
       "Predicting: 96it [00:00, ?it/s]"
      ]
     },
     "metadata": {},
     "output_type": "display_data"
    },
    {
     "data": {
      "application/vnd.jupyter.widget-view+json": {
       "model_id": "18e3704d684140bc89cd922b3b2d6df8",
       "version_major": 2,
       "version_minor": 0
      },
      "text/plain": [
       "Predicting: 96it [00:00, ?it/s]"
      ]
     },
     "metadata": {},
     "output_type": "display_data"
    },
    {
     "data": {
      "application/vnd.jupyter.widget-view+json": {
       "model_id": "c2f6f396a36849e3b09039455119bdb0",
       "version_major": 2,
       "version_minor": 0
      },
      "text/plain": [
       "Predicting: 96it [00:00, ?it/s]"
      ]
     },
     "metadata": {},
     "output_type": "display_data"
    },
    {
     "data": {
      "application/vnd.jupyter.widget-view+json": {
       "model_id": "be3a8d70f34e4422bf76555e33a8c652",
       "version_major": 2,
       "version_minor": 0
      },
      "text/plain": [
       "Predicting: 96it [00:00, ?it/s]"
      ]
     },
     "metadata": {},
     "output_type": "display_data"
    },
    {
     "data": {
      "application/vnd.jupyter.widget-view+json": {
       "model_id": "eb17cffc939f4f6187b27b5e4ce53878",
       "version_major": 2,
       "version_minor": 0
      },
      "text/plain": [
       "Predicting: 96it [00:00, ?it/s]"
      ]
     },
     "metadata": {},
     "output_type": "display_data"
    },
    {
     "data": {
      "application/vnd.jupyter.widget-view+json": {
       "model_id": "f4fc552024014cb4862588909d2487a6",
       "version_major": 2,
       "version_minor": 0
      },
      "text/plain": [
       "Predicting: 96it [00:00, ?it/s]"
      ]
     },
     "metadata": {},
     "output_type": "display_data"
    },
    {
     "data": {
      "application/vnd.jupyter.widget-view+json": {
       "model_id": "1a26cd5d5fe4433bb0ff68f6c0d0c7b8",
       "version_major": 2,
       "version_minor": 0
      },
      "text/plain": [
       "Predicting: 96it [00:00, ?it/s]"
      ]
     },
     "metadata": {},
     "output_type": "display_data"
    },
    {
     "data": {
      "application/vnd.jupyter.widget-view+json": {
       "model_id": "b9e7253a7e71499a9bbc94d15aed573e",
       "version_major": 2,
       "version_minor": 0
      },
      "text/plain": [
       "Predicting: 96it [00:00, ?it/s]"
      ]
     },
     "metadata": {},
     "output_type": "display_data"
    },
    {
     "data": {
      "application/vnd.jupyter.widget-view+json": {
       "model_id": "d0a30f4466984710b35ad90572d70b85",
       "version_major": 2,
       "version_minor": 0
      },
      "text/plain": [
       "Predicting: 96it [00:00, ?it/s]"
      ]
     },
     "metadata": {},
     "output_type": "display_data"
    },
    {
     "data": {
      "application/vnd.jupyter.widget-view+json": {
       "model_id": "2f481daf5824457892fcc988a074850e",
       "version_major": 2,
       "version_minor": 0
      },
      "text/plain": [
       "Predicting: 96it [00:00, ?it/s]"
      ]
     },
     "metadata": {},
     "output_type": "display_data"
    },
    {
     "data": {
      "application/vnd.jupyter.widget-view+json": {
       "model_id": "5b7bba5c256744c680c996b4d1ee4295",
       "version_major": 2,
       "version_minor": 0
      },
      "text/plain": [
       "Predicting: 96it [00:00, ?it/s]"
      ]
     },
     "metadata": {},
     "output_type": "display_data"
    },
    {
     "data": {
      "application/vnd.jupyter.widget-view+json": {
       "model_id": "ac585e0745114c5495ec89e5b792d060",
       "version_major": 2,
       "version_minor": 0
      },
      "text/plain": [
       "Predicting: 96it [00:00, ?it/s]"
      ]
     },
     "metadata": {},
     "output_type": "display_data"
    },
    {
     "data": {
      "application/vnd.jupyter.widget-view+json": {
       "model_id": "b284b4119536471d9c39c1d50313dc04",
       "version_major": 2,
       "version_minor": 0
      },
      "text/plain": [
       "Predicting: 96it [00:00, ?it/s]"
      ]
     },
     "metadata": {},
     "output_type": "display_data"
    },
    {
     "data": {
      "application/vnd.jupyter.widget-view+json": {
       "model_id": "5d8edfc45c864b4696c56580d99d7784",
       "version_major": 2,
       "version_minor": 0
      },
      "text/plain": [
       "Predicting: 96it [00:00, ?it/s]"
      ]
     },
     "metadata": {},
     "output_type": "display_data"
    },
    {
     "data": {
      "application/vnd.jupyter.widget-view+json": {
       "model_id": "abf459c295fd43d98343dd951299e5b5",
       "version_major": 2,
       "version_minor": 0
      },
      "text/plain": [
       "Predicting: 96it [00:00, ?it/s]"
      ]
     },
     "metadata": {},
     "output_type": "display_data"
    },
    {
     "data": {
      "application/vnd.jupyter.widget-view+json": {
       "model_id": "40663d7d4cd841a29fcd0de83f44ad1f",
       "version_major": 2,
       "version_minor": 0
      },
      "text/plain": [
       "Predicting: 96it [00:00, ?it/s]"
      ]
     },
     "metadata": {},
     "output_type": "display_data"
    },
    {
     "data": {
      "application/vnd.jupyter.widget-view+json": {
       "model_id": "7296e7e7c5d84847a522b62b7e072c20",
       "version_major": 2,
       "version_minor": 0
      },
      "text/plain": [
       "Predicting: 96it [00:00, ?it/s]"
      ]
     },
     "metadata": {},
     "output_type": "display_data"
    },
    {
     "data": {
      "application/vnd.jupyter.widget-view+json": {
       "model_id": "16c4c48ef9d643b9aade0d1a4aadbcbd",
       "version_major": 2,
       "version_minor": 0
      },
      "text/plain": [
       "Predicting: 96it [00:00, ?it/s]"
      ]
     },
     "metadata": {},
     "output_type": "display_data"
    },
    {
     "data": {
      "application/vnd.jupyter.widget-view+json": {
       "model_id": "afea11af0e804a0ca61571a2879f8a68",
       "version_major": 2,
       "version_minor": 0
      },
      "text/plain": [
       "Predicting: 96it [00:00, ?it/s]"
      ]
     },
     "metadata": {},
     "output_type": "display_data"
    },
    {
     "data": {
      "application/vnd.jupyter.widget-view+json": {
       "model_id": "5fcd2639528a4311bf3f9ee74af73536",
       "version_major": 2,
       "version_minor": 0
      },
      "text/plain": [
       "Predicting: 96it [00:00, ?it/s]"
      ]
     },
     "metadata": {},
     "output_type": "display_data"
    },
    {
     "data": {
      "application/vnd.jupyter.widget-view+json": {
       "model_id": "fe75db8ba638402983b81df0ea375cc7",
       "version_major": 2,
       "version_minor": 0
      },
      "text/plain": [
       "Predicting: 96it [00:00, ?it/s]"
      ]
     },
     "metadata": {},
     "output_type": "display_data"
    },
    {
     "data": {
      "application/vnd.jupyter.widget-view+json": {
       "model_id": "54289e107ead46f79d104a0b57b77401",
       "version_major": 2,
       "version_minor": 0
      },
      "text/plain": [
       "Predicting: 96it [00:00, ?it/s]"
      ]
     },
     "metadata": {},
     "output_type": "display_data"
    },
    {
     "data": {
      "application/vnd.jupyter.widget-view+json": {
       "model_id": "7dab7a3216424277866359e62ef3bc9f",
       "version_major": 2,
       "version_minor": 0
      },
      "text/plain": [
       "Predicting: 96it [00:00, ?it/s]"
      ]
     },
     "metadata": {},
     "output_type": "display_data"
    },
    {
     "data": {
      "application/vnd.jupyter.widget-view+json": {
       "model_id": "155edc16254c406f989ea03fac281a91",
       "version_major": 2,
       "version_minor": 0
      },
      "text/plain": [
       "Predicting: 96it [00:00, ?it/s]"
      ]
     },
     "metadata": {},
     "output_type": "display_data"
    },
    {
     "data": {
      "application/vnd.jupyter.widget-view+json": {
       "model_id": "418718d3aa81470c915080817694ac10",
       "version_major": 2,
       "version_minor": 0
      },
      "text/plain": [
       "Predicting: 96it [00:00, ?it/s]"
      ]
     },
     "metadata": {},
     "output_type": "display_data"
    },
    {
     "data": {
      "application/vnd.jupyter.widget-view+json": {
       "model_id": "67c7877f071241bdac30e9198fb90bcb",
       "version_major": 2,
       "version_minor": 0
      },
      "text/plain": [
       "Predicting: 96it [00:00, ?it/s]"
      ]
     },
     "metadata": {},
     "output_type": "display_data"
    },
    {
     "data": {
      "application/vnd.jupyter.widget-view+json": {
       "model_id": "c60fc3035f8b4890a9c5d27a9bbf1564",
       "version_major": 2,
       "version_minor": 0
      },
      "text/plain": [
       "Predicting: 96it [00:00, ?it/s]"
      ]
     },
     "metadata": {},
     "output_type": "display_data"
    },
    {
     "data": {
      "application/vnd.jupyter.widget-view+json": {
       "model_id": "97d5efc0972248a7a533b72ef6638071",
       "version_major": 2,
       "version_minor": 0
      },
      "text/plain": [
       "Predicting: 96it [00:00, ?it/s]"
      ]
     },
     "metadata": {},
     "output_type": "display_data"
    },
    {
     "data": {
      "application/vnd.jupyter.widget-view+json": {
       "model_id": "a5ba6526c38a49d6a5f2e0d1e8505ff5",
       "version_major": 2,
       "version_minor": 0
      },
      "text/plain": [
       "Predicting: 96it [00:00, ?it/s]"
      ]
     },
     "metadata": {},
     "output_type": "display_data"
    },
    {
     "data": {
      "application/vnd.jupyter.widget-view+json": {
       "model_id": "ad14259e19504f139018e2b3a675ce9a",
       "version_major": 2,
       "version_minor": 0
      },
      "text/plain": [
       "Predicting: 96it [00:00, ?it/s]"
      ]
     },
     "metadata": {},
     "output_type": "display_data"
    },
    {
     "data": {
      "application/vnd.jupyter.widget-view+json": {
       "model_id": "55c45b4294f54921bf0d592e13affd26",
       "version_major": 2,
       "version_minor": 0
      },
      "text/plain": [
       "Predicting: 96it [00:00, ?it/s]"
      ]
     },
     "metadata": {},
     "output_type": "display_data"
    },
    {
     "data": {
      "application/vnd.jupyter.widget-view+json": {
       "model_id": "3b35ce5f182b460fb79e8898bc04fbe3",
       "version_major": 2,
       "version_minor": 0
      },
      "text/plain": [
       "Predicting: 96it [00:00, ?it/s]"
      ]
     },
     "metadata": {},
     "output_type": "display_data"
    },
    {
     "data": {
      "application/vnd.jupyter.widget-view+json": {
       "model_id": "46cb171ffae04dbeb81fa8f7d4bb4943",
       "version_major": 2,
       "version_minor": 0
      },
      "text/plain": [
       "Predicting: 96it [00:00, ?it/s]"
      ]
     },
     "metadata": {},
     "output_type": "display_data"
    },
    {
     "data": {
      "application/vnd.jupyter.widget-view+json": {
       "model_id": "c1b1ececf0b648a3840d466e0365f4a1",
       "version_major": 2,
       "version_minor": 0
      },
      "text/plain": [
       "Predicting: 96it [00:00, ?it/s]"
      ]
     },
     "metadata": {},
     "output_type": "display_data"
    },
    {
     "data": {
      "application/vnd.jupyter.widget-view+json": {
       "model_id": "1025ec6bb5c049f493d9ddee3da20d7f",
       "version_major": 2,
       "version_minor": 0
      },
      "text/plain": [
       "Predicting: 96it [00:00, ?it/s]"
      ]
     },
     "metadata": {},
     "output_type": "display_data"
    },
    {
     "data": {
      "application/vnd.jupyter.widget-view+json": {
       "model_id": "f4c709b16ba448fab257bae2c2ac4f80",
       "version_major": 2,
       "version_minor": 0
      },
      "text/plain": [
       "Predicting: 96it [00:00, ?it/s]"
      ]
     },
     "metadata": {},
     "output_type": "display_data"
    },
    {
     "data": {
      "application/vnd.jupyter.widget-view+json": {
       "model_id": "d4ee598037ee49e0b0769303f692efe1",
       "version_major": 2,
       "version_minor": 0
      },
      "text/plain": [
       "Predicting: 96it [00:00, ?it/s]"
      ]
     },
     "metadata": {},
     "output_type": "display_data"
    },
    {
     "data": {
      "application/vnd.jupyter.widget-view+json": {
       "model_id": "6a16efeb73884dfb86b3ad78f83289e5",
       "version_major": 2,
       "version_minor": 0
      },
      "text/plain": [
       "Predicting: 96it [00:00, ?it/s]"
      ]
     },
     "metadata": {},
     "output_type": "display_data"
    },
    {
     "data": {
      "application/vnd.jupyter.widget-view+json": {
       "model_id": "46b25379a3f04c69b8a6f948150d1869",
       "version_major": 2,
       "version_minor": 0
      },
      "text/plain": [
       "Predicting: 96it [00:00, ?it/s]"
      ]
     },
     "metadata": {},
     "output_type": "display_data"
    },
    {
     "data": {
      "application/vnd.jupyter.widget-view+json": {
       "model_id": "7870ae87dc324510b6f0d39e5054d55f",
       "version_major": 2,
       "version_minor": 0
      },
      "text/plain": [
       "Predicting: 96it [00:00, ?it/s]"
      ]
     },
     "metadata": {},
     "output_type": "display_data"
    },
    {
     "data": {
      "application/vnd.jupyter.widget-view+json": {
       "model_id": "6c43479eb1a9454bb1dcffb02fe83ab8",
       "version_major": 2,
       "version_minor": 0
      },
      "text/plain": [
       "Predicting: 96it [00:00, ?it/s]"
      ]
     },
     "metadata": {},
     "output_type": "display_data"
    },
    {
     "data": {
      "application/vnd.jupyter.widget-view+json": {
       "model_id": "203febd929744aeea31aedf0f59b0363",
       "version_major": 2,
       "version_minor": 0
      },
      "text/plain": [
       "Predicting: 96it [00:00, ?it/s]"
      ]
     },
     "metadata": {},
     "output_type": "display_data"
    },
    {
     "data": {
      "application/vnd.jupyter.widget-view+json": {
       "model_id": "94f6711cc4b24d938c80774e21c23371",
       "version_major": 2,
       "version_minor": 0
      },
      "text/plain": [
       "Predicting: 96it [00:00, ?it/s]"
      ]
     },
     "metadata": {},
     "output_type": "display_data"
    },
    {
     "data": {
      "application/vnd.jupyter.widget-view+json": {
       "model_id": "df536e5facf1405f9705a5d5d3d51948",
       "version_major": 2,
       "version_minor": 0
      },
      "text/plain": [
       "Predicting: 96it [00:00, ?it/s]"
      ]
     },
     "metadata": {},
     "output_type": "display_data"
    },
    {
     "data": {
      "application/vnd.jupyter.widget-view+json": {
       "model_id": "d784cc54f7154d49885c1847291a8aa8",
       "version_major": 2,
       "version_minor": 0
      },
      "text/plain": [
       "Predicting: 96it [00:00, ?it/s]"
      ]
     },
     "metadata": {},
     "output_type": "display_data"
    },
    {
     "data": {
      "application/vnd.jupyter.widget-view+json": {
       "model_id": "d9051b34db504ae6b2bb12b0a0bc9af8",
       "version_major": 2,
       "version_minor": 0
      },
      "text/plain": [
       "Predicting: 96it [00:00, ?it/s]"
      ]
     },
     "metadata": {},
     "output_type": "display_data"
    },
    {
     "data": {
      "application/vnd.jupyter.widget-view+json": {
       "model_id": "8737a5a3a4214e2d93afa5101c5a982d",
       "version_major": 2,
       "version_minor": 0
      },
      "text/plain": [
       "Predicting: 96it [00:00, ?it/s]"
      ]
     },
     "metadata": {},
     "output_type": "display_data"
    },
    {
     "data": {
      "application/vnd.jupyter.widget-view+json": {
       "model_id": "fcadf7a9fd9047a7a4002cbfb89a3b6c",
       "version_major": 2,
       "version_minor": 0
      },
      "text/plain": [
       "Predicting: 96it [00:00, ?it/s]"
      ]
     },
     "metadata": {},
     "output_type": "display_data"
    },
    {
     "data": {
      "application/vnd.jupyter.widget-view+json": {
       "model_id": "f022460b5baf4626b73ab737e06b1474",
       "version_major": 2,
       "version_minor": 0
      },
      "text/plain": [
       "Predicting: 96it [00:00, ?it/s]"
      ]
     },
     "metadata": {},
     "output_type": "display_data"
    },
    {
     "data": {
      "application/vnd.jupyter.widget-view+json": {
       "model_id": "99347f5c73294844bffce35787b8f2ae",
       "version_major": 2,
       "version_minor": 0
      },
      "text/plain": [
       "Predicting: 96it [00:00, ?it/s]"
      ]
     },
     "metadata": {},
     "output_type": "display_data"
    },
    {
     "data": {
      "application/vnd.jupyter.widget-view+json": {
       "model_id": "83d43c14a5a24a8da635d1147e12f9c5",
       "version_major": 2,
       "version_minor": 0
      },
      "text/plain": [
       "Predicting: 96it [00:00, ?it/s]"
      ]
     },
     "metadata": {},
     "output_type": "display_data"
    },
    {
     "data": {
      "application/vnd.jupyter.widget-view+json": {
       "model_id": "07fe6754856e478385361f58107e5fe2",
       "version_major": 2,
       "version_minor": 0
      },
      "text/plain": [
       "Predicting: 96it [00:00, ?it/s]"
      ]
     },
     "metadata": {},
     "output_type": "display_data"
    },
    {
     "data": {
      "application/vnd.jupyter.widget-view+json": {
       "model_id": "8a9b4e3ea33e4ae2bcd53ccb12351ff6",
       "version_major": 2,
       "version_minor": 0
      },
      "text/plain": [
       "Predicting: 96it [00:00, ?it/s]"
      ]
     },
     "metadata": {},
     "output_type": "display_data"
    },
    {
     "data": {
      "application/vnd.jupyter.widget-view+json": {
       "model_id": "c17ac25443d842fe9419dbf8ceae634f",
       "version_major": 2,
       "version_minor": 0
      },
      "text/plain": [
       "Predicting: 96it [00:00, ?it/s]"
      ]
     },
     "metadata": {},
     "output_type": "display_data"
    },
    {
     "data": {
      "application/vnd.jupyter.widget-view+json": {
       "model_id": "3b99e7361ef74804b68cbf6023eda0cc",
       "version_major": 2,
       "version_minor": 0
      },
      "text/plain": [
       "Predicting: 96it [00:00, ?it/s]"
      ]
     },
     "metadata": {},
     "output_type": "display_data"
    },
    {
     "data": {
      "application/vnd.jupyter.widget-view+json": {
       "model_id": "22bac59d233f417da2f3eb110b9c6097",
       "version_major": 2,
       "version_minor": 0
      },
      "text/plain": [
       "Predicting: 96it [00:00, ?it/s]"
      ]
     },
     "metadata": {},
     "output_type": "display_data"
    },
    {
     "data": {
      "application/vnd.jupyter.widget-view+json": {
       "model_id": "49dd52db95ce4728b5ed6e68b654124a",
       "version_major": 2,
       "version_minor": 0
      },
      "text/plain": [
       "Predicting: 96it [00:00, ?it/s]"
      ]
     },
     "metadata": {},
     "output_type": "display_data"
    },
    {
     "data": {
      "application/vnd.jupyter.widget-view+json": {
       "model_id": "49b364a78ddf46908c2a64e729af04c6",
       "version_major": 2,
       "version_minor": 0
      },
      "text/plain": [
       "Predicting: 96it [00:00, ?it/s]"
      ]
     },
     "metadata": {},
     "output_type": "display_data"
    },
    {
     "data": {
      "application/vnd.jupyter.widget-view+json": {
       "model_id": "25f73bcc2c4a4b16bb9393f790253056",
       "version_major": 2,
       "version_minor": 0
      },
      "text/plain": [
       "Predicting: 96it [00:00, ?it/s]"
      ]
     },
     "metadata": {},
     "output_type": "display_data"
    },
    {
     "data": {
      "application/vnd.jupyter.widget-view+json": {
       "model_id": "ba9cb7cb27514b9da3184ad8d0aac791",
       "version_major": 2,
       "version_minor": 0
      },
      "text/plain": [
       "Predicting: 96it [00:00, ?it/s]"
      ]
     },
     "metadata": {},
     "output_type": "display_data"
    },
    {
     "data": {
      "application/vnd.jupyter.widget-view+json": {
       "model_id": "95c046647fac43c1831837f0fe7b0d67",
       "version_major": 2,
       "version_minor": 0
      },
      "text/plain": [
       "Predicting: 96it [00:00, ?it/s]"
      ]
     },
     "metadata": {},
     "output_type": "display_data"
    },
    {
     "data": {
      "application/vnd.jupyter.widget-view+json": {
       "model_id": "b2c5c1581d4747a3a63508b9b7629683",
       "version_major": 2,
       "version_minor": 0
      },
      "text/plain": [
       "Predicting: 96it [00:00, ?it/s]"
      ]
     },
     "metadata": {},
     "output_type": "display_data"
    },
    {
     "data": {
      "application/vnd.jupyter.widget-view+json": {
       "model_id": "253571c917b04b75b7d3ac44e4d18c54",
       "version_major": 2,
       "version_minor": 0
      },
      "text/plain": [
       "Predicting: 96it [00:00, ?it/s]"
      ]
     },
     "metadata": {},
     "output_type": "display_data"
    },
    {
     "data": {
      "application/vnd.jupyter.widget-view+json": {
       "model_id": "a032b3ba34114e77a7c56f0344e253f6",
       "version_major": 2,
       "version_minor": 0
      },
      "text/plain": [
       "Predicting: 96it [00:00, ?it/s]"
      ]
     },
     "metadata": {},
     "output_type": "display_data"
    },
    {
     "data": {
      "application/vnd.jupyter.widget-view+json": {
       "model_id": "5ea52a3c085941548c5ce25844434fa2",
       "version_major": 2,
       "version_minor": 0
      },
      "text/plain": [
       "Predicting: 96it [00:00, ?it/s]"
      ]
     },
     "metadata": {},
     "output_type": "display_data"
    },
    {
     "data": {
      "application/vnd.jupyter.widget-view+json": {
       "model_id": "8e34a492bd094806809090af5e90c5f4",
       "version_major": 2,
       "version_minor": 0
      },
      "text/plain": [
       "Predicting: 96it [00:00, ?it/s]"
      ]
     },
     "metadata": {},
     "output_type": "display_data"
    },
    {
     "data": {
      "application/vnd.jupyter.widget-view+json": {
       "model_id": "b00036994b074236abf0b6fc8c98b748",
       "version_major": 2,
       "version_minor": 0
      },
      "text/plain": [
       "Predicting: 96it [00:00, ?it/s]"
      ]
     },
     "metadata": {},
     "output_type": "display_data"
    },
    {
     "data": {
      "application/vnd.jupyter.widget-view+json": {
       "model_id": "fd67433a0b674bd38af216116f980e6e",
       "version_major": 2,
       "version_minor": 0
      },
      "text/plain": [
       "Predicting: 96it [00:00, ?it/s]"
      ]
     },
     "metadata": {},
     "output_type": "display_data"
    },
    {
     "data": {
      "application/vnd.jupyter.widget-view+json": {
       "model_id": "360b54edb1184c0ab69880c6da180bba",
       "version_major": 2,
       "version_minor": 0
      },
      "text/plain": [
       "Predicting: 96it [00:00, ?it/s]"
      ]
     },
     "metadata": {},
     "output_type": "display_data"
    },
    {
     "data": {
      "application/vnd.jupyter.widget-view+json": {
       "model_id": "be69ea675cfe4312928c68fa5e97dd36",
       "version_major": 2,
       "version_minor": 0
      },
      "text/plain": [
       "Predicting: 96it [00:00, ?it/s]"
      ]
     },
     "metadata": {},
     "output_type": "display_data"
    },
    {
     "data": {
      "application/vnd.jupyter.widget-view+json": {
       "model_id": "e0deb070505c4cccbe503541725addd4",
       "version_major": 2,
       "version_minor": 0
      },
      "text/plain": [
       "Predicting: 96it [00:00, ?it/s]"
      ]
     },
     "metadata": {},
     "output_type": "display_data"
    },
    {
     "data": {
      "application/vnd.jupyter.widget-view+json": {
       "model_id": "12c1855dbc1747349976ed58794cca96",
       "version_major": 2,
       "version_minor": 0
      },
      "text/plain": [
       "Predicting: 96it [00:00, ?it/s]"
      ]
     },
     "metadata": {},
     "output_type": "display_data"
    },
    {
     "data": {
      "application/vnd.jupyter.widget-view+json": {
       "model_id": "b5244b2d1a2e40ef9ebfc11ce0bab4c4",
       "version_major": 2,
       "version_minor": 0
      },
      "text/plain": [
       "Predicting: 96it [00:00, ?it/s]"
      ]
     },
     "metadata": {},
     "output_type": "display_data"
    },
    {
     "data": {
      "application/vnd.jupyter.widget-view+json": {
       "model_id": "5fc7e598bd1f4462aa1e678709745c1d",
       "version_major": 2,
       "version_minor": 0
      },
      "text/plain": [
       "Predicting: 96it [00:00, ?it/s]"
      ]
     },
     "metadata": {},
     "output_type": "display_data"
    },
    {
     "data": {
      "application/vnd.jupyter.widget-view+json": {
       "model_id": "89ac5420263745f49c2ca88b764cb61f",
       "version_major": 2,
       "version_minor": 0
      },
      "text/plain": [
       "Predicting: 96it [00:00, ?it/s]"
      ]
     },
     "metadata": {},
     "output_type": "display_data"
    },
    {
     "data": {
      "application/vnd.jupyter.widget-view+json": {
       "model_id": "7e5cbfeb29da486e8f6bc62400bfa3f9",
       "version_major": 2,
       "version_minor": 0
      },
      "text/plain": [
       "Predicting: 96it [00:00, ?it/s]"
      ]
     },
     "metadata": {},
     "output_type": "display_data"
    },
    {
     "data": {
      "application/vnd.jupyter.widget-view+json": {
       "model_id": "9855dc2a1ba94dc59a54ca0fc3abba8e",
       "version_major": 2,
       "version_minor": 0
      },
      "text/plain": [
       "Predicting: 96it [00:00, ?it/s]"
      ]
     },
     "metadata": {},
     "output_type": "display_data"
    },
    {
     "data": {
      "application/vnd.jupyter.widget-view+json": {
       "model_id": "4e87b77232e748ba95b4847565061b64",
       "version_major": 2,
       "version_minor": 0
      },
      "text/plain": [
       "Predicting: 96it [00:00, ?it/s]"
      ]
     },
     "metadata": {},
     "output_type": "display_data"
    },
    {
     "data": {
      "application/vnd.jupyter.widget-view+json": {
       "model_id": "15ff88333055437ab4fe67a8512e6b27",
       "version_major": 2,
       "version_minor": 0
      },
      "text/plain": [
       "Predicting: 96it [00:00, ?it/s]"
      ]
     },
     "metadata": {},
     "output_type": "display_data"
    },
    {
     "data": {
      "application/vnd.jupyter.widget-view+json": {
       "model_id": "09fd0ce496ff4cc7a6c37a19804b5983",
       "version_major": 2,
       "version_minor": 0
      },
      "text/plain": [
       "Predicting: 96it [00:00, ?it/s]"
      ]
     },
     "metadata": {},
     "output_type": "display_data"
    },
    {
     "data": {
      "application/vnd.jupyter.widget-view+json": {
       "model_id": "3980aa9f9e384ac2a623d681f0c86eb2",
       "version_major": 2,
       "version_minor": 0
      },
      "text/plain": [
       "Predicting: 96it [00:00, ?it/s]"
      ]
     },
     "metadata": {},
     "output_type": "display_data"
    },
    {
     "data": {
      "application/vnd.jupyter.widget-view+json": {
       "model_id": "48297a56d0f94ab0b9208a6fd7cbb91d",
       "version_major": 2,
       "version_minor": 0
      },
      "text/plain": [
       "Predicting: 96it [00:00, ?it/s]"
      ]
     },
     "metadata": {},
     "output_type": "display_data"
    },
    {
     "data": {
      "application/vnd.jupyter.widget-view+json": {
       "model_id": "fec64408b8c6497db7b33e3ceef049d1",
       "version_major": 2,
       "version_minor": 0
      },
      "text/plain": [
       "Predicting: 96it [00:00, ?it/s]"
      ]
     },
     "metadata": {},
     "output_type": "display_data"
    },
    {
     "data": {
      "application/vnd.jupyter.widget-view+json": {
       "model_id": "eb4a693a15bb44c9bfb37b8e5a160672",
       "version_major": 2,
       "version_minor": 0
      },
      "text/plain": [
       "Predicting: 96it [00:00, ?it/s]"
      ]
     },
     "metadata": {},
     "output_type": "display_data"
    },
    {
     "data": {
      "application/vnd.jupyter.widget-view+json": {
       "model_id": "e9bee3b9504140a58d4d218fe04a45e1",
       "version_major": 2,
       "version_minor": 0
      },
      "text/plain": [
       "Predicting: 96it [00:00, ?it/s]"
      ]
     },
     "metadata": {},
     "output_type": "display_data"
    },
    {
     "data": {
      "application/vnd.jupyter.widget-view+json": {
       "model_id": "aeedd1a5fa8d4182b5e6f74a1bf0b4ad",
       "version_major": 2,
       "version_minor": 0
      },
      "text/plain": [
       "Predicting: 96it [00:00, ?it/s]"
      ]
     },
     "metadata": {},
     "output_type": "display_data"
    },
    {
     "data": {
      "application/vnd.jupyter.widget-view+json": {
       "model_id": "d1ec6f1ac4304b98a0458a21da90528c",
       "version_major": 2,
       "version_minor": 0
      },
      "text/plain": [
       "Predicting: 96it [00:00, ?it/s]"
      ]
     },
     "metadata": {},
     "output_type": "display_data"
    },
    {
     "data": {
      "application/vnd.jupyter.widget-view+json": {
       "model_id": "447e411396344fbfa0ebfa6dfa51de16",
       "version_major": 2,
       "version_minor": 0
      },
      "text/plain": [
       "Predicting: 96it [00:00, ?it/s]"
      ]
     },
     "metadata": {},
     "output_type": "display_data"
    },
    {
     "data": {
      "application/vnd.jupyter.widget-view+json": {
       "model_id": "868e75337cc2418090e4979640517455",
       "version_major": 2,
       "version_minor": 0
      },
      "text/plain": [
       "Predicting: 96it [00:00, ?it/s]"
      ]
     },
     "metadata": {},
     "output_type": "display_data"
    },
    {
     "data": {
      "application/vnd.jupyter.widget-view+json": {
       "model_id": "5f4e091e95424279ad60b7eef848b40d",
       "version_major": 2,
       "version_minor": 0
      },
      "text/plain": [
       "Predicting: 96it [00:00, ?it/s]"
      ]
     },
     "metadata": {},
     "output_type": "display_data"
    },
    {
     "data": {
      "application/vnd.jupyter.widget-view+json": {
       "model_id": "76c294e249184d4e8c90c8ab5eb228b0",
       "version_major": 2,
       "version_minor": 0
      },
      "text/plain": [
       "Predicting: 96it [00:00, ?it/s]"
      ]
     },
     "metadata": {},
     "output_type": "display_data"
    },
    {
     "data": {
      "application/vnd.jupyter.widget-view+json": {
       "model_id": "0b4677ac41184fda8dfbf799cab9107d",
       "version_major": 2,
       "version_minor": 0
      },
      "text/plain": [
       "Predicting: 96it [00:00, ?it/s]"
      ]
     },
     "metadata": {},
     "output_type": "display_data"
    },
    {
     "data": {
      "application/vnd.jupyter.widget-view+json": {
       "model_id": "c038b164858647558e7cc448a029c41a",
       "version_major": 2,
       "version_minor": 0
      },
      "text/plain": [
       "Predicting: 96it [00:00, ?it/s]"
      ]
     },
     "metadata": {},
     "output_type": "display_data"
    },
    {
     "data": {
      "application/vnd.jupyter.widget-view+json": {
       "model_id": "dd055748963644ac9815d033830b3250",
       "version_major": 2,
       "version_minor": 0
      },
      "text/plain": [
       "Predicting: 96it [00:00, ?it/s]"
      ]
     },
     "metadata": {},
     "output_type": "display_data"
    },
    {
     "data": {
      "application/vnd.jupyter.widget-view+json": {
       "model_id": "e9afda93e5244b8897cdd78d03a78838",
       "version_major": 2,
       "version_minor": 0
      },
      "text/plain": [
       "Predicting: 96it [00:00, ?it/s]"
      ]
     },
     "metadata": {},
     "output_type": "display_data"
    },
    {
     "data": {
      "application/vnd.jupyter.widget-view+json": {
       "model_id": "bde90843bd464ed9991f9c9a8371e456",
       "version_major": 2,
       "version_minor": 0
      },
      "text/plain": [
       "Predicting: 96it [00:00, ?it/s]"
      ]
     },
     "metadata": {},
     "output_type": "display_data"
    },
    {
     "data": {
      "application/vnd.jupyter.widget-view+json": {
       "model_id": "6a70441abfca474c95db18a07a57b689",
       "version_major": 2,
       "version_minor": 0
      },
      "text/plain": [
       "Predicting: 96it [00:00, ?it/s]"
      ]
     },
     "metadata": {},
     "output_type": "display_data"
    },
    {
     "data": {
      "application/vnd.jupyter.widget-view+json": {
       "model_id": "f6d475e6812b4fc499bc9dda22efb21b",
       "version_major": 2,
       "version_minor": 0
      },
      "text/plain": [
       "Predicting: 96it [00:00, ?it/s]"
      ]
     },
     "metadata": {},
     "output_type": "display_data"
    },
    {
     "data": {
      "application/vnd.jupyter.widget-view+json": {
       "model_id": "d59228c778404f5c901f442a03c36ea5",
       "version_major": 2,
       "version_minor": 0
      },
      "text/plain": [
       "Predicting: 96it [00:00, ?it/s]"
      ]
     },
     "metadata": {},
     "output_type": "display_data"
    },
    {
     "data": {
      "application/vnd.jupyter.widget-view+json": {
       "model_id": "cacd79c4b6fd4800a23686817af13933",
       "version_major": 2,
       "version_minor": 0
      },
      "text/plain": [
       "Predicting: 96it [00:00, ?it/s]"
      ]
     },
     "metadata": {},
     "output_type": "display_data"
    },
    {
     "data": {
      "application/vnd.jupyter.widget-view+json": {
       "model_id": "897b9ffd4f3245039417811edb1bf53d",
       "version_major": 2,
       "version_minor": 0
      },
      "text/plain": [
       "Predicting: 96it [00:00, ?it/s]"
      ]
     },
     "metadata": {},
     "output_type": "display_data"
    },
    {
     "data": {
      "application/vnd.jupyter.widget-view+json": {
       "model_id": "f2c794ea9a4b49d8b2985329b38ac0ec",
       "version_major": 2,
       "version_minor": 0
      },
      "text/plain": [
       "Predicting: 96it [00:00, ?it/s]"
      ]
     },
     "metadata": {},
     "output_type": "display_data"
    },
    {
     "data": {
      "application/vnd.jupyter.widget-view+json": {
       "model_id": "3ba3bc3341a14aedaecae5b084014182",
       "version_major": 2,
       "version_minor": 0
      },
      "text/plain": [
       "Predicting: 96it [00:00, ?it/s]"
      ]
     },
     "metadata": {},
     "output_type": "display_data"
    },
    {
     "data": {
      "application/vnd.jupyter.widget-view+json": {
       "model_id": "f3aaaeb23f144787aa6fccca2c683e13",
       "version_major": 2,
       "version_minor": 0
      },
      "text/plain": [
       "Predicting: 96it [00:00, ?it/s]"
      ]
     },
     "metadata": {},
     "output_type": "display_data"
    },
    {
     "data": {
      "application/vnd.jupyter.widget-view+json": {
       "model_id": "2146a302af2d4611859c478ecdef7bf0",
       "version_major": 2,
       "version_minor": 0
      },
      "text/plain": [
       "Predicting: 96it [00:00, ?it/s]"
      ]
     },
     "metadata": {},
     "output_type": "display_data"
    },
    {
     "data": {
      "application/vnd.jupyter.widget-view+json": {
       "model_id": "6375bdccf12244828c7db37a47c07470",
       "version_major": 2,
       "version_minor": 0
      },
      "text/plain": [
       "Predicting: 96it [00:00, ?it/s]"
      ]
     },
     "metadata": {},
     "output_type": "display_data"
    },
    {
     "data": {
      "application/vnd.jupyter.widget-view+json": {
       "model_id": "f5e991986288466a88b1b081ad377163",
       "version_major": 2,
       "version_minor": 0
      },
      "text/plain": [
       "Predicting: 96it [00:00, ?it/s]"
      ]
     },
     "metadata": {},
     "output_type": "display_data"
    },
    {
     "data": {
      "application/vnd.jupyter.widget-view+json": {
       "model_id": "db292fa7729541978f9cede0ddfe8be8",
       "version_major": 2,
       "version_minor": 0
      },
      "text/plain": [
       "Predicting: 96it [00:00, ?it/s]"
      ]
     },
     "metadata": {},
     "output_type": "display_data"
    },
    {
     "data": {
      "application/vnd.jupyter.widget-view+json": {
       "model_id": "0921d7616ae6479aa62c182a44581986",
       "version_major": 2,
       "version_minor": 0
      },
      "text/plain": [
       "Predicting: 96it [00:00, ?it/s]"
      ]
     },
     "metadata": {},
     "output_type": "display_data"
    },
    {
     "data": {
      "application/vnd.jupyter.widget-view+json": {
       "model_id": "c9518e7fc817457e9a2bc6b373281a9a",
       "version_major": 2,
       "version_minor": 0
      },
      "text/plain": [
       "Predicting: 96it [00:00, ?it/s]"
      ]
     },
     "metadata": {},
     "output_type": "display_data"
    },
    {
     "data": {
      "application/vnd.jupyter.widget-view+json": {
       "model_id": "7187022f01204a88a857df4e90fe024e",
       "version_major": 2,
       "version_minor": 0
      },
      "text/plain": [
       "Predicting: 96it [00:00, ?it/s]"
      ]
     },
     "metadata": {},
     "output_type": "display_data"
    },
    {
     "data": {
      "application/vnd.jupyter.widget-view+json": {
       "model_id": "0a3597517aad4930bea4e2ba988feae2",
       "version_major": 2,
       "version_minor": 0
      },
      "text/plain": [
       "Predicting: 96it [00:00, ?it/s]"
      ]
     },
     "metadata": {},
     "output_type": "display_data"
    },
    {
     "data": {
      "application/vnd.jupyter.widget-view+json": {
       "model_id": "45d3c498ae1e45b28c78dcac3925b5fc",
       "version_major": 2,
       "version_minor": 0
      },
      "text/plain": [
       "Predicting: 96it [00:00, ?it/s]"
      ]
     },
     "metadata": {},
     "output_type": "display_data"
    },
    {
     "data": {
      "application/vnd.jupyter.widget-view+json": {
       "model_id": "2d55da413d1840c4846a52f6ed51384b",
       "version_major": 2,
       "version_minor": 0
      },
      "text/plain": [
       "Predicting: 96it [00:00, ?it/s]"
      ]
     },
     "metadata": {},
     "output_type": "display_data"
    },
    {
     "data": {
      "application/vnd.jupyter.widget-view+json": {
       "model_id": "8f5a87d8f67a4b3e87529485fe38a913",
       "version_major": 2,
       "version_minor": 0
      },
      "text/plain": [
       "Predicting: 96it [00:00, ?it/s]"
      ]
     },
     "metadata": {},
     "output_type": "display_data"
    },
    {
     "data": {
      "application/vnd.jupyter.widget-view+json": {
       "model_id": "7768011f9d0d4231b5ae69cb5f4e4a3f",
       "version_major": 2,
       "version_minor": 0
      },
      "text/plain": [
       "Predicting: 96it [00:00, ?it/s]"
      ]
     },
     "metadata": {},
     "output_type": "display_data"
    },
    {
     "data": {
      "application/vnd.jupyter.widget-view+json": {
       "model_id": "dc53532d784948c5ab724de42b14da80",
       "version_major": 2,
       "version_minor": 0
      },
      "text/plain": [
       "Predicting: 96it [00:00, ?it/s]"
      ]
     },
     "metadata": {},
     "output_type": "display_data"
    },
    {
     "data": {
      "application/vnd.jupyter.widget-view+json": {
       "model_id": "324f54674f6f440f8354f2e6c594636a",
       "version_major": 2,
       "version_minor": 0
      },
      "text/plain": [
       "Predicting: 96it [00:00, ?it/s]"
      ]
     },
     "metadata": {},
     "output_type": "display_data"
    },
    {
     "data": {
      "application/vnd.jupyter.widget-view+json": {
       "model_id": "22dc1c9aaf1348a1a2c45481d906c4b1",
       "version_major": 2,
       "version_minor": 0
      },
      "text/plain": [
       "Predicting: 96it [00:00, ?it/s]"
      ]
     },
     "metadata": {},
     "output_type": "display_data"
    },
    {
     "data": {
      "application/vnd.jupyter.widget-view+json": {
       "model_id": "a4dd9cc8e0ae4a49a59b7751042f0651",
       "version_major": 2,
       "version_minor": 0
      },
      "text/plain": [
       "Predicting: 96it [00:00, ?it/s]"
      ]
     },
     "metadata": {},
     "output_type": "display_data"
    },
    {
     "data": {
      "application/vnd.jupyter.widget-view+json": {
       "model_id": "25b40f751f484847afe53e6d0802bc0c",
       "version_major": 2,
       "version_minor": 0
      },
      "text/plain": [
       "Predicting: 96it [00:00, ?it/s]"
      ]
     },
     "metadata": {},
     "output_type": "display_data"
    },
    {
     "data": {
      "application/vnd.jupyter.widget-view+json": {
       "model_id": "d14888cd2e534419afb60626f28f6a49",
       "version_major": 2,
       "version_minor": 0
      },
      "text/plain": [
       "Predicting: 96it [00:00, ?it/s]"
      ]
     },
     "metadata": {},
     "output_type": "display_data"
    },
    {
     "data": {
      "application/vnd.jupyter.widget-view+json": {
       "model_id": "32a46e83a7344c25a299655324cd0f96",
       "version_major": 2,
       "version_minor": 0
      },
      "text/plain": [
       "Predicting: 96it [00:00, ?it/s]"
      ]
     },
     "metadata": {},
     "output_type": "display_data"
    },
    {
     "data": {
      "application/vnd.jupyter.widget-view+json": {
       "model_id": "d591f958ada742c19629aa1ef50f9d57",
       "version_major": 2,
       "version_minor": 0
      },
      "text/plain": [
       "Predicting: 96it [00:00, ?it/s]"
      ]
     },
     "metadata": {},
     "output_type": "display_data"
    },
    {
     "data": {
      "application/vnd.jupyter.widget-view+json": {
       "model_id": "b94d50a01d09442b99d014fd70861653",
       "version_major": 2,
       "version_minor": 0
      },
      "text/plain": [
       "Predicting: 96it [00:00, ?it/s]"
      ]
     },
     "metadata": {},
     "output_type": "display_data"
    },
    {
     "data": {
      "application/vnd.jupyter.widget-view+json": {
       "model_id": "20bfb1bb44044e66857ef839c09ebc92",
       "version_major": 2,
       "version_minor": 0
      },
      "text/plain": [
       "Predicting: 96it [00:00, ?it/s]"
      ]
     },
     "metadata": {},
     "output_type": "display_data"
    },
    {
     "data": {
      "application/vnd.jupyter.widget-view+json": {
       "model_id": "8a28d1edb08f4adabde97e2472687a94",
       "version_major": 2,
       "version_minor": 0
      },
      "text/plain": [
       "Predicting: 96it [00:00, ?it/s]"
      ]
     },
     "metadata": {},
     "output_type": "display_data"
    },
    {
     "data": {
      "application/vnd.jupyter.widget-view+json": {
       "model_id": "68363d827c6343d9b6787a4bc5b7b3f6",
       "version_major": 2,
       "version_minor": 0
      },
      "text/plain": [
       "Predicting: 96it [00:00, ?it/s]"
      ]
     },
     "metadata": {},
     "output_type": "display_data"
    },
    {
     "data": {
      "application/vnd.jupyter.widget-view+json": {
       "model_id": "724dfb96034e4e24add0ecab0a56d974",
       "version_major": 2,
       "version_minor": 0
      },
      "text/plain": [
       "Predicting: 96it [00:00, ?it/s]"
      ]
     },
     "metadata": {},
     "output_type": "display_data"
    },
    {
     "data": {
      "application/vnd.jupyter.widget-view+json": {
       "model_id": "89945c95edcd48d88324fedbb8dad5bd",
       "version_major": 2,
       "version_minor": 0
      },
      "text/plain": [
       "Predicting: 96it [00:00, ?it/s]"
      ]
     },
     "metadata": {},
     "output_type": "display_data"
    },
    {
     "data": {
      "application/vnd.jupyter.widget-view+json": {
       "model_id": "1a1b67e2a7f647199d5ce528e78f48b5",
       "version_major": 2,
       "version_minor": 0
      },
      "text/plain": [
       "Predicting: 96it [00:00, ?it/s]"
      ]
     },
     "metadata": {},
     "output_type": "display_data"
    },
    {
     "data": {
      "application/vnd.jupyter.widget-view+json": {
       "model_id": "691548c16fe14a488d5e670c2786e4c6",
       "version_major": 2,
       "version_minor": 0
      },
      "text/plain": [
       "Predicting: 96it [00:00, ?it/s]"
      ]
     },
     "metadata": {},
     "output_type": "display_data"
    },
    {
     "data": {
      "application/vnd.jupyter.widget-view+json": {
       "model_id": "d967ed9d25564d4c8097b2c3225e51ce",
       "version_major": 2,
       "version_minor": 0
      },
      "text/plain": [
       "Predicting: 96it [00:00, ?it/s]"
      ]
     },
     "metadata": {},
     "output_type": "display_data"
    },
    {
     "data": {
      "application/vnd.jupyter.widget-view+json": {
       "model_id": "8219efb2f80b43fe9de7483502df6733",
       "version_major": 2,
       "version_minor": 0
      },
      "text/plain": [
       "Predicting: 96it [00:00, ?it/s]"
      ]
     },
     "metadata": {},
     "output_type": "display_data"
    },
    {
     "data": {
      "application/vnd.jupyter.widget-view+json": {
       "model_id": "be853e2999e84bc78da5cbfb83c5f630",
       "version_major": 2,
       "version_minor": 0
      },
      "text/plain": [
       "Predicting: 96it [00:00, ?it/s]"
      ]
     },
     "metadata": {},
     "output_type": "display_data"
    },
    {
     "data": {
      "application/vnd.jupyter.widget-view+json": {
       "model_id": "64e8d289215142babe113bb0c7c74649",
       "version_major": 2,
       "version_minor": 0
      },
      "text/plain": [
       "Predicting: 96it [00:00, ?it/s]"
      ]
     },
     "metadata": {},
     "output_type": "display_data"
    },
    {
     "data": {
      "application/vnd.jupyter.widget-view+json": {
       "model_id": "177c1903b9ef463da1a1a4568e8e8caf",
       "version_major": 2,
       "version_minor": 0
      },
      "text/plain": [
       "Predicting: 96it [00:00, ?it/s]"
      ]
     },
     "metadata": {},
     "output_type": "display_data"
    },
    {
     "data": {
      "application/vnd.jupyter.widget-view+json": {
       "model_id": "0dab80620c4148dd948ed40800d4275c",
       "version_major": 2,
       "version_minor": 0
      },
      "text/plain": [
       "Predicting: 96it [00:00, ?it/s]"
      ]
     },
     "metadata": {},
     "output_type": "display_data"
    },
    {
     "data": {
      "application/vnd.jupyter.widget-view+json": {
       "model_id": "802bab4c30794bb7900e13b4e0136595",
       "version_major": 2,
       "version_minor": 0
      },
      "text/plain": [
       "Predicting: 96it [00:00, ?it/s]"
      ]
     },
     "metadata": {},
     "output_type": "display_data"
    },
    {
     "data": {
      "application/vnd.jupyter.widget-view+json": {
       "model_id": "32446e97b4bd4253a27a3aa8634daff5",
       "version_major": 2,
       "version_minor": 0
      },
      "text/plain": [
       "Predicting: 96it [00:00, ?it/s]"
      ]
     },
     "metadata": {},
     "output_type": "display_data"
    },
    {
     "data": {
      "application/vnd.jupyter.widget-view+json": {
       "model_id": "eb27eafccf12448aad073061ab3114ed",
       "version_major": 2,
       "version_minor": 0
      },
      "text/plain": [
       "Predicting: 96it [00:00, ?it/s]"
      ]
     },
     "metadata": {},
     "output_type": "display_data"
    },
    {
     "data": {
      "application/vnd.jupyter.widget-view+json": {
       "model_id": "04dc58fa8f62438fb32c39ebea7f7c97",
       "version_major": 2,
       "version_minor": 0
      },
      "text/plain": [
       "Predicting: 96it [00:00, ?it/s]"
      ]
     },
     "metadata": {},
     "output_type": "display_data"
    },
    {
     "data": {
      "application/vnd.jupyter.widget-view+json": {
       "model_id": "4198e853901a451d9dbb50989b0627d3",
       "version_major": 2,
       "version_minor": 0
      },
      "text/plain": [
       "Predicting: 96it [00:00, ?it/s]"
      ]
     },
     "metadata": {},
     "output_type": "display_data"
    },
    {
     "data": {
      "application/vnd.jupyter.widget-view+json": {
       "model_id": "1ee4e46bc663411e9adf385586dad1d2",
       "version_major": 2,
       "version_minor": 0
      },
      "text/plain": [
       "Predicting: 96it [00:00, ?it/s]"
      ]
     },
     "metadata": {},
     "output_type": "display_data"
    },
    {
     "data": {
      "application/vnd.jupyter.widget-view+json": {
       "model_id": "5c9ff689f9944695b77cce86e998d027",
       "version_major": 2,
       "version_minor": 0
      },
      "text/plain": [
       "Predicting: 96it [00:00, ?it/s]"
      ]
     },
     "metadata": {},
     "output_type": "display_data"
    },
    {
     "data": {
      "application/vnd.jupyter.widget-view+json": {
       "model_id": "1ee974e070314a1788e8c281a37c4c20",
       "version_major": 2,
       "version_minor": 0
      },
      "text/plain": [
       "Predicting: 96it [00:00, ?it/s]"
      ]
     },
     "metadata": {},
     "output_type": "display_data"
    },
    {
     "data": {
      "application/vnd.jupyter.widget-view+json": {
       "model_id": "b0c03f9432a74a33ab572314bb253a36",
       "version_major": 2,
       "version_minor": 0
      },
      "text/plain": [
       "Predicting: 96it [00:00, ?it/s]"
      ]
     },
     "metadata": {},
     "output_type": "display_data"
    },
    {
     "data": {
      "application/vnd.jupyter.widget-view+json": {
       "model_id": "3b0c5be8f7d243698eed26680dde750d",
       "version_major": 2,
       "version_minor": 0
      },
      "text/plain": [
       "Predicting: 96it [00:00, ?it/s]"
      ]
     },
     "metadata": {},
     "output_type": "display_data"
    },
    {
     "data": {
      "application/vnd.jupyter.widget-view+json": {
       "model_id": "c256a96d1eef4f5090ba5f98d2ae65e4",
       "version_major": 2,
       "version_minor": 0
      },
      "text/plain": [
       "Predicting: 96it [00:00, ?it/s]"
      ]
     },
     "metadata": {},
     "output_type": "display_data"
    },
    {
     "data": {
      "application/vnd.jupyter.widget-view+json": {
       "model_id": "1f1b04f22a8c4da2950980269a9917fa",
       "version_major": 2,
       "version_minor": 0
      },
      "text/plain": [
       "Predicting: 96it [00:00, ?it/s]"
      ]
     },
     "metadata": {},
     "output_type": "display_data"
    },
    {
     "data": {
      "application/vnd.jupyter.widget-view+json": {
       "model_id": "ca4142912b5c4d7098508f775f99cdb5",
       "version_major": 2,
       "version_minor": 0
      },
      "text/plain": [
       "Predicting: 96it [00:00, ?it/s]"
      ]
     },
     "metadata": {},
     "output_type": "display_data"
    },
    {
     "data": {
      "application/vnd.jupyter.widget-view+json": {
       "model_id": "d499b84b6c5145cea856396015157883",
       "version_major": 2,
       "version_minor": 0
      },
      "text/plain": [
       "Predicting: 96it [00:00, ?it/s]"
      ]
     },
     "metadata": {},
     "output_type": "display_data"
    },
    {
     "data": {
      "application/vnd.jupyter.widget-view+json": {
       "model_id": "de0c2dcce1ee4178adbb4f0c6aecc66e",
       "version_major": 2,
       "version_minor": 0
      },
      "text/plain": [
       "Predicting: 96it [00:00, ?it/s]"
      ]
     },
     "metadata": {},
     "output_type": "display_data"
    },
    {
     "data": {
      "application/vnd.jupyter.widget-view+json": {
       "model_id": "8b880819d5dc42baa8e5280800c1c369",
       "version_major": 2,
       "version_minor": 0
      },
      "text/plain": [
       "Predicting: 96it [00:00, ?it/s]"
      ]
     },
     "metadata": {},
     "output_type": "display_data"
    },
    {
     "data": {
      "application/vnd.jupyter.widget-view+json": {
       "model_id": "fbf179525eb24032ad32fbbc3c6ff6d9",
       "version_major": 2,
       "version_minor": 0
      },
      "text/plain": [
       "Predicting: 96it [00:00, ?it/s]"
      ]
     },
     "metadata": {},
     "output_type": "display_data"
    },
    {
     "data": {
      "application/vnd.jupyter.widget-view+json": {
       "model_id": "9ccd93d2737c495cbfabc31c4b9c8cb1",
       "version_major": 2,
       "version_minor": 0
      },
      "text/plain": [
       "Predicting: 96it [00:00, ?it/s]"
      ]
     },
     "metadata": {},
     "output_type": "display_data"
    },
    {
     "data": {
      "application/vnd.jupyter.widget-view+json": {
       "model_id": "f8d4e50557a244f2ad652de5f4f5fdee",
       "version_major": 2,
       "version_minor": 0
      },
      "text/plain": [
       "Predicting: 96it [00:00, ?it/s]"
      ]
     },
     "metadata": {},
     "output_type": "display_data"
    },
    {
     "data": {
      "application/vnd.jupyter.widget-view+json": {
       "model_id": "07095872515945349a1e9a9d2895c498",
       "version_major": 2,
       "version_minor": 0
      },
      "text/plain": [
       "Predicting: 96it [00:00, ?it/s]"
      ]
     },
     "metadata": {},
     "output_type": "display_data"
    },
    {
     "data": {
      "application/vnd.jupyter.widget-view+json": {
       "model_id": "3d8ff3fb3a5248aa92592c1708739521",
       "version_major": 2,
       "version_minor": 0
      },
      "text/plain": [
       "Predicting: 96it [00:00, ?it/s]"
      ]
     },
     "metadata": {},
     "output_type": "display_data"
    },
    {
     "data": {
      "application/vnd.jupyter.widget-view+json": {
       "model_id": "0a76283e0be74ecc9bec91d0dfbd34bc",
       "version_major": 2,
       "version_minor": 0
      },
      "text/plain": [
       "Predicting: 96it [00:00, ?it/s]"
      ]
     },
     "metadata": {},
     "output_type": "display_data"
    },
    {
     "data": {
      "application/vnd.jupyter.widget-view+json": {
       "model_id": "1f2eff8582ae444fbf784fb0c9b11a32",
       "version_major": 2,
       "version_minor": 0
      },
      "text/plain": [
       "Predicting: 96it [00:00, ?it/s]"
      ]
     },
     "metadata": {},
     "output_type": "display_data"
    },
    {
     "data": {
      "application/vnd.jupyter.widget-view+json": {
       "model_id": "73bd4d48714a41cc83d73d477c910401",
       "version_major": 2,
       "version_minor": 0
      },
      "text/plain": [
       "Predicting: 96it [00:00, ?it/s]"
      ]
     },
     "metadata": {},
     "output_type": "display_data"
    },
    {
     "data": {
      "application/vnd.jupyter.widget-view+json": {
       "model_id": "7006520a176f4e5c861f2116e48a2acc",
       "version_major": 2,
       "version_minor": 0
      },
      "text/plain": [
       "Predicting: 96it [00:00, ?it/s]"
      ]
     },
     "metadata": {},
     "output_type": "display_data"
    },
    {
     "data": {
      "application/vnd.jupyter.widget-view+json": {
       "model_id": "f4fbf5e9b96a46b08f7d22023ad2ce9d",
       "version_major": 2,
       "version_minor": 0
      },
      "text/plain": [
       "Predicting: 96it [00:00, ?it/s]"
      ]
     },
     "metadata": {},
     "output_type": "display_data"
    },
    {
     "data": {
      "application/vnd.jupyter.widget-view+json": {
       "model_id": "f87e9d0167524d08b19962472a8e322c",
       "version_major": 2,
       "version_minor": 0
      },
      "text/plain": [
       "Predicting: 96it [00:00, ?it/s]"
      ]
     },
     "metadata": {},
     "output_type": "display_data"
    },
    {
     "data": {
      "application/vnd.jupyter.widget-view+json": {
       "model_id": "a00eaa88c71a4ffdb77baeb6f6758bb4",
       "version_major": 2,
       "version_minor": 0
      },
      "text/plain": [
       "Predicting: 96it [00:00, ?it/s]"
      ]
     },
     "metadata": {},
     "output_type": "display_data"
    },
    {
     "data": {
      "application/vnd.jupyter.widget-view+json": {
       "model_id": "572e5e52b639451aa40e4f6091021d66",
       "version_major": 2,
       "version_minor": 0
      },
      "text/plain": [
       "Predicting: 96it [00:00, ?it/s]"
      ]
     },
     "metadata": {},
     "output_type": "display_data"
    },
    {
     "data": {
      "application/vnd.jupyter.widget-view+json": {
       "model_id": "9389cd29d364434f9e390946c0e7a560",
       "version_major": 2,
       "version_minor": 0
      },
      "text/plain": [
       "Predicting: 96it [00:00, ?it/s]"
      ]
     },
     "metadata": {},
     "output_type": "display_data"
    },
    {
     "data": {
      "application/vnd.jupyter.widget-view+json": {
       "model_id": "ff3174816ea444f69cdea8cc6dc5eff4",
       "version_major": 2,
       "version_minor": 0
      },
      "text/plain": [
       "Predicting: 96it [00:00, ?it/s]"
      ]
     },
     "metadata": {},
     "output_type": "display_data"
    },
    {
     "data": {
      "application/vnd.jupyter.widget-view+json": {
       "model_id": "b46f79a600af4e609bdf0b958237e5a4",
       "version_major": 2,
       "version_minor": 0
      },
      "text/plain": [
       "Predicting: 96it [00:00, ?it/s]"
      ]
     },
     "metadata": {},
     "output_type": "display_data"
    },
    {
     "data": {
      "application/vnd.jupyter.widget-view+json": {
       "model_id": "bff48cc0f0ec4ba788e3e88a9a433d43",
       "version_major": 2,
       "version_minor": 0
      },
      "text/plain": [
       "Predicting: 96it [00:00, ?it/s]"
      ]
     },
     "metadata": {},
     "output_type": "display_data"
    },
    {
     "data": {
      "application/vnd.jupyter.widget-view+json": {
       "model_id": "cd566c6fbfe64f9baf4f12c22ba5a578",
       "version_major": 2,
       "version_minor": 0
      },
      "text/plain": [
       "Predicting: 96it [00:00, ?it/s]"
      ]
     },
     "metadata": {},
     "output_type": "display_data"
    },
    {
     "data": {
      "application/vnd.jupyter.widget-view+json": {
       "model_id": "9bcce94eddf24a60b3bfec1ac2aabe75",
       "version_major": 2,
       "version_minor": 0
      },
      "text/plain": [
       "Predicting: 96it [00:00, ?it/s]"
      ]
     },
     "metadata": {},
     "output_type": "display_data"
    },
    {
     "data": {
      "application/vnd.jupyter.widget-view+json": {
       "model_id": "5112130da4eb43d6a5fba31dcfa0319e",
       "version_major": 2,
       "version_minor": 0
      },
      "text/plain": [
       "Predicting: 96it [00:00, ?it/s]"
      ]
     },
     "metadata": {},
     "output_type": "display_data"
    },
    {
     "data": {
      "application/vnd.jupyter.widget-view+json": {
       "model_id": "e92dd37386b84945a556a339c9d63582",
       "version_major": 2,
       "version_minor": 0
      },
      "text/plain": [
       "Predicting: 96it [00:00, ?it/s]"
      ]
     },
     "metadata": {},
     "output_type": "display_data"
    },
    {
     "data": {
      "application/vnd.jupyter.widget-view+json": {
       "model_id": "b385c0f0f1e7458db87fb39ec43ab58f",
       "version_major": 2,
       "version_minor": 0
      },
      "text/plain": [
       "Predicting: 96it [00:00, ?it/s]"
      ]
     },
     "metadata": {},
     "output_type": "display_data"
    },
    {
     "data": {
      "application/vnd.jupyter.widget-view+json": {
       "model_id": "c16b3492840f438f85a7b59ff10fc688",
       "version_major": 2,
       "version_minor": 0
      },
      "text/plain": [
       "Predicting: 96it [00:00, ?it/s]"
      ]
     },
     "metadata": {},
     "output_type": "display_data"
    },
    {
     "data": {
      "application/vnd.jupyter.widget-view+json": {
       "model_id": "429dd7498e82467280631ac3041728a5",
       "version_major": 2,
       "version_minor": 0
      },
      "text/plain": [
       "Predicting: 96it [00:00, ?it/s]"
      ]
     },
     "metadata": {},
     "output_type": "display_data"
    },
    {
     "data": {
      "application/vnd.jupyter.widget-view+json": {
       "model_id": "5170c9cc15004f90be6575f7b238dcb8",
       "version_major": 2,
       "version_minor": 0
      },
      "text/plain": [
       "Predicting: 96it [00:00, ?it/s]"
      ]
     },
     "metadata": {},
     "output_type": "display_data"
    },
    {
     "data": {
      "application/vnd.jupyter.widget-view+json": {
       "model_id": "6f66c3f1f3524eb4957d6d04eba9e482",
       "version_major": 2,
       "version_minor": 0
      },
      "text/plain": [
       "Predicting: 96it [00:00, ?it/s]"
      ]
     },
     "metadata": {},
     "output_type": "display_data"
    },
    {
     "data": {
      "application/vnd.jupyter.widget-view+json": {
       "model_id": "79c6376b09b84436a5b60dfe22a1c4d8",
       "version_major": 2,
       "version_minor": 0
      },
      "text/plain": [
       "Predicting: 96it [00:00, ?it/s]"
      ]
     },
     "metadata": {},
     "output_type": "display_data"
    },
    {
     "data": {
      "application/vnd.jupyter.widget-view+json": {
       "model_id": "24f02ca206a44d8d8517ab5ee76d24ba",
       "version_major": 2,
       "version_minor": 0
      },
      "text/plain": [
       "Predicting: 96it [00:00, ?it/s]"
      ]
     },
     "metadata": {},
     "output_type": "display_data"
    },
    {
     "data": {
      "application/vnd.jupyter.widget-view+json": {
       "model_id": "a7d7036e17b448618c60f2e5c31c6756",
       "version_major": 2,
       "version_minor": 0
      },
      "text/plain": [
       "Predicting: 96it [00:00, ?it/s]"
      ]
     },
     "metadata": {},
     "output_type": "display_data"
    },
    {
     "data": {
      "application/vnd.jupyter.widget-view+json": {
       "model_id": "63e90ceec3344c58bd54a41c04569e5f",
       "version_major": 2,
       "version_minor": 0
      },
      "text/plain": [
       "Predicting: 96it [00:00, ?it/s]"
      ]
     },
     "metadata": {},
     "output_type": "display_data"
    },
    {
     "data": {
      "application/vnd.jupyter.widget-view+json": {
       "model_id": "b3281ae173f345feacf07853d9a825ca",
       "version_major": 2,
       "version_minor": 0
      },
      "text/plain": [
       "Predicting: 96it [00:00, ?it/s]"
      ]
     },
     "metadata": {},
     "output_type": "display_data"
    },
    {
     "data": {
      "application/vnd.jupyter.widget-view+json": {
       "model_id": "4a83241bfde7436c8a92b789322b1631",
       "version_major": 2,
       "version_minor": 0
      },
      "text/plain": [
       "Predicting: 96it [00:00, ?it/s]"
      ]
     },
     "metadata": {},
     "output_type": "display_data"
    },
    {
     "data": {
      "application/vnd.jupyter.widget-view+json": {
       "model_id": "a1fbd57e3986447e82ff016d227ef674",
       "version_major": 2,
       "version_minor": 0
      },
      "text/plain": [
       "Predicting: 96it [00:00, ?it/s]"
      ]
     },
     "metadata": {},
     "output_type": "display_data"
    },
    {
     "data": {
      "application/vnd.jupyter.widget-view+json": {
       "model_id": "411128b3e32f4073b23e29443856e136",
       "version_major": 2,
       "version_minor": 0
      },
      "text/plain": [
       "Predicting: 96it [00:00, ?it/s]"
      ]
     },
     "metadata": {},
     "output_type": "display_data"
    },
    {
     "data": {
      "application/vnd.jupyter.widget-view+json": {
       "model_id": "2973b8b5aacf46f7a0263b2ab94d02e0",
       "version_major": 2,
       "version_minor": 0
      },
      "text/plain": [
       "Predicting: 96it [00:00, ?it/s]"
      ]
     },
     "metadata": {},
     "output_type": "display_data"
    },
    {
     "data": {
      "application/vnd.jupyter.widget-view+json": {
       "model_id": "e40467b1c607459aa472396daee0900b",
       "version_major": 2,
       "version_minor": 0
      },
      "text/plain": [
       "Predicting: 96it [00:00, ?it/s]"
      ]
     },
     "metadata": {},
     "output_type": "display_data"
    },
    {
     "data": {
      "application/vnd.jupyter.widget-view+json": {
       "model_id": "ccea5a1854154c00aa6031279dd4e220",
       "version_major": 2,
       "version_minor": 0
      },
      "text/plain": [
       "Predicting: 96it [00:00, ?it/s]"
      ]
     },
     "metadata": {},
     "output_type": "display_data"
    },
    {
     "data": {
      "application/vnd.jupyter.widget-view+json": {
       "model_id": "63a558e7d1c9432e9a170e4b7fe8b64b",
       "version_major": 2,
       "version_minor": 0
      },
      "text/plain": [
       "Predicting: 96it [00:00, ?it/s]"
      ]
     },
     "metadata": {},
     "output_type": "display_data"
    },
    {
     "data": {
      "application/vnd.jupyter.widget-view+json": {
       "model_id": "a2dda434d59042f794a069326592c1ed",
       "version_major": 2,
       "version_minor": 0
      },
      "text/plain": [
       "Predicting: 96it [00:00, ?it/s]"
      ]
     },
     "metadata": {},
     "output_type": "display_data"
    },
    {
     "data": {
      "application/vnd.jupyter.widget-view+json": {
       "model_id": "bcfa84be99d548058f6abf49d893ede3",
       "version_major": 2,
       "version_minor": 0
      },
      "text/plain": [
       "Predicting: 96it [00:00, ?it/s]"
      ]
     },
     "metadata": {},
     "output_type": "display_data"
    },
    {
     "data": {
      "application/vnd.jupyter.widget-view+json": {
       "model_id": "cca522be3e134f058fedb6df49ef2ecc",
       "version_major": 2,
       "version_minor": 0
      },
      "text/plain": [
       "Predicting: 96it [00:00, ?it/s]"
      ]
     },
     "metadata": {},
     "output_type": "display_data"
    },
    {
     "data": {
      "application/vnd.jupyter.widget-view+json": {
       "model_id": "b09319a7516146b1aac4eca35e06590a",
       "version_major": 2,
       "version_minor": 0
      },
      "text/plain": [
       "Predicting: 96it [00:00, ?it/s]"
      ]
     },
     "metadata": {},
     "output_type": "display_data"
    },
    {
     "data": {
      "application/vnd.jupyter.widget-view+json": {
       "model_id": "ff8af2495abe4dc1a1f1f08779477f5a",
       "version_major": 2,
       "version_minor": 0
      },
      "text/plain": [
       "Predicting: 96it [00:00, ?it/s]"
      ]
     },
     "metadata": {},
     "output_type": "display_data"
    },
    {
     "data": {
      "application/vnd.jupyter.widget-view+json": {
       "model_id": "db37b4597b79454ea95593d66b25e1e9",
       "version_major": 2,
       "version_minor": 0
      },
      "text/plain": [
       "Predicting: 96it [00:00, ?it/s]"
      ]
     },
     "metadata": {},
     "output_type": "display_data"
    },
    {
     "data": {
      "application/vnd.jupyter.widget-view+json": {
       "model_id": "feb190498d994d119329e26e6238effc",
       "version_major": 2,
       "version_minor": 0
      },
      "text/plain": [
       "Predicting: 96it [00:00, ?it/s]"
      ]
     },
     "metadata": {},
     "output_type": "display_data"
    },
    {
     "data": {
      "application/vnd.jupyter.widget-view+json": {
       "model_id": "225387f05a794329957e321cb3ea9eb4",
       "version_major": 2,
       "version_minor": 0
      },
      "text/plain": [
       "Predicting: 96it [00:00, ?it/s]"
      ]
     },
     "metadata": {},
     "output_type": "display_data"
    },
    {
     "data": {
      "application/vnd.jupyter.widget-view+json": {
       "model_id": "ad34d2a5fdc94a8a8fa69cade3c52824",
       "version_major": 2,
       "version_minor": 0
      },
      "text/plain": [
       "Predicting: 96it [00:00, ?it/s]"
      ]
     },
     "metadata": {},
     "output_type": "display_data"
    },
    {
     "data": {
      "application/vnd.jupyter.widget-view+json": {
       "model_id": "25744d1837cb48d9b5212eecccc57fc2",
       "version_major": 2,
       "version_minor": 0
      },
      "text/plain": [
       "Predicting: 96it [00:00, ?it/s]"
      ]
     },
     "metadata": {},
     "output_type": "display_data"
    },
    {
     "data": {
      "application/vnd.jupyter.widget-view+json": {
       "model_id": "34136857b1534d6eac394d328328ecde",
       "version_major": 2,
       "version_minor": 0
      },
      "text/plain": [
       "Predicting: 96it [00:00, ?it/s]"
      ]
     },
     "metadata": {},
     "output_type": "display_data"
    },
    {
     "data": {
      "application/vnd.jupyter.widget-view+json": {
       "model_id": "c53133d5d22a4feeacec7da418da2497",
       "version_major": 2,
       "version_minor": 0
      },
      "text/plain": [
       "Predicting: 96it [00:00, ?it/s]"
      ]
     },
     "metadata": {},
     "output_type": "display_data"
    },
    {
     "data": {
      "application/vnd.jupyter.widget-view+json": {
       "model_id": "1ba74e49ea994227a75bf3960f64989b",
       "version_major": 2,
       "version_minor": 0
      },
      "text/plain": [
       "Predicting: 96it [00:00, ?it/s]"
      ]
     },
     "metadata": {},
     "output_type": "display_data"
    },
    {
     "data": {
      "application/vnd.jupyter.widget-view+json": {
       "model_id": "1d34b1a5471f4571807973e54dcd71ef",
       "version_major": 2,
       "version_minor": 0
      },
      "text/plain": [
       "Predicting: 96it [00:00, ?it/s]"
      ]
     },
     "metadata": {},
     "output_type": "display_data"
    },
    {
     "data": {
      "application/vnd.jupyter.widget-view+json": {
       "model_id": "da2f8f4a75c84621a34fb077df5d4d23",
       "version_major": 2,
       "version_minor": 0
      },
      "text/plain": [
       "Predicting: 96it [00:00, ?it/s]"
      ]
     },
     "metadata": {},
     "output_type": "display_data"
    },
    {
     "data": {
      "application/vnd.jupyter.widget-view+json": {
       "model_id": "ec71248248fe4416a0fcfa7d1fe6c09f",
       "version_major": 2,
       "version_minor": 0
      },
      "text/plain": [
       "Predicting: 96it [00:00, ?it/s]"
      ]
     },
     "metadata": {},
     "output_type": "display_data"
    },
    {
     "data": {
      "application/vnd.jupyter.widget-view+json": {
       "model_id": "a7d81d3582b84e87b167ac5c6984bac0",
       "version_major": 2,
       "version_minor": 0
      },
      "text/plain": [
       "Predicting: 96it [00:00, ?it/s]"
      ]
     },
     "metadata": {},
     "output_type": "display_data"
    },
    {
     "data": {
      "application/vnd.jupyter.widget-view+json": {
       "model_id": "aecaa32fa4c84770a06471d35a37aa46",
       "version_major": 2,
       "version_minor": 0
      },
      "text/plain": [
       "Predicting: 96it [00:00, ?it/s]"
      ]
     },
     "metadata": {},
     "output_type": "display_data"
    },
    {
     "data": {
      "application/vnd.jupyter.widget-view+json": {
       "model_id": "f75fbb30f1d54de3b46bac2a61408c05",
       "version_major": 2,
       "version_minor": 0
      },
      "text/plain": [
       "Predicting: 96it [00:00, ?it/s]"
      ]
     },
     "metadata": {},
     "output_type": "display_data"
    },
    {
     "data": {
      "application/vnd.jupyter.widget-view+json": {
       "model_id": "8da4b1a03ec54420bbb758ccd7fd38f6",
       "version_major": 2,
       "version_minor": 0
      },
      "text/plain": [
       "Predicting: 96it [00:00, ?it/s]"
      ]
     },
     "metadata": {},
     "output_type": "display_data"
    },
    {
     "data": {
      "application/vnd.jupyter.widget-view+json": {
       "model_id": "ba3678ff14ae40ac943ef6a7a720250a",
       "version_major": 2,
       "version_minor": 0
      },
      "text/plain": [
       "Predicting: 96it [00:00, ?it/s]"
      ]
     },
     "metadata": {},
     "output_type": "display_data"
    },
    {
     "data": {
      "application/vnd.jupyter.widget-view+json": {
       "model_id": "0142037f0ab24135bdffd90ef503c777",
       "version_major": 2,
       "version_minor": 0
      },
      "text/plain": [
       "Predicting: 96it [00:00, ?it/s]"
      ]
     },
     "metadata": {},
     "output_type": "display_data"
    },
    {
     "data": {
      "application/vnd.jupyter.widget-view+json": {
       "model_id": "11ef38e70a154d2e97e298dbaed63292",
       "version_major": 2,
       "version_minor": 0
      },
      "text/plain": [
       "Predicting: 96it [00:00, ?it/s]"
      ]
     },
     "metadata": {},
     "output_type": "display_data"
    },
    {
     "data": {
      "application/vnd.jupyter.widget-view+json": {
       "model_id": "e657f472cca34e5a89a39235af133141",
       "version_major": 2,
       "version_minor": 0
      },
      "text/plain": [
       "Predicting: 96it [00:00, ?it/s]"
      ]
     },
     "metadata": {},
     "output_type": "display_data"
    },
    {
     "data": {
      "application/vnd.jupyter.widget-view+json": {
       "model_id": "88934d822fba4edeb4efa7285f03570a",
       "version_major": 2,
       "version_minor": 0
      },
      "text/plain": [
       "Predicting: 96it [00:00, ?it/s]"
      ]
     },
     "metadata": {},
     "output_type": "display_data"
    },
    {
     "data": {
      "application/vnd.jupyter.widget-view+json": {
       "model_id": "af51990d99b9441b8cdd2c751aee050c",
       "version_major": 2,
       "version_minor": 0
      },
      "text/plain": [
       "Predicting: 96it [00:00, ?it/s]"
      ]
     },
     "metadata": {},
     "output_type": "display_data"
    },
    {
     "data": {
      "application/vnd.jupyter.widget-view+json": {
       "model_id": "5a0fa61f81df4527a8808163cc3b0181",
       "version_major": 2,
       "version_minor": 0
      },
      "text/plain": [
       "Predicting: 96it [00:00, ?it/s]"
      ]
     },
     "metadata": {},
     "output_type": "display_data"
    },
    {
     "data": {
      "application/vnd.jupyter.widget-view+json": {
       "model_id": "db9d3aa9f33a421eb7a495a64d4108e9",
       "version_major": 2,
       "version_minor": 0
      },
      "text/plain": [
       "Predicting: 96it [00:00, ?it/s]"
      ]
     },
     "metadata": {},
     "output_type": "display_data"
    },
    {
     "data": {
      "application/vnd.jupyter.widget-view+json": {
       "model_id": "99ff046d92514b91982c6ac6efe66fcd",
       "version_major": 2,
       "version_minor": 0
      },
      "text/plain": [
       "Predicting: 96it [00:00, ?it/s]"
      ]
     },
     "metadata": {},
     "output_type": "display_data"
    },
    {
     "data": {
      "application/vnd.jupyter.widget-view+json": {
       "model_id": "72d911d8cb054770ac4e5f97d4ef53ae",
       "version_major": 2,
       "version_minor": 0
      },
      "text/plain": [
       "Predicting: 96it [00:00, ?it/s]"
      ]
     },
     "metadata": {},
     "output_type": "display_data"
    },
    {
     "data": {
      "application/vnd.jupyter.widget-view+json": {
       "model_id": "e689a8d928b2493c9d58de7c8fe77dc3",
       "version_major": 2,
       "version_minor": 0
      },
      "text/plain": [
       "Predicting: 96it [00:00, ?it/s]"
      ]
     },
     "metadata": {},
     "output_type": "display_data"
    },
    {
     "data": {
      "application/vnd.jupyter.widget-view+json": {
       "model_id": "b0f927a6b4834e39b2f7100a79dec828",
       "version_major": 2,
       "version_minor": 0
      },
      "text/plain": [
       "Predicting: 96it [00:00, ?it/s]"
      ]
     },
     "metadata": {},
     "output_type": "display_data"
    },
    {
     "data": {
      "application/vnd.jupyter.widget-view+json": {
       "model_id": "293ad446ed0047ffaf992a55ca5a4475",
       "version_major": 2,
       "version_minor": 0
      },
      "text/plain": [
       "Predicting: 96it [00:00, ?it/s]"
      ]
     },
     "metadata": {},
     "output_type": "display_data"
    },
    {
     "data": {
      "application/vnd.jupyter.widget-view+json": {
       "model_id": "ea7dab0dfc4c47079a89d90a7f42bfc4",
       "version_major": 2,
       "version_minor": 0
      },
      "text/plain": [
       "Predicting: 96it [00:00, ?it/s]"
      ]
     },
     "metadata": {},
     "output_type": "display_data"
    },
    {
     "data": {
      "application/vnd.jupyter.widget-view+json": {
       "model_id": "bf66e225b3cc4627aa97afa7c45a013d",
       "version_major": 2,
       "version_minor": 0
      },
      "text/plain": [
       "Predicting: 96it [00:00, ?it/s]"
      ]
     },
     "metadata": {},
     "output_type": "display_data"
    },
    {
     "data": {
      "application/vnd.jupyter.widget-view+json": {
       "model_id": "e0cd7fc5407d4cb88f0c1f8ed5ed885d",
       "version_major": 2,
       "version_minor": 0
      },
      "text/plain": [
       "Predicting: 96it [00:00, ?it/s]"
      ]
     },
     "metadata": {},
     "output_type": "display_data"
    },
    {
     "data": {
      "application/vnd.jupyter.widget-view+json": {
       "model_id": "59cf9ed698d04fe89a0861f9da9fac09",
       "version_major": 2,
       "version_minor": 0
      },
      "text/plain": [
       "Predicting: 96it [00:00, ?it/s]"
      ]
     },
     "metadata": {},
     "output_type": "display_data"
    },
    {
     "data": {
      "application/vnd.jupyter.widget-view+json": {
       "model_id": "8a5a8eaeda5d4436b564948b00b07b13",
       "version_major": 2,
       "version_minor": 0
      },
      "text/plain": [
       "Predicting: 96it [00:00, ?it/s]"
      ]
     },
     "metadata": {},
     "output_type": "display_data"
    },
    {
     "data": {
      "application/vnd.jupyter.widget-view+json": {
       "model_id": "3ac0406edd0641a1b9cca416565e5324",
       "version_major": 2,
       "version_minor": 0
      },
      "text/plain": [
       "Predicting: 96it [00:00, ?it/s]"
      ]
     },
     "metadata": {},
     "output_type": "display_data"
    },
    {
     "data": {
      "application/vnd.jupyter.widget-view+json": {
       "model_id": "34df85012f97485985507f44df9d8236",
       "version_major": 2,
       "version_minor": 0
      },
      "text/plain": [
       "Predicting: 96it [00:00, ?it/s]"
      ]
     },
     "metadata": {},
     "output_type": "display_data"
    },
    {
     "data": {
      "application/vnd.jupyter.widget-view+json": {
       "model_id": "6ff9f0eadd25473587d7215d1c0428c0",
       "version_major": 2,
       "version_minor": 0
      },
      "text/plain": [
       "Predicting: 96it [00:00, ?it/s]"
      ]
     },
     "metadata": {},
     "output_type": "display_data"
    },
    {
     "data": {
      "application/vnd.jupyter.widget-view+json": {
       "model_id": "aae5fd3a09644e3a866426a534943a3c",
       "version_major": 2,
       "version_minor": 0
      },
      "text/plain": [
       "Predicting: 96it [00:00, ?it/s]"
      ]
     },
     "metadata": {},
     "output_type": "display_data"
    },
    {
     "data": {
      "application/vnd.jupyter.widget-view+json": {
       "model_id": "6e1cd6af2bcb42b4b18dd17ef79dda8b",
       "version_major": 2,
       "version_minor": 0
      },
      "text/plain": [
       "Predicting: 96it [00:00, ?it/s]"
      ]
     },
     "metadata": {},
     "output_type": "display_data"
    },
    {
     "data": {
      "application/vnd.jupyter.widget-view+json": {
       "model_id": "63346f9411004f22902627913c1ee2bd",
       "version_major": 2,
       "version_minor": 0
      },
      "text/plain": [
       "Predicting: 96it [00:00, ?it/s]"
      ]
     },
     "metadata": {},
     "output_type": "display_data"
    },
    {
     "data": {
      "application/vnd.jupyter.widget-view+json": {
       "model_id": "c67b05b2383a40b9ad2516db5bcf79c0",
       "version_major": 2,
       "version_minor": 0
      },
      "text/plain": [
       "Predicting: 96it [00:00, ?it/s]"
      ]
     },
     "metadata": {},
     "output_type": "display_data"
    },
    {
     "data": {
      "application/vnd.jupyter.widget-view+json": {
       "model_id": "4f14dd33c4624387827cb7d191f97692",
       "version_major": 2,
       "version_minor": 0
      },
      "text/plain": [
       "Predicting: 96it [00:00, ?it/s]"
      ]
     },
     "metadata": {},
     "output_type": "display_data"
    },
    {
     "data": {
      "application/vnd.jupyter.widget-view+json": {
       "model_id": "8c6d4d5a25934c23b4a388f49bab16f7",
       "version_major": 2,
       "version_minor": 0
      },
      "text/plain": [
       "Predicting: 96it [00:00, ?it/s]"
      ]
     },
     "metadata": {},
     "output_type": "display_data"
    },
    {
     "data": {
      "application/vnd.jupyter.widget-view+json": {
       "model_id": "c9c9544508784f16918eaa2ee21b3f8e",
       "version_major": 2,
       "version_minor": 0
      },
      "text/plain": [
       "Predicting: 96it [00:00, ?it/s]"
      ]
     },
     "metadata": {},
     "output_type": "display_data"
    },
    {
     "data": {
      "application/vnd.jupyter.widget-view+json": {
       "model_id": "a617428538024fd7a2354d788358648f",
       "version_major": 2,
       "version_minor": 0
      },
      "text/plain": [
       "Predicting: 96it [00:00, ?it/s]"
      ]
     },
     "metadata": {},
     "output_type": "display_data"
    },
    {
     "data": {
      "application/vnd.jupyter.widget-view+json": {
       "model_id": "a2e6761623b9468d9ad81af4f21cb911",
       "version_major": 2,
       "version_minor": 0
      },
      "text/plain": [
       "Predicting: 96it [00:00, ?it/s]"
      ]
     },
     "metadata": {},
     "output_type": "display_data"
    },
    {
     "data": {
      "application/vnd.jupyter.widget-view+json": {
       "model_id": "a9b891d24a954cea9a9fecbfd11dcf76",
       "version_major": 2,
       "version_minor": 0
      },
      "text/plain": [
       "Predicting: 96it [00:00, ?it/s]"
      ]
     },
     "metadata": {},
     "output_type": "display_data"
    },
    {
     "data": {
      "application/vnd.jupyter.widget-view+json": {
       "model_id": "8174010be7124d97918615372afb2a0e",
       "version_major": 2,
       "version_minor": 0
      },
      "text/plain": [
       "Predicting: 96it [00:00, ?it/s]"
      ]
     },
     "metadata": {},
     "output_type": "display_data"
    },
    {
     "data": {
      "application/vnd.jupyter.widget-view+json": {
       "model_id": "e286621dde734f8f8d4e3fa018d4dbb2",
       "version_major": 2,
       "version_minor": 0
      },
      "text/plain": [
       "Predicting: 96it [00:00, ?it/s]"
      ]
     },
     "metadata": {},
     "output_type": "display_data"
    },
    {
     "data": {
      "application/vnd.jupyter.widget-view+json": {
       "model_id": "20024cf3218046c3832ae0ed8cead749",
       "version_major": 2,
       "version_minor": 0
      },
      "text/plain": [
       "Predicting: 96it [00:00, ?it/s]"
      ]
     },
     "metadata": {},
     "output_type": "display_data"
    },
    {
     "data": {
      "application/vnd.jupyter.widget-view+json": {
       "model_id": "df2f62f74cce4a64b111583d16c27a2e",
       "version_major": 2,
       "version_minor": 0
      },
      "text/plain": [
       "Predicting: 96it [00:00, ?it/s]"
      ]
     },
     "metadata": {},
     "output_type": "display_data"
    },
    {
     "data": {
      "application/vnd.jupyter.widget-view+json": {
       "model_id": "2ed9eabdc92043adb35e7afc1bbe39d9",
       "version_major": 2,
       "version_minor": 0
      },
      "text/plain": [
       "Predicting: 96it [00:00, ?it/s]"
      ]
     },
     "metadata": {},
     "output_type": "display_data"
    },
    {
     "data": {
      "application/vnd.jupyter.widget-view+json": {
       "model_id": "5ac6b04630f742c0ad75aa2658672397",
       "version_major": 2,
       "version_minor": 0
      },
      "text/plain": [
       "Predicting: 96it [00:00, ?it/s]"
      ]
     },
     "metadata": {},
     "output_type": "display_data"
    },
    {
     "data": {
      "application/vnd.jupyter.widget-view+json": {
       "model_id": "55a81c756815411daea1270940c6cb6c",
       "version_major": 2,
       "version_minor": 0
      },
      "text/plain": [
       "Predicting: 96it [00:00, ?it/s]"
      ]
     },
     "metadata": {},
     "output_type": "display_data"
    },
    {
     "data": {
      "application/vnd.jupyter.widget-view+json": {
       "model_id": "970c9fa35f6443668ffb2509dc556bb6",
       "version_major": 2,
       "version_minor": 0
      },
      "text/plain": [
       "Predicting: 96it [00:00, ?it/s]"
      ]
     },
     "metadata": {},
     "output_type": "display_data"
    },
    {
     "data": {
      "application/vnd.jupyter.widget-view+json": {
       "model_id": "c145fa5f9a814d9faafcb6718290ef7f",
       "version_major": 2,
       "version_minor": 0
      },
      "text/plain": [
       "Predicting: 96it [00:00, ?it/s]"
      ]
     },
     "metadata": {},
     "output_type": "display_data"
    },
    {
     "data": {
      "application/vnd.jupyter.widget-view+json": {
       "model_id": "54fa22fb728343468bbf2e8a998e8130",
       "version_major": 2,
       "version_minor": 0
      },
      "text/plain": [
       "Predicting: 96it [00:00, ?it/s]"
      ]
     },
     "metadata": {},
     "output_type": "display_data"
    },
    {
     "data": {
      "application/vnd.jupyter.widget-view+json": {
       "model_id": "02ced488bef242c093cca9e2abefca5c",
       "version_major": 2,
       "version_minor": 0
      },
      "text/plain": [
       "Predicting: 96it [00:00, ?it/s]"
      ]
     },
     "metadata": {},
     "output_type": "display_data"
    },
    {
     "data": {
      "application/vnd.jupyter.widget-view+json": {
       "model_id": "41ea64c5960946188a36793cd8ea4d3d",
       "version_major": 2,
       "version_minor": 0
      },
      "text/plain": [
       "Predicting: 96it [00:00, ?it/s]"
      ]
     },
     "metadata": {},
     "output_type": "display_data"
    },
    {
     "data": {
      "application/vnd.jupyter.widget-view+json": {
       "model_id": "418bb7d8e24442b59111767e91c03ef8",
       "version_major": 2,
       "version_minor": 0
      },
      "text/plain": [
       "Predicting: 96it [00:00, ?it/s]"
      ]
     },
     "metadata": {},
     "output_type": "display_data"
    },
    {
     "data": {
      "application/vnd.jupyter.widget-view+json": {
       "model_id": "c481299cf1684e00bb885f1f7786e6db",
       "version_major": 2,
       "version_minor": 0
      },
      "text/plain": [
       "Predicting: 96it [00:00, ?it/s]"
      ]
     },
     "metadata": {},
     "output_type": "display_data"
    },
    {
     "data": {
      "application/vnd.jupyter.widget-view+json": {
       "model_id": "c33e9db41bb04aa397d7dae17f4323e6",
       "version_major": 2,
       "version_minor": 0
      },
      "text/plain": [
       "Predicting: 96it [00:00, ?it/s]"
      ]
     },
     "metadata": {},
     "output_type": "display_data"
    },
    {
     "data": {
      "application/vnd.jupyter.widget-view+json": {
       "model_id": "717da0bb7c90437694e8a1143abb913d",
       "version_major": 2,
       "version_minor": 0
      },
      "text/plain": [
       "Predicting: 96it [00:00, ?it/s]"
      ]
     },
     "metadata": {},
     "output_type": "display_data"
    },
    {
     "data": {
      "application/vnd.jupyter.widget-view+json": {
       "model_id": "cfc74340fa6340beb9695227c9377eeb",
       "version_major": 2,
       "version_minor": 0
      },
      "text/plain": [
       "Predicting: 96it [00:00, ?it/s]"
      ]
     },
     "metadata": {},
     "output_type": "display_data"
    },
    {
     "data": {
      "application/vnd.jupyter.widget-view+json": {
       "model_id": "b9111c5721144c0b8c79c63c0d19abdc",
       "version_major": 2,
       "version_minor": 0
      },
      "text/plain": [
       "Predicting: 96it [00:00, ?it/s]"
      ]
     },
     "metadata": {},
     "output_type": "display_data"
    },
    {
     "data": {
      "application/vnd.jupyter.widget-view+json": {
       "model_id": "85434250d8f44396a215e92ed7b74bb4",
       "version_major": 2,
       "version_minor": 0
      },
      "text/plain": [
       "Predicting: 96it [00:00, ?it/s]"
      ]
     },
     "metadata": {},
     "output_type": "display_data"
    },
    {
     "data": {
      "application/vnd.jupyter.widget-view+json": {
       "model_id": "2c0b4652caae4b7aaefa741874750a3a",
       "version_major": 2,
       "version_minor": 0
      },
      "text/plain": [
       "Predicting: 96it [00:00, ?it/s]"
      ]
     },
     "metadata": {},
     "output_type": "display_data"
    },
    {
     "data": {
      "application/vnd.jupyter.widget-view+json": {
       "model_id": "e07a4f19fe304b7e85773613e15d0115",
       "version_major": 2,
       "version_minor": 0
      },
      "text/plain": [
       "Predicting: 96it [00:00, ?it/s]"
      ]
     },
     "metadata": {},
     "output_type": "display_data"
    },
    {
     "data": {
      "application/vnd.jupyter.widget-view+json": {
       "model_id": "084d0b037d694302aa44643ccb295abf",
       "version_major": 2,
       "version_minor": 0
      },
      "text/plain": [
       "Predicting: 96it [00:00, ?it/s]"
      ]
     },
     "metadata": {},
     "output_type": "display_data"
    },
    {
     "data": {
      "application/vnd.jupyter.widget-view+json": {
       "model_id": "ac44d0e36cb449b098d71d7933cfceed",
       "version_major": 2,
       "version_minor": 0
      },
      "text/plain": [
       "Predicting: 96it [00:00, ?it/s]"
      ]
     },
     "metadata": {},
     "output_type": "display_data"
    },
    {
     "data": {
      "application/vnd.jupyter.widget-view+json": {
       "model_id": "7f3c158e7d264fd08806b43d7aebba4a",
       "version_major": 2,
       "version_minor": 0
      },
      "text/plain": [
       "Predicting: 96it [00:00, ?it/s]"
      ]
     },
     "metadata": {},
     "output_type": "display_data"
    },
    {
     "data": {
      "application/vnd.jupyter.widget-view+json": {
       "model_id": "bf8d609f06f740638beffd10c55a5d19",
       "version_major": 2,
       "version_minor": 0
      },
      "text/plain": [
       "Predicting: 96it [00:00, ?it/s]"
      ]
     },
     "metadata": {},
     "output_type": "display_data"
    },
    {
     "data": {
      "application/vnd.jupyter.widget-view+json": {
       "model_id": "8488f69e881d42a08a77baf9f3b149ca",
       "version_major": 2,
       "version_minor": 0
      },
      "text/plain": [
       "Predicting: 96it [00:00, ?it/s]"
      ]
     },
     "metadata": {},
     "output_type": "display_data"
    },
    {
     "data": {
      "application/vnd.jupyter.widget-view+json": {
       "model_id": "73040c055abc49deb2bbf6f3a9f6dab3",
       "version_major": 2,
       "version_minor": 0
      },
      "text/plain": [
       "Predicting: 96it [00:00, ?it/s]"
      ]
     },
     "metadata": {},
     "output_type": "display_data"
    },
    {
     "data": {
      "application/vnd.jupyter.widget-view+json": {
       "model_id": "090cec96f7104800964b79efb58d816a",
       "version_major": 2,
       "version_minor": 0
      },
      "text/plain": [
       "Predicting: 96it [00:00, ?it/s]"
      ]
     },
     "metadata": {},
     "output_type": "display_data"
    },
    {
     "data": {
      "application/vnd.jupyter.widget-view+json": {
       "model_id": "595c0316e16042be901e0e3c8b80fdb7",
       "version_major": 2,
       "version_minor": 0
      },
      "text/plain": [
       "Predicting: 96it [00:00, ?it/s]"
      ]
     },
     "metadata": {},
     "output_type": "display_data"
    },
    {
     "data": {
      "application/vnd.jupyter.widget-view+json": {
       "model_id": "afd6db223818423cb61b8a91ca18734c",
       "version_major": 2,
       "version_minor": 0
      },
      "text/plain": [
       "Predicting: 96it [00:00, ?it/s]"
      ]
     },
     "metadata": {},
     "output_type": "display_data"
    },
    {
     "data": {
      "application/vnd.jupyter.widget-view+json": {
       "model_id": "c74377b4f0c2467292f12f7baf8592c1",
       "version_major": 2,
       "version_minor": 0
      },
      "text/plain": [
       "Predicting: 96it [00:00, ?it/s]"
      ]
     },
     "metadata": {},
     "output_type": "display_data"
    },
    {
     "data": {
      "application/vnd.jupyter.widget-view+json": {
       "model_id": "7d088b09d62141fe949b0b4a03ba1fab",
       "version_major": 2,
       "version_minor": 0
      },
      "text/plain": [
       "Predicting: 96it [00:00, ?it/s]"
      ]
     },
     "metadata": {},
     "output_type": "display_data"
    },
    {
     "data": {
      "application/vnd.jupyter.widget-view+json": {
       "model_id": "82c219f0d5dc4a26a46c4e5e4c392e20",
       "version_major": 2,
       "version_minor": 0
      },
      "text/plain": [
       "Predicting: 96it [00:00, ?it/s]"
      ]
     },
     "metadata": {},
     "output_type": "display_data"
    },
    {
     "data": {
      "application/vnd.jupyter.widget-view+json": {
       "model_id": "6f7a61c5edfd49d7aa71146c371c419a",
       "version_major": 2,
       "version_minor": 0
      },
      "text/plain": [
       "Predicting: 96it [00:00, ?it/s]"
      ]
     },
     "metadata": {},
     "output_type": "display_data"
    },
    {
     "data": {
      "application/vnd.jupyter.widget-view+json": {
       "model_id": "d9b825dfd9eb46ac89e4117a37bd0162",
       "version_major": 2,
       "version_minor": 0
      },
      "text/plain": [
       "Predicting: 96it [00:00, ?it/s]"
      ]
     },
     "metadata": {},
     "output_type": "display_data"
    },
    {
     "data": {
      "application/vnd.jupyter.widget-view+json": {
       "model_id": "20d4f6bbf127460e9d517df68b4057f3",
       "version_major": 2,
       "version_minor": 0
      },
      "text/plain": [
       "Predicting: 96it [00:00, ?it/s]"
      ]
     },
     "metadata": {},
     "output_type": "display_data"
    },
    {
     "data": {
      "application/vnd.jupyter.widget-view+json": {
       "model_id": "968a125d93e6432cae925b975f0febbc",
       "version_major": 2,
       "version_minor": 0
      },
      "text/plain": [
       "Predicting: 96it [00:00, ?it/s]"
      ]
     },
     "metadata": {},
     "output_type": "display_data"
    },
    {
     "data": {
      "application/vnd.jupyter.widget-view+json": {
       "model_id": "0d20bb512d5a4e35bae86ea9d53d4fc1",
       "version_major": 2,
       "version_minor": 0
      },
      "text/plain": [
       "Predicting: 96it [00:00, ?it/s]"
      ]
     },
     "metadata": {},
     "output_type": "display_data"
    },
    {
     "data": {
      "application/vnd.jupyter.widget-view+json": {
       "model_id": "56e0edd0bf824170a47672ff33e88347",
       "version_major": 2,
       "version_minor": 0
      },
      "text/plain": [
       "Predicting: 96it [00:00, ?it/s]"
      ]
     },
     "metadata": {},
     "output_type": "display_data"
    },
    {
     "data": {
      "application/vnd.jupyter.widget-view+json": {
       "model_id": "16878e9761e74ddab04f3c31128ec537",
       "version_major": 2,
       "version_minor": 0
      },
      "text/plain": [
       "Predicting: 96it [00:00, ?it/s]"
      ]
     },
     "metadata": {},
     "output_type": "display_data"
    },
    {
     "data": {
      "application/vnd.jupyter.widget-view+json": {
       "model_id": "aaf76a9612ff4a3d8bf86ea03df2dff5",
       "version_major": 2,
       "version_minor": 0
      },
      "text/plain": [
       "Predicting: 96it [00:00, ?it/s]"
      ]
     },
     "metadata": {},
     "output_type": "display_data"
    },
    {
     "data": {
      "application/vnd.jupyter.widget-view+json": {
       "model_id": "16da7de5153047c083751af2dbe1a9cb",
       "version_major": 2,
       "version_minor": 0
      },
      "text/plain": [
       "Predicting: 96it [00:00, ?it/s]"
      ]
     },
     "metadata": {},
     "output_type": "display_data"
    },
    {
     "data": {
      "application/vnd.jupyter.widget-view+json": {
       "model_id": "82e1143604214ed6a74b1e94170e8bcc",
       "version_major": 2,
       "version_minor": 0
      },
      "text/plain": [
       "Predicting: 96it [00:00, ?it/s]"
      ]
     },
     "metadata": {},
     "output_type": "display_data"
    },
    {
     "data": {
      "application/vnd.jupyter.widget-view+json": {
       "model_id": "972305e1b6ad43d5a103ee41e8e7f8e3",
       "version_major": 2,
       "version_minor": 0
      },
      "text/plain": [
       "Predicting: 96it [00:00, ?it/s]"
      ]
     },
     "metadata": {},
     "output_type": "display_data"
    },
    {
     "data": {
      "application/vnd.jupyter.widget-view+json": {
       "model_id": "399549bb410b4878968a9cea72bb3254",
       "version_major": 2,
       "version_minor": 0
      },
      "text/plain": [
       "Predicting: 96it [00:00, ?it/s]"
      ]
     },
     "metadata": {},
     "output_type": "display_data"
    },
    {
     "data": {
      "application/vnd.jupyter.widget-view+json": {
       "model_id": "086f09ddb7ae40e4bbb7b5f2e292ba26",
       "version_major": 2,
       "version_minor": 0
      },
      "text/plain": [
       "Predicting: 96it [00:00, ?it/s]"
      ]
     },
     "metadata": {},
     "output_type": "display_data"
    },
    {
     "data": {
      "application/vnd.jupyter.widget-view+json": {
       "model_id": "3cba60b0cbfb46299b5994d0903c459e",
       "version_major": 2,
       "version_minor": 0
      },
      "text/plain": [
       "Predicting: 96it [00:00, ?it/s]"
      ]
     },
     "metadata": {},
     "output_type": "display_data"
    },
    {
     "data": {
      "application/vnd.jupyter.widget-view+json": {
       "model_id": "334a02eaa0a64fa49c824a4b33be0598",
       "version_major": 2,
       "version_minor": 0
      },
      "text/plain": [
       "Predicting: 96it [00:00, ?it/s]"
      ]
     },
     "metadata": {},
     "output_type": "display_data"
    },
    {
     "data": {
      "application/vnd.jupyter.widget-view+json": {
       "model_id": "8f57e4cf263e4aeba504aea74ac9fbf0",
       "version_major": 2,
       "version_minor": 0
      },
      "text/plain": [
       "Predicting: 96it [00:00, ?it/s]"
      ]
     },
     "metadata": {},
     "output_type": "display_data"
    },
    {
     "data": {
      "application/vnd.jupyter.widget-view+json": {
       "model_id": "3699a6a1ab4c49c999b9106bd296f2d7",
       "version_major": 2,
       "version_minor": 0
      },
      "text/plain": [
       "Predicting: 96it [00:00, ?it/s]"
      ]
     },
     "metadata": {},
     "output_type": "display_data"
    },
    {
     "data": {
      "application/vnd.jupyter.widget-view+json": {
       "model_id": "655f18e58e034091aa842145851bac90",
       "version_major": 2,
       "version_minor": 0
      },
      "text/plain": [
       "Predicting: 96it [00:00, ?it/s]"
      ]
     },
     "metadata": {},
     "output_type": "display_data"
    },
    {
     "data": {
      "application/vnd.jupyter.widget-view+json": {
       "model_id": "8feffebec1604dd3a471b7df63e31ba9",
       "version_major": 2,
       "version_minor": 0
      },
      "text/plain": [
       "Predicting: 96it [00:00, ?it/s]"
      ]
     },
     "metadata": {},
     "output_type": "display_data"
    },
    {
     "data": {
      "application/vnd.jupyter.widget-view+json": {
       "model_id": "0237c337aec84982a6d4b974881eb5ee",
       "version_major": 2,
       "version_minor": 0
      },
      "text/plain": [
       "Predicting: 96it [00:00, ?it/s]"
      ]
     },
     "metadata": {},
     "output_type": "display_data"
    },
    {
     "data": {
      "application/vnd.jupyter.widget-view+json": {
       "model_id": "b1c182a016d9445695143b822ea6a8dc",
       "version_major": 2,
       "version_minor": 0
      },
      "text/plain": [
       "Predicting: 96it [00:00, ?it/s]"
      ]
     },
     "metadata": {},
     "output_type": "display_data"
    },
    {
     "data": {
      "application/vnd.jupyter.widget-view+json": {
       "model_id": "f4c342224a764b03ad3b2e9fd0811679",
       "version_major": 2,
       "version_minor": 0
      },
      "text/plain": [
       "Predicting: 96it [00:00, ?it/s]"
      ]
     },
     "metadata": {},
     "output_type": "display_data"
    },
    {
     "data": {
      "application/vnd.jupyter.widget-view+json": {
       "model_id": "de175f8a1648454988c9c8afa09a38b1",
       "version_major": 2,
       "version_minor": 0
      },
      "text/plain": [
       "Predicting: 96it [00:00, ?it/s]"
      ]
     },
     "metadata": {},
     "output_type": "display_data"
    },
    {
     "data": {
      "application/vnd.jupyter.widget-view+json": {
       "model_id": "67845806db544b9d9fbafd8e3fc4ba84",
       "version_major": 2,
       "version_minor": 0
      },
      "text/plain": [
       "Predicting: 96it [00:00, ?it/s]"
      ]
     },
     "metadata": {},
     "output_type": "display_data"
    },
    {
     "data": {
      "application/vnd.jupyter.widget-view+json": {
       "model_id": "90f7b6a862c640c0b323fa3cc7726c4d",
       "version_major": 2,
       "version_minor": 0
      },
      "text/plain": [
       "Predicting: 96it [00:00, ?it/s]"
      ]
     },
     "metadata": {},
     "output_type": "display_data"
    },
    {
     "data": {
      "application/vnd.jupyter.widget-view+json": {
       "model_id": "62c533130769404695ce8be71b65306d",
       "version_major": 2,
       "version_minor": 0
      },
      "text/plain": [
       "Predicting: 96it [00:00, ?it/s]"
      ]
     },
     "metadata": {},
     "output_type": "display_data"
    },
    {
     "data": {
      "application/vnd.jupyter.widget-view+json": {
       "model_id": "e11103bd0a7147a6b974a2ebf4261b54",
       "version_major": 2,
       "version_minor": 0
      },
      "text/plain": [
       "Predicting: 96it [00:00, ?it/s]"
      ]
     },
     "metadata": {},
     "output_type": "display_data"
    },
    {
     "data": {
      "application/vnd.jupyter.widget-view+json": {
       "model_id": "660bafb451c545298f47415c8a89c93c",
       "version_major": 2,
       "version_minor": 0
      },
      "text/plain": [
       "Predicting: 96it [00:00, ?it/s]"
      ]
     },
     "metadata": {},
     "output_type": "display_data"
    },
    {
     "data": {
      "application/vnd.jupyter.widget-view+json": {
       "model_id": "2289add6eb6d47e1a4e4bce0c2115e2c",
       "version_major": 2,
       "version_minor": 0
      },
      "text/plain": [
       "Predicting: 96it [00:00, ?it/s]"
      ]
     },
     "metadata": {},
     "output_type": "display_data"
    },
    {
     "data": {
      "application/vnd.jupyter.widget-view+json": {
       "model_id": "8574668cb7024f3c8817f29dc684905f",
       "version_major": 2,
       "version_minor": 0
      },
      "text/plain": [
       "Predicting: 96it [00:00, ?it/s]"
      ]
     },
     "metadata": {},
     "output_type": "display_data"
    },
    {
     "data": {
      "application/vnd.jupyter.widget-view+json": {
       "model_id": "e71a8c8c7acb4191b5b925166cb3787e",
       "version_major": 2,
       "version_minor": 0
      },
      "text/plain": [
       "Predicting: 96it [00:00, ?it/s]"
      ]
     },
     "metadata": {},
     "output_type": "display_data"
    },
    {
     "data": {
      "application/vnd.jupyter.widget-view+json": {
       "model_id": "385a32175f1c40bd9af6ad7ca6c60135",
       "version_major": 2,
       "version_minor": 0
      },
      "text/plain": [
       "Predicting: 96it [00:00, ?it/s]"
      ]
     },
     "metadata": {},
     "output_type": "display_data"
    },
    {
     "data": {
      "application/vnd.jupyter.widget-view+json": {
       "model_id": "8a4061d74bff4a42ac622be05994df36",
       "version_major": 2,
       "version_minor": 0
      },
      "text/plain": [
       "Predicting: 96it [00:00, ?it/s]"
      ]
     },
     "metadata": {},
     "output_type": "display_data"
    },
    {
     "data": {
      "application/vnd.jupyter.widget-view+json": {
       "model_id": "4e1cdc4576ae47b7a76b774becba9d9c",
       "version_major": 2,
       "version_minor": 0
      },
      "text/plain": [
       "Predicting: 96it [00:00, ?it/s]"
      ]
     },
     "metadata": {},
     "output_type": "display_data"
    },
    {
     "data": {
      "application/vnd.jupyter.widget-view+json": {
       "model_id": "7911ba3550fc4d8bbb93791e6262efd9",
       "version_major": 2,
       "version_minor": 0
      },
      "text/plain": [
       "Predicting: 96it [00:00, ?it/s]"
      ]
     },
     "metadata": {},
     "output_type": "display_data"
    },
    {
     "data": {
      "application/vnd.jupyter.widget-view+json": {
       "model_id": "628a34ef36ea4ddd95fe00c647c94915",
       "version_major": 2,
       "version_minor": 0
      },
      "text/plain": [
       "Predicting: 96it [00:00, ?it/s]"
      ]
     },
     "metadata": {},
     "output_type": "display_data"
    },
    {
     "data": {
      "application/vnd.jupyter.widget-view+json": {
       "model_id": "3c97bb82a91442e1b8e140eccd9ccda8",
       "version_major": 2,
       "version_minor": 0
      },
      "text/plain": [
       "Predicting: 96it [00:00, ?it/s]"
      ]
     },
     "metadata": {},
     "output_type": "display_data"
    },
    {
     "data": {
      "application/vnd.jupyter.widget-view+json": {
       "model_id": "80dc89fb9ea14cd0a6c271f5076fe345",
       "version_major": 2,
       "version_minor": 0
      },
      "text/plain": [
       "Predicting: 96it [00:00, ?it/s]"
      ]
     },
     "metadata": {},
     "output_type": "display_data"
    },
    {
     "data": {
      "application/vnd.jupyter.widget-view+json": {
       "model_id": "2758e34d435243c0924112cb7b287c15",
       "version_major": 2,
       "version_minor": 0
      },
      "text/plain": [
       "Predicting: 96it [00:00, ?it/s]"
      ]
     },
     "metadata": {},
     "output_type": "display_data"
    },
    {
     "data": {
      "application/vnd.jupyter.widget-view+json": {
       "model_id": "308a2bb420654d41af9eb47d3f856f33",
       "version_major": 2,
       "version_minor": 0
      },
      "text/plain": [
       "Predicting: 96it [00:00, ?it/s]"
      ]
     },
     "metadata": {},
     "output_type": "display_data"
    },
    {
     "data": {
      "application/vnd.jupyter.widget-view+json": {
       "model_id": "9d746398508846f0b711d1f7b27f5cb5",
       "version_major": 2,
       "version_minor": 0
      },
      "text/plain": [
       "Predicting: 96it [00:00, ?it/s]"
      ]
     },
     "metadata": {},
     "output_type": "display_data"
    },
    {
     "data": {
      "application/vnd.jupyter.widget-view+json": {
       "model_id": "a2911292144d45feb828bcf350f5bb63",
       "version_major": 2,
       "version_minor": 0
      },
      "text/plain": [
       "Predicting: 96it [00:00, ?it/s]"
      ]
     },
     "metadata": {},
     "output_type": "display_data"
    },
    {
     "data": {
      "application/vnd.jupyter.widget-view+json": {
       "model_id": "829c94a2f743412fb61a7a0a34aaac9b",
       "version_major": 2,
       "version_minor": 0
      },
      "text/plain": [
       "Predicting: 96it [00:00, ?it/s]"
      ]
     },
     "metadata": {},
     "output_type": "display_data"
    },
    {
     "data": {
      "application/vnd.jupyter.widget-view+json": {
       "model_id": "b3cc6a45b9e74607a5109c61970164f9",
       "version_major": 2,
       "version_minor": 0
      },
      "text/plain": [
       "Predicting: 96it [00:00, ?it/s]"
      ]
     },
     "metadata": {},
     "output_type": "display_data"
    },
    {
     "data": {
      "application/vnd.jupyter.widget-view+json": {
       "model_id": "2d3aaa4b91f244ce8104e7ec3b4bf9ee",
       "version_major": 2,
       "version_minor": 0
      },
      "text/plain": [
       "Predicting: 96it [00:00, ?it/s]"
      ]
     },
     "metadata": {},
     "output_type": "display_data"
    },
    {
     "data": {
      "application/vnd.jupyter.widget-view+json": {
       "model_id": "c5aa61d776424fb28eca3f295e5f5d14",
       "version_major": 2,
       "version_minor": 0
      },
      "text/plain": [
       "Predicting: 96it [00:00, ?it/s]"
      ]
     },
     "metadata": {},
     "output_type": "display_data"
    },
    {
     "data": {
      "application/vnd.jupyter.widget-view+json": {
       "model_id": "490d034558b84bc7a5d80a08c1ca10bb",
       "version_major": 2,
       "version_minor": 0
      },
      "text/plain": [
       "Predicting: 96it [00:00, ?it/s]"
      ]
     },
     "metadata": {},
     "output_type": "display_data"
    },
    {
     "data": {
      "application/vnd.jupyter.widget-view+json": {
       "model_id": "522240cd0c78494da3ae66941d93c671",
       "version_major": 2,
       "version_minor": 0
      },
      "text/plain": [
       "Predicting: 96it [00:00, ?it/s]"
      ]
     },
     "metadata": {},
     "output_type": "display_data"
    },
    {
     "data": {
      "application/vnd.jupyter.widget-view+json": {
       "model_id": "767722cc0d264fb38519ed40c990614e",
       "version_major": 2,
       "version_minor": 0
      },
      "text/plain": [
       "Predicting: 96it [00:00, ?it/s]"
      ]
     },
     "metadata": {},
     "output_type": "display_data"
    },
    {
     "data": {
      "application/vnd.jupyter.widget-view+json": {
       "model_id": "180d75b37f254e8f8bea02c990ccc230",
       "version_major": 2,
       "version_minor": 0
      },
      "text/plain": [
       "Predicting: 96it [00:00, ?it/s]"
      ]
     },
     "metadata": {},
     "output_type": "display_data"
    },
    {
     "data": {
      "application/vnd.jupyter.widget-view+json": {
       "model_id": "c8e87b7cde744a5eac6f850c9be97a72",
       "version_major": 2,
       "version_minor": 0
      },
      "text/plain": [
       "Predicting: 96it [00:00, ?it/s]"
      ]
     },
     "metadata": {},
     "output_type": "display_data"
    },
    {
     "data": {
      "application/vnd.jupyter.widget-view+json": {
       "model_id": "a8deda1c81354e7fb0452dd63235ba19",
       "version_major": 2,
       "version_minor": 0
      },
      "text/plain": [
       "Predicting: 96it [00:00, ?it/s]"
      ]
     },
     "metadata": {},
     "output_type": "display_data"
    },
    {
     "data": {
      "application/vnd.jupyter.widget-view+json": {
       "model_id": "2c1bbf63efc142f69d73ce122406c2b6",
       "version_major": 2,
       "version_minor": 0
      },
      "text/plain": [
       "Predicting: 96it [00:00, ?it/s]"
      ]
     },
     "metadata": {},
     "output_type": "display_data"
    },
    {
     "data": {
      "application/vnd.jupyter.widget-view+json": {
       "model_id": "9a04aae3ee78426394883e2997d9ef7c",
       "version_major": 2,
       "version_minor": 0
      },
      "text/plain": [
       "Predicting: 96it [00:00, ?it/s]"
      ]
     },
     "metadata": {},
     "output_type": "display_data"
    },
    {
     "data": {
      "application/vnd.jupyter.widget-view+json": {
       "model_id": "32631f8846f547fead2e37460df0f695",
       "version_major": 2,
       "version_minor": 0
      },
      "text/plain": [
       "Predicting: 96it [00:00, ?it/s]"
      ]
     },
     "metadata": {},
     "output_type": "display_data"
    },
    {
     "data": {
      "application/vnd.jupyter.widget-view+json": {
       "model_id": "b2551291317e4ca1aa30aaec89b75df6",
       "version_major": 2,
       "version_minor": 0
      },
      "text/plain": [
       "Predicting: 96it [00:00, ?it/s]"
      ]
     },
     "metadata": {},
     "output_type": "display_data"
    },
    {
     "data": {
      "application/vnd.jupyter.widget-view+json": {
       "model_id": "27f27c78389d4c16aab70e7db4dd81e4",
       "version_major": 2,
       "version_minor": 0
      },
      "text/plain": [
       "Predicting: 96it [00:00, ?it/s]"
      ]
     },
     "metadata": {},
     "output_type": "display_data"
    },
    {
     "data": {
      "application/vnd.jupyter.widget-view+json": {
       "model_id": "6ea904b2116d4368bcc4a10b4fc245de",
       "version_major": 2,
       "version_minor": 0
      },
      "text/plain": [
       "Predicting: 96it [00:00, ?it/s]"
      ]
     },
     "metadata": {},
     "output_type": "display_data"
    },
    {
     "data": {
      "application/vnd.jupyter.widget-view+json": {
       "model_id": "b6f793cb95cd4faabbd989ac3bba0c2f",
       "version_major": 2,
       "version_minor": 0
      },
      "text/plain": [
       "Predicting: 96it [00:00, ?it/s]"
      ]
     },
     "metadata": {},
     "output_type": "display_data"
    },
    {
     "data": {
      "application/vnd.jupyter.widget-view+json": {
       "model_id": "e5e38d278b2443ab92f64f683dac22bb",
       "version_major": 2,
       "version_minor": 0
      },
      "text/plain": [
       "Predicting: 96it [00:00, ?it/s]"
      ]
     },
     "metadata": {},
     "output_type": "display_data"
    },
    {
     "data": {
      "application/vnd.jupyter.widget-view+json": {
       "model_id": "38b1c6f667414483bb1cc23cfbdb36bf",
       "version_major": 2,
       "version_minor": 0
      },
      "text/plain": [
       "Predicting: 96it [00:00, ?it/s]"
      ]
     },
     "metadata": {},
     "output_type": "display_data"
    },
    {
     "data": {
      "application/vnd.jupyter.widget-view+json": {
       "model_id": "5d418d22f6ef49b6bf18327afcd39ba2",
       "version_major": 2,
       "version_minor": 0
      },
      "text/plain": [
       "Predicting: 96it [00:00, ?it/s]"
      ]
     },
     "metadata": {},
     "output_type": "display_data"
    },
    {
     "data": {
      "application/vnd.jupyter.widget-view+json": {
       "model_id": "a84d3d10748349c883bd85f76bf56d82",
       "version_major": 2,
       "version_minor": 0
      },
      "text/plain": [
       "Predicting: 96it [00:00, ?it/s]"
      ]
     },
     "metadata": {},
     "output_type": "display_data"
    },
    {
     "data": {
      "application/vnd.jupyter.widget-view+json": {
       "model_id": "d9f2697358444ba690a652771231a13f",
       "version_major": 2,
       "version_minor": 0
      },
      "text/plain": [
       "Predicting: 96it [00:00, ?it/s]"
      ]
     },
     "metadata": {},
     "output_type": "display_data"
    },
    {
     "data": {
      "application/vnd.jupyter.widget-view+json": {
       "model_id": "3a014bfbf22d41b09baf2eebc70a9d77",
       "version_major": 2,
       "version_minor": 0
      },
      "text/plain": [
       "Predicting: 96it [00:00, ?it/s]"
      ]
     },
     "metadata": {},
     "output_type": "display_data"
    },
    {
     "data": {
      "application/vnd.jupyter.widget-view+json": {
       "model_id": "0a239cd3305942a099d531180ee7e874",
       "version_major": 2,
       "version_minor": 0
      },
      "text/plain": [
       "Predicting: 96it [00:00, ?it/s]"
      ]
     },
     "metadata": {},
     "output_type": "display_data"
    },
    {
     "data": {
      "application/vnd.jupyter.widget-view+json": {
       "model_id": "224f712b1d744b51bf114c034dda73ce",
       "version_major": 2,
       "version_minor": 0
      },
      "text/plain": [
       "Predicting: 96it [00:00, ?it/s]"
      ]
     },
     "metadata": {},
     "output_type": "display_data"
    },
    {
     "data": {
      "application/vnd.jupyter.widget-view+json": {
       "model_id": "c23f92179c6a4295a6d2030103cf9455",
       "version_major": 2,
       "version_minor": 0
      },
      "text/plain": [
       "Predicting: 96it [00:00, ?it/s]"
      ]
     },
     "metadata": {},
     "output_type": "display_data"
    },
    {
     "data": {
      "application/vnd.jupyter.widget-view+json": {
       "model_id": "512b607bcd18474e926ea49d23cd29cc",
       "version_major": 2,
       "version_minor": 0
      },
      "text/plain": [
       "Predicting: 96it [00:00, ?it/s]"
      ]
     },
     "metadata": {},
     "output_type": "display_data"
    },
    {
     "data": {
      "application/vnd.jupyter.widget-view+json": {
       "model_id": "f4b5c05383d04fcbb51bb99fabff1485",
       "version_major": 2,
       "version_minor": 0
      },
      "text/plain": [
       "Predicting: 96it [00:00, ?it/s]"
      ]
     },
     "metadata": {},
     "output_type": "display_data"
    },
    {
     "data": {
      "application/vnd.jupyter.widget-view+json": {
       "model_id": "3b2614c8d5614fbeb42f6576823ae6e8",
       "version_major": 2,
       "version_minor": 0
      },
      "text/plain": [
       "Predicting: 96it [00:00, ?it/s]"
      ]
     },
     "metadata": {},
     "output_type": "display_data"
    },
    {
     "data": {
      "application/vnd.jupyter.widget-view+json": {
       "model_id": "a77c9878bae84762b597c3c21760aeff",
       "version_major": 2,
       "version_minor": 0
      },
      "text/plain": [
       "Predicting: 96it [00:00, ?it/s]"
      ]
     },
     "metadata": {},
     "output_type": "display_data"
    },
    {
     "data": {
      "application/vnd.jupyter.widget-view+json": {
       "model_id": "2c1da51c2ca04345b221d75d4fc61ee3",
       "version_major": 2,
       "version_minor": 0
      },
      "text/plain": [
       "Predicting: 96it [00:00, ?it/s]"
      ]
     },
     "metadata": {},
     "output_type": "display_data"
    },
    {
     "data": {
      "application/vnd.jupyter.widget-view+json": {
       "model_id": "c40a82f709944f05a228cc5c34dd10e5",
       "version_major": 2,
       "version_minor": 0
      },
      "text/plain": [
       "Predicting: 96it [00:00, ?it/s]"
      ]
     },
     "metadata": {},
     "output_type": "display_data"
    },
    {
     "data": {
      "application/vnd.jupyter.widget-view+json": {
       "model_id": "d9ac31e56b8c4f828574eedcc8408778",
       "version_major": 2,
       "version_minor": 0
      },
      "text/plain": [
       "Predicting: 96it [00:00, ?it/s]"
      ]
     },
     "metadata": {},
     "output_type": "display_data"
    },
    {
     "data": {
      "application/vnd.jupyter.widget-view+json": {
       "model_id": "4ba51bbb1d574916864f549cac9d3a5d",
       "version_major": 2,
       "version_minor": 0
      },
      "text/plain": [
       "Predicting: 96it [00:00, ?it/s]"
      ]
     },
     "metadata": {},
     "output_type": "display_data"
    },
    {
     "data": {
      "application/vnd.jupyter.widget-view+json": {
       "model_id": "2c1d81782a16437fbf510b26faf7775d",
       "version_major": 2,
       "version_minor": 0
      },
      "text/plain": [
       "Predicting: 96it [00:00, ?it/s]"
      ]
     },
     "metadata": {},
     "output_type": "display_data"
    },
    {
     "data": {
      "application/vnd.jupyter.widget-view+json": {
       "model_id": "cd6a07d58af1470c9c3ba0ab6b68714b",
       "version_major": 2,
       "version_minor": 0
      },
      "text/plain": [
       "Predicting: 96it [00:00, ?it/s]"
      ]
     },
     "metadata": {},
     "output_type": "display_data"
    },
    {
     "data": {
      "application/vnd.jupyter.widget-view+json": {
       "model_id": "990c827fcefa4aa18d812521f735344f",
       "version_major": 2,
       "version_minor": 0
      },
      "text/plain": [
       "Predicting: 96it [00:00, ?it/s]"
      ]
     },
     "metadata": {},
     "output_type": "display_data"
    },
    {
     "data": {
      "application/vnd.jupyter.widget-view+json": {
       "model_id": "e40ff7ce30834aff9037b2037d2459dd",
       "version_major": 2,
       "version_minor": 0
      },
      "text/plain": [
       "Predicting: 96it [00:00, ?it/s]"
      ]
     },
     "metadata": {},
     "output_type": "display_data"
    },
    {
     "data": {
      "application/vnd.jupyter.widget-view+json": {
       "model_id": "ed75853bc9e542e6b9763fec00de01ad",
       "version_major": 2,
       "version_minor": 0
      },
      "text/plain": [
       "Predicting: 96it [00:00, ?it/s]"
      ]
     },
     "metadata": {},
     "output_type": "display_data"
    },
    {
     "data": {
      "application/vnd.jupyter.widget-view+json": {
       "model_id": "4138971eb14b47f88e5d125ce9de856f",
       "version_major": 2,
       "version_minor": 0
      },
      "text/plain": [
       "Predicting: 96it [00:00, ?it/s]"
      ]
     },
     "metadata": {},
     "output_type": "display_data"
    },
    {
     "data": {
      "application/vnd.jupyter.widget-view+json": {
       "model_id": "dcd3c97eaf6e4fb9bd0e4e7280512319",
       "version_major": 2,
       "version_minor": 0
      },
      "text/plain": [
       "Predicting: 96it [00:00, ?it/s]"
      ]
     },
     "metadata": {},
     "output_type": "display_data"
    },
    {
     "data": {
      "application/vnd.jupyter.widget-view+json": {
       "model_id": "8ecf5f7537af44a8928903c12562a813",
       "version_major": 2,
       "version_minor": 0
      },
      "text/plain": [
       "Predicting: 96it [00:00, ?it/s]"
      ]
     },
     "metadata": {},
     "output_type": "display_data"
    },
    {
     "data": {
      "application/vnd.jupyter.widget-view+json": {
       "model_id": "d87249e52f084ad78aae5a0da48bdb25",
       "version_major": 2,
       "version_minor": 0
      },
      "text/plain": [
       "Predicting: 96it [00:00, ?it/s]"
      ]
     },
     "metadata": {},
     "output_type": "display_data"
    },
    {
     "data": {
      "application/vnd.jupyter.widget-view+json": {
       "model_id": "f79320a4273c486a8358c98c403d92e0",
       "version_major": 2,
       "version_minor": 0
      },
      "text/plain": [
       "Predicting: 96it [00:00, ?it/s]"
      ]
     },
     "metadata": {},
     "output_type": "display_data"
    },
    {
     "data": {
      "application/vnd.jupyter.widget-view+json": {
       "model_id": "532fcbac5ef74ca3a1522a8819d12ae2",
       "version_major": 2,
       "version_minor": 0
      },
      "text/plain": [
       "Predicting: 96it [00:00, ?it/s]"
      ]
     },
     "metadata": {},
     "output_type": "display_data"
    },
    {
     "data": {
      "application/vnd.jupyter.widget-view+json": {
       "model_id": "18c9b26ca39d4755b25903c485d138d2",
       "version_major": 2,
       "version_minor": 0
      },
      "text/plain": [
       "Predicting: 96it [00:00, ?it/s]"
      ]
     },
     "metadata": {},
     "output_type": "display_data"
    },
    {
     "data": {
      "application/vnd.jupyter.widget-view+json": {
       "model_id": "e91eff6a9b7e4960b8edcc1a2b04ce08",
       "version_major": 2,
       "version_minor": 0
      },
      "text/plain": [
       "Predicting: 96it [00:00, ?it/s]"
      ]
     },
     "metadata": {},
     "output_type": "display_data"
    },
    {
     "data": {
      "application/vnd.jupyter.widget-view+json": {
       "model_id": "4c108f8ee3bd45ffbc08961d27d7e660",
       "version_major": 2,
       "version_minor": 0
      },
      "text/plain": [
       "Predicting: 96it [00:00, ?it/s]"
      ]
     },
     "metadata": {},
     "output_type": "display_data"
    },
    {
     "data": {
      "application/vnd.jupyter.widget-view+json": {
       "model_id": "fec361d6e348407f8859808c96ed2be7",
       "version_major": 2,
       "version_minor": 0
      },
      "text/plain": [
       "Predicting: 96it [00:00, ?it/s]"
      ]
     },
     "metadata": {},
     "output_type": "display_data"
    },
    {
     "data": {
      "application/vnd.jupyter.widget-view+json": {
       "model_id": "72364fddb1154823aa69538614f36e3f",
       "version_major": 2,
       "version_minor": 0
      },
      "text/plain": [
       "Predicting: 96it [00:00, ?it/s]"
      ]
     },
     "metadata": {},
     "output_type": "display_data"
    },
    {
     "data": {
      "application/vnd.jupyter.widget-view+json": {
       "model_id": "324f63cf6411417293bafbe24aa2da9f",
       "version_major": 2,
       "version_minor": 0
      },
      "text/plain": [
       "Predicting: 96it [00:00, ?it/s]"
      ]
     },
     "metadata": {},
     "output_type": "display_data"
    },
    {
     "data": {
      "application/vnd.jupyter.widget-view+json": {
       "model_id": "63c9f9ba148b4875b84a17b7df52cb6a",
       "version_major": 2,
       "version_minor": 0
      },
      "text/plain": [
       "Predicting: 96it [00:00, ?it/s]"
      ]
     },
     "metadata": {},
     "output_type": "display_data"
    },
    {
     "data": {
      "application/vnd.jupyter.widget-view+json": {
       "model_id": "0f64881417204e3fb902c33ade492464",
       "version_major": 2,
       "version_minor": 0
      },
      "text/plain": [
       "Predicting: 96it [00:00, ?it/s]"
      ]
     },
     "metadata": {},
     "output_type": "display_data"
    },
    {
     "data": {
      "application/vnd.jupyter.widget-view+json": {
       "model_id": "50ae028e6e5644298ba10aad75fcfbd3",
       "version_major": 2,
       "version_minor": 0
      },
      "text/plain": [
       "Predicting: 96it [00:00, ?it/s]"
      ]
     },
     "metadata": {},
     "output_type": "display_data"
    },
    {
     "data": {
      "application/vnd.jupyter.widget-view+json": {
       "model_id": "336a42aa46574b6c8b01f0bafd4dc122",
       "version_major": 2,
       "version_minor": 0
      },
      "text/plain": [
       "Predicting: 96it [00:00, ?it/s]"
      ]
     },
     "metadata": {},
     "output_type": "display_data"
    },
    {
     "data": {
      "application/vnd.jupyter.widget-view+json": {
       "model_id": "095a5213d2f2475785371cd1e8095836",
       "version_major": 2,
       "version_minor": 0
      },
      "text/plain": [
       "Predicting: 96it [00:00, ?it/s]"
      ]
     },
     "metadata": {},
     "output_type": "display_data"
    },
    {
     "data": {
      "application/vnd.jupyter.widget-view+json": {
       "model_id": "9f93e11366af42f2a7e0616745944eae",
       "version_major": 2,
       "version_minor": 0
      },
      "text/plain": [
       "Predicting: 96it [00:00, ?it/s]"
      ]
     },
     "metadata": {},
     "output_type": "display_data"
    },
    {
     "data": {
      "application/vnd.jupyter.widget-view+json": {
       "model_id": "333db711f9034d4ca80234b13e4a44d3",
       "version_major": 2,
       "version_minor": 0
      },
      "text/plain": [
       "Predicting: 96it [00:00, ?it/s]"
      ]
     },
     "metadata": {},
     "output_type": "display_data"
    },
    {
     "data": {
      "application/vnd.jupyter.widget-view+json": {
       "model_id": "5cc977c4e46947b195b9c3a4730e8b0e",
       "version_major": 2,
       "version_minor": 0
      },
      "text/plain": [
       "Predicting: 96it [00:00, ?it/s]"
      ]
     },
     "metadata": {},
     "output_type": "display_data"
    },
    {
     "data": {
      "application/vnd.jupyter.widget-view+json": {
       "model_id": "000852f6cb74490dbea06e1ecccbb394",
       "version_major": 2,
       "version_minor": 0
      },
      "text/plain": [
       "Predicting: 96it [00:00, ?it/s]"
      ]
     },
     "metadata": {},
     "output_type": "display_data"
    },
    {
     "data": {
      "application/vnd.jupyter.widget-view+json": {
       "model_id": "12154b8ca8cb4637ba53c921568d43ce",
       "version_major": 2,
       "version_minor": 0
      },
      "text/plain": [
       "Predicting: 96it [00:00, ?it/s]"
      ]
     },
     "metadata": {},
     "output_type": "display_data"
    },
    {
     "data": {
      "application/vnd.jupyter.widget-view+json": {
       "model_id": "304e9f98712f4bd8a15539454417212f",
       "version_major": 2,
       "version_minor": 0
      },
      "text/plain": [
       "Predicting: 96it [00:00, ?it/s]"
      ]
     },
     "metadata": {},
     "output_type": "display_data"
    },
    {
     "data": {
      "application/vnd.jupyter.widget-view+json": {
       "model_id": "cc6828ea345b4ad4bd1fb14e12b14ff0",
       "version_major": 2,
       "version_minor": 0
      },
      "text/plain": [
       "Predicting: 96it [00:00, ?it/s]"
      ]
     },
     "metadata": {},
     "output_type": "display_data"
    },
    {
     "data": {
      "application/vnd.jupyter.widget-view+json": {
       "model_id": "aed8f644d2bb4830ba9647e643c715e5",
       "version_major": 2,
       "version_minor": 0
      },
      "text/plain": [
       "Predicting: 96it [00:00, ?it/s]"
      ]
     },
     "metadata": {},
     "output_type": "display_data"
    },
    {
     "data": {
      "application/vnd.jupyter.widget-view+json": {
       "model_id": "707de131aa8e466c950428a15205ac15",
       "version_major": 2,
       "version_minor": 0
      },
      "text/plain": [
       "Predicting: 96it [00:00, ?it/s]"
      ]
     },
     "metadata": {},
     "output_type": "display_data"
    },
    {
     "data": {
      "application/vnd.jupyter.widget-view+json": {
       "model_id": "6a6e1bf9006d4ea29f829690b7fb5314",
       "version_major": 2,
       "version_minor": 0
      },
      "text/plain": [
       "Predicting: 96it [00:00, ?it/s]"
      ]
     },
     "metadata": {},
     "output_type": "display_data"
    },
    {
     "data": {
      "application/vnd.jupyter.widget-view+json": {
       "model_id": "4c0b242ec70a460ab6cb308a4f688127",
       "version_major": 2,
       "version_minor": 0
      },
      "text/plain": [
       "Predicting: 96it [00:00, ?it/s]"
      ]
     },
     "metadata": {},
     "output_type": "display_data"
    },
    {
     "data": {
      "application/vnd.jupyter.widget-view+json": {
       "model_id": "6a72c8b6b8384993823e0d40f9008f31",
       "version_major": 2,
       "version_minor": 0
      },
      "text/plain": [
       "Predicting: 96it [00:00, ?it/s]"
      ]
     },
     "metadata": {},
     "output_type": "display_data"
    },
    {
     "data": {
      "application/vnd.jupyter.widget-view+json": {
       "model_id": "c451e8e6fc6a4b729014a5fffc91ed5d",
       "version_major": 2,
       "version_minor": 0
      },
      "text/plain": [
       "Predicting: 96it [00:00, ?it/s]"
      ]
     },
     "metadata": {},
     "output_type": "display_data"
    },
    {
     "data": {
      "application/vnd.jupyter.widget-view+json": {
       "model_id": "8e5719d09e3e4be4a090d88f53313df1",
       "version_major": 2,
       "version_minor": 0
      },
      "text/plain": [
       "Predicting: 96it [00:00, ?it/s]"
      ]
     },
     "metadata": {},
     "output_type": "display_data"
    },
    {
     "data": {
      "application/vnd.jupyter.widget-view+json": {
       "model_id": "3b989450d8bb4c749d451309f10d1444",
       "version_major": 2,
       "version_minor": 0
      },
      "text/plain": [
       "Predicting: 96it [00:00, ?it/s]"
      ]
     },
     "metadata": {},
     "output_type": "display_data"
    },
    {
     "data": {
      "application/vnd.jupyter.widget-view+json": {
       "model_id": "2b9d22447b7345a88dd66819a64446b6",
       "version_major": 2,
       "version_minor": 0
      },
      "text/plain": [
       "Predicting: 96it [00:00, ?it/s]"
      ]
     },
     "metadata": {},
     "output_type": "display_data"
    },
    {
     "data": {
      "application/vnd.jupyter.widget-view+json": {
       "model_id": "c49b0fd6be144820aa08e0abd0cfbc3b",
       "version_major": 2,
       "version_minor": 0
      },
      "text/plain": [
       "Predicting: 96it [00:00, ?it/s]"
      ]
     },
     "metadata": {},
     "output_type": "display_data"
    },
    {
     "data": {
      "application/vnd.jupyter.widget-view+json": {
       "model_id": "ba6ef53c155e49b5beadaad1b3844b73",
       "version_major": 2,
       "version_minor": 0
      },
      "text/plain": [
       "Predicting: 96it [00:00, ?it/s]"
      ]
     },
     "metadata": {},
     "output_type": "display_data"
    },
    {
     "data": {
      "application/vnd.jupyter.widget-view+json": {
       "model_id": "388a2df1d62640c9bb3b5478087bce5f",
       "version_major": 2,
       "version_minor": 0
      },
      "text/plain": [
       "Predicting: 96it [00:00, ?it/s]"
      ]
     },
     "metadata": {},
     "output_type": "display_data"
    },
    {
     "data": {
      "application/vnd.jupyter.widget-view+json": {
       "model_id": "ac3b64d9ba494eae909141caf81026a7",
       "version_major": 2,
       "version_minor": 0
      },
      "text/plain": [
       "Predicting: 96it [00:00, ?it/s]"
      ]
     },
     "metadata": {},
     "output_type": "display_data"
    },
    {
     "data": {
      "application/vnd.jupyter.widget-view+json": {
       "model_id": "9b01d45dd39442f5a78c62ea10834ffe",
       "version_major": 2,
       "version_minor": 0
      },
      "text/plain": [
       "Predicting: 96it [00:00, ?it/s]"
      ]
     },
     "metadata": {},
     "output_type": "display_data"
    },
    {
     "data": {
      "application/vnd.jupyter.widget-view+json": {
       "model_id": "fee125fa7184410aaa8356fa056170c3",
       "version_major": 2,
       "version_minor": 0
      },
      "text/plain": [
       "Predicting: 96it [00:00, ?it/s]"
      ]
     },
     "metadata": {},
     "output_type": "display_data"
    },
    {
     "data": {
      "application/vnd.jupyter.widget-view+json": {
       "model_id": "06c27e6d6e2c43078ed7db57ea973363",
       "version_major": 2,
       "version_minor": 0
      },
      "text/plain": [
       "Predicting: 96it [00:00, ?it/s]"
      ]
     },
     "metadata": {},
     "output_type": "display_data"
    },
    {
     "data": {
      "application/vnd.jupyter.widget-view+json": {
       "model_id": "6ef5ffb8fe274935996cf7e5cf92d118",
       "version_major": 2,
       "version_minor": 0
      },
      "text/plain": [
       "Predicting: 96it [00:00, ?it/s]"
      ]
     },
     "metadata": {},
     "output_type": "display_data"
    },
    {
     "data": {
      "application/vnd.jupyter.widget-view+json": {
       "model_id": "95125186797c4115abccd9da917afeec",
       "version_major": 2,
       "version_minor": 0
      },
      "text/plain": [
       "Predicting: 96it [00:00, ?it/s]"
      ]
     },
     "metadata": {},
     "output_type": "display_data"
    },
    {
     "data": {
      "application/vnd.jupyter.widget-view+json": {
       "model_id": "d3509a5cab154a5ebce4020857fb9b7c",
       "version_major": 2,
       "version_minor": 0
      },
      "text/plain": [
       "Predicting: 96it [00:00, ?it/s]"
      ]
     },
     "metadata": {},
     "output_type": "display_data"
    },
    {
     "data": {
      "application/vnd.jupyter.widget-view+json": {
       "model_id": "3eee7a51b36f4faaa9bc2c6b33d0b447",
       "version_major": 2,
       "version_minor": 0
      },
      "text/plain": [
       "Predicting: 96it [00:00, ?it/s]"
      ]
     },
     "metadata": {},
     "output_type": "display_data"
    },
    {
     "data": {
      "application/vnd.jupyter.widget-view+json": {
       "model_id": "60c8c7240f004d2d8395768cf8e6a884",
       "version_major": 2,
       "version_minor": 0
      },
      "text/plain": [
       "Predicting: 96it [00:00, ?it/s]"
      ]
     },
     "metadata": {},
     "output_type": "display_data"
    },
    {
     "data": {
      "application/vnd.jupyter.widget-view+json": {
       "model_id": "8fd5791ac9e9404486f7419bb3b03634",
       "version_major": 2,
       "version_minor": 0
      },
      "text/plain": [
       "Predicting: 96it [00:00, ?it/s]"
      ]
     },
     "metadata": {},
     "output_type": "display_data"
    },
    {
     "data": {
      "application/vnd.jupyter.widget-view+json": {
       "model_id": "a28bb0fb2fdf4cc2858cfe8e60187e79",
       "version_major": 2,
       "version_minor": 0
      },
      "text/plain": [
       "Predicting: 96it [00:00, ?it/s]"
      ]
     },
     "metadata": {},
     "output_type": "display_data"
    },
    {
     "data": {
      "application/vnd.jupyter.widget-view+json": {
       "model_id": "517026ef1bd44644bdb63c2e0e13c433",
       "version_major": 2,
       "version_minor": 0
      },
      "text/plain": [
       "Predicting: 96it [00:00, ?it/s]"
      ]
     },
     "metadata": {},
     "output_type": "display_data"
    },
    {
     "data": {
      "application/vnd.jupyter.widget-view+json": {
       "model_id": "3e19db92ed4c4d16996de982768b5c45",
       "version_major": 2,
       "version_minor": 0
      },
      "text/plain": [
       "Predicting: 96it [00:00, ?it/s]"
      ]
     },
     "metadata": {},
     "output_type": "display_data"
    },
    {
     "data": {
      "application/vnd.jupyter.widget-view+json": {
       "model_id": "04e51b0f658e4035b97d60c6b0065f16",
       "version_major": 2,
       "version_minor": 0
      },
      "text/plain": [
       "Predicting: 96it [00:00, ?it/s]"
      ]
     },
     "metadata": {},
     "output_type": "display_data"
    },
    {
     "data": {
      "application/vnd.jupyter.widget-view+json": {
       "model_id": "19922c634a2245ccb92836e1dd640e12",
       "version_major": 2,
       "version_minor": 0
      },
      "text/plain": [
       "Predicting: 96it [00:00, ?it/s]"
      ]
     },
     "metadata": {},
     "output_type": "display_data"
    },
    {
     "data": {
      "application/vnd.jupyter.widget-view+json": {
       "model_id": "f41f5b1facb64fc797e6903e9f87798c",
       "version_major": 2,
       "version_minor": 0
      },
      "text/plain": [
       "Predicting: 96it [00:00, ?it/s]"
      ]
     },
     "metadata": {},
     "output_type": "display_data"
    },
    {
     "data": {
      "application/vnd.jupyter.widget-view+json": {
       "model_id": "1dd35eea65704e7b805dbb1c270b02df",
       "version_major": 2,
       "version_minor": 0
      },
      "text/plain": [
       "Predicting: 96it [00:00, ?it/s]"
      ]
     },
     "metadata": {},
     "output_type": "display_data"
    },
    {
     "data": {
      "application/vnd.jupyter.widget-view+json": {
       "model_id": "1253a6f2a40e42c38b829bfed6dca8b1",
       "version_major": 2,
       "version_minor": 0
      },
      "text/plain": [
       "Predicting: 96it [00:00, ?it/s]"
      ]
     },
     "metadata": {},
     "output_type": "display_data"
    },
    {
     "data": {
      "application/vnd.jupyter.widget-view+json": {
       "model_id": "f42e1d84d64049799a843692658e2104",
       "version_major": 2,
       "version_minor": 0
      },
      "text/plain": [
       "Predicting: 96it [00:00, ?it/s]"
      ]
     },
     "metadata": {},
     "output_type": "display_data"
    },
    {
     "data": {
      "application/vnd.jupyter.widget-view+json": {
       "model_id": "da246e2d8d85423484d004bc9a9e5c8e",
       "version_major": 2,
       "version_minor": 0
      },
      "text/plain": [
       "Predicting: 96it [00:00, ?it/s]"
      ]
     },
     "metadata": {},
     "output_type": "display_data"
    },
    {
     "data": {
      "application/vnd.jupyter.widget-view+json": {
       "model_id": "685a7e7f0c9948bba4dff3579feb783f",
       "version_major": 2,
       "version_minor": 0
      },
      "text/plain": [
       "Predicting: 96it [00:00, ?it/s]"
      ]
     },
     "metadata": {},
     "output_type": "display_data"
    },
    {
     "data": {
      "application/vnd.jupyter.widget-view+json": {
       "model_id": "e1433c503d0b4e49a46d3d7994958889",
       "version_major": 2,
       "version_minor": 0
      },
      "text/plain": [
       "Predicting: 96it [00:00, ?it/s]"
      ]
     },
     "metadata": {},
     "output_type": "display_data"
    },
    {
     "data": {
      "application/vnd.jupyter.widget-view+json": {
       "model_id": "3a4713e18a0e4971a1d5fee86619b573",
       "version_major": 2,
       "version_minor": 0
      },
      "text/plain": [
       "Predicting: 96it [00:00, ?it/s]"
      ]
     },
     "metadata": {},
     "output_type": "display_data"
    },
    {
     "data": {
      "application/vnd.jupyter.widget-view+json": {
       "model_id": "5ca8d74b5d664dea8e238b1b40a8a462",
       "version_major": 2,
       "version_minor": 0
      },
      "text/plain": [
       "Predicting: 96it [00:00, ?it/s]"
      ]
     },
     "metadata": {},
     "output_type": "display_data"
    },
    {
     "data": {
      "application/vnd.jupyter.widget-view+json": {
       "model_id": "a660a958bb2d4928977fbdfa1a85d862",
       "version_major": 2,
       "version_minor": 0
      },
      "text/plain": [
       "Predicting: 96it [00:00, ?it/s]"
      ]
     },
     "metadata": {},
     "output_type": "display_data"
    },
    {
     "data": {
      "application/vnd.jupyter.widget-view+json": {
       "model_id": "03629145cf8d4e849315caba8d92a3c3",
       "version_major": 2,
       "version_minor": 0
      },
      "text/plain": [
       "Predicting: 96it [00:00, ?it/s]"
      ]
     },
     "metadata": {},
     "output_type": "display_data"
    },
    {
     "data": {
      "application/vnd.jupyter.widget-view+json": {
       "model_id": "0ef4ee0032864363a04d121b26e4f28b",
       "version_major": 2,
       "version_minor": 0
      },
      "text/plain": [
       "Predicting: 96it [00:00, ?it/s]"
      ]
     },
     "metadata": {},
     "output_type": "display_data"
    },
    {
     "data": {
      "application/vnd.jupyter.widget-view+json": {
       "model_id": "95b90e14591543cb9eb0a0e96d5c76a7",
       "version_major": 2,
       "version_minor": 0
      },
      "text/plain": [
       "Predicting: 96it [00:00, ?it/s]"
      ]
     },
     "metadata": {},
     "output_type": "display_data"
    },
    {
     "data": {
      "application/vnd.jupyter.widget-view+json": {
       "model_id": "e849de2d4ef04f26840cfb7fa3f158f2",
       "version_major": 2,
       "version_minor": 0
      },
      "text/plain": [
       "Predicting: 96it [00:00, ?it/s]"
      ]
     },
     "metadata": {},
     "output_type": "display_data"
    },
    {
     "data": {
      "application/vnd.jupyter.widget-view+json": {
       "model_id": "41db960f3af648ff9326d5e23bd901fc",
       "version_major": 2,
       "version_minor": 0
      },
      "text/plain": [
       "Predicting: 96it [00:00, ?it/s]"
      ]
     },
     "metadata": {},
     "output_type": "display_data"
    },
    {
     "data": {
      "application/vnd.jupyter.widget-view+json": {
       "model_id": "b4265ad90fca4827ab5de9815dd5dcb1",
       "version_major": 2,
       "version_minor": 0
      },
      "text/plain": [
       "Predicting: 96it [00:00, ?it/s]"
      ]
     },
     "metadata": {},
     "output_type": "display_data"
    },
    {
     "data": {
      "application/vnd.jupyter.widget-view+json": {
       "model_id": "78ade4b4ddb84033a38eeb219ce03a72",
       "version_major": 2,
       "version_minor": 0
      },
      "text/plain": [
       "Predicting: 96it [00:00, ?it/s]"
      ]
     },
     "metadata": {},
     "output_type": "display_data"
    },
    {
     "data": {
      "application/vnd.jupyter.widget-view+json": {
       "model_id": "81d59e9f0ce24311a230892bc97a6fd1",
       "version_major": 2,
       "version_minor": 0
      },
      "text/plain": [
       "Predicting: 96it [00:00, ?it/s]"
      ]
     },
     "metadata": {},
     "output_type": "display_data"
    },
    {
     "data": {
      "application/vnd.jupyter.widget-view+json": {
       "model_id": "d747aab89469481889c7828207864fe3",
       "version_major": 2,
       "version_minor": 0
      },
      "text/plain": [
       "Predicting: 96it [00:00, ?it/s]"
      ]
     },
     "metadata": {},
     "output_type": "display_data"
    },
    {
     "data": {
      "application/vnd.jupyter.widget-view+json": {
       "model_id": "a55a349189014defbfe6de5be38135b6",
       "version_major": 2,
       "version_minor": 0
      },
      "text/plain": [
       "Predicting: 96it [00:00, ?it/s]"
      ]
     },
     "metadata": {},
     "output_type": "display_data"
    },
    {
     "data": {
      "application/vnd.jupyter.widget-view+json": {
       "model_id": "88134b6e90a2495f8e84d6cbbb2c4fb2",
       "version_major": 2,
       "version_minor": 0
      },
      "text/plain": [
       "Predicting: 96it [00:00, ?it/s]"
      ]
     },
     "metadata": {},
     "output_type": "display_data"
    },
    {
     "data": {
      "application/vnd.jupyter.widget-view+json": {
       "model_id": "93d6e59d0b204d6994944091a2a1b5b8",
       "version_major": 2,
       "version_minor": 0
      },
      "text/plain": [
       "Predicting: 96it [00:00, ?it/s]"
      ]
     },
     "metadata": {},
     "output_type": "display_data"
    },
    {
     "data": {
      "application/vnd.jupyter.widget-view+json": {
       "model_id": "e149e05ef8bf4cb58f8d7d797c5234e5",
       "version_major": 2,
       "version_minor": 0
      },
      "text/plain": [
       "Predicting: 96it [00:00, ?it/s]"
      ]
     },
     "metadata": {},
     "output_type": "display_data"
    },
    {
     "data": {
      "application/vnd.jupyter.widget-view+json": {
       "model_id": "205c2a4cabda47edac8ea72037c7f4f2",
       "version_major": 2,
       "version_minor": 0
      },
      "text/plain": [
       "Predicting: 96it [00:00, ?it/s]"
      ]
     },
     "metadata": {},
     "output_type": "display_data"
    },
    {
     "data": {
      "application/vnd.jupyter.widget-view+json": {
       "model_id": "4ba04c67572f40aead064949c552722e",
       "version_major": 2,
       "version_minor": 0
      },
      "text/plain": [
       "Predicting: 96it [00:00, ?it/s]"
      ]
     },
     "metadata": {},
     "output_type": "display_data"
    },
    {
     "data": {
      "application/vnd.jupyter.widget-view+json": {
       "model_id": "5f4962474106432cadfbded06cee29ce",
       "version_major": 2,
       "version_minor": 0
      },
      "text/plain": [
       "Predicting: 96it [00:00, ?it/s]"
      ]
     },
     "metadata": {},
     "output_type": "display_data"
    },
    {
     "data": {
      "application/vnd.jupyter.widget-view+json": {
       "model_id": "0a90e69f637948a89d493b99ac8f4ace",
       "version_major": 2,
       "version_minor": 0
      },
      "text/plain": [
       "Predicting: 96it [00:00, ?it/s]"
      ]
     },
     "metadata": {},
     "output_type": "display_data"
    },
    {
     "data": {
      "application/vnd.jupyter.widget-view+json": {
       "model_id": "81e66d6ca9d44ca99887f5d6f5d681d3",
       "version_major": 2,
       "version_minor": 0
      },
      "text/plain": [
       "Predicting: 96it [00:00, ?it/s]"
      ]
     },
     "metadata": {},
     "output_type": "display_data"
    },
    {
     "data": {
      "application/vnd.jupyter.widget-view+json": {
       "model_id": "5c2cacb15a0b462a9fc9563a177af13a",
       "version_major": 2,
       "version_minor": 0
      },
      "text/plain": [
       "Predicting: 96it [00:00, ?it/s]"
      ]
     },
     "metadata": {},
     "output_type": "display_data"
    },
    {
     "data": {
      "application/vnd.jupyter.widget-view+json": {
       "model_id": "cd0d2e32fd4a46188ec7564c76ced762",
       "version_major": 2,
       "version_minor": 0
      },
      "text/plain": [
       "Predicting: 96it [00:00, ?it/s]"
      ]
     },
     "metadata": {},
     "output_type": "display_data"
    },
    {
     "data": {
      "application/vnd.jupyter.widget-view+json": {
       "model_id": "10c60f27e57c4a4c9833fbb64cffd6a6",
       "version_major": 2,
       "version_minor": 0
      },
      "text/plain": [
       "Predicting: 96it [00:00, ?it/s]"
      ]
     },
     "metadata": {},
     "output_type": "display_data"
    },
    {
     "data": {
      "application/vnd.jupyter.widget-view+json": {
       "model_id": "b7e4f7b65c534fafa1d91add2e303e78",
       "version_major": 2,
       "version_minor": 0
      },
      "text/plain": [
       "Predicting: 96it [00:00, ?it/s]"
      ]
     },
     "metadata": {},
     "output_type": "display_data"
    },
    {
     "data": {
      "application/vnd.jupyter.widget-view+json": {
       "model_id": "ab3a973a921e4018a47f1b844b13a643",
       "version_major": 2,
       "version_minor": 0
      },
      "text/plain": [
       "Predicting: 96it [00:00, ?it/s]"
      ]
     },
     "metadata": {},
     "output_type": "display_data"
    },
    {
     "data": {
      "application/vnd.jupyter.widget-view+json": {
       "model_id": "03f67bfc7faf42e1a9213a75936c0187",
       "version_major": 2,
       "version_minor": 0
      },
      "text/plain": [
       "Predicting: 96it [00:00, ?it/s]"
      ]
     },
     "metadata": {},
     "output_type": "display_data"
    },
    {
     "data": {
      "application/vnd.jupyter.widget-view+json": {
       "model_id": "48f8734baf9d43c3abf8404df756b59a",
       "version_major": 2,
       "version_minor": 0
      },
      "text/plain": [
       "Predicting: 96it [00:00, ?it/s]"
      ]
     },
     "metadata": {},
     "output_type": "display_data"
    },
    {
     "data": {
      "application/vnd.jupyter.widget-view+json": {
       "model_id": "6b65cf5282364e1486138bcb9300145a",
       "version_major": 2,
       "version_minor": 0
      },
      "text/plain": [
       "Predicting: 96it [00:00, ?it/s]"
      ]
     },
     "metadata": {},
     "output_type": "display_data"
    },
    {
     "data": {
      "application/vnd.jupyter.widget-view+json": {
       "model_id": "6a31e1a1eeb248b7b8645b3c779e8c69",
       "version_major": 2,
       "version_minor": 0
      },
      "text/plain": [
       "Predicting: 96it [00:00, ?it/s]"
      ]
     },
     "metadata": {},
     "output_type": "display_data"
    },
    {
     "data": {
      "application/vnd.jupyter.widget-view+json": {
       "model_id": "cbdcfe3374824524ae2de762ea64b270",
       "version_major": 2,
       "version_minor": 0
      },
      "text/plain": [
       "Predicting: 96it [00:00, ?it/s]"
      ]
     },
     "metadata": {},
     "output_type": "display_data"
    },
    {
     "data": {
      "application/vnd.jupyter.widget-view+json": {
       "model_id": "16b67f4ef3214523a610d77c9b13b2c9",
       "version_major": 2,
       "version_minor": 0
      },
      "text/plain": [
       "Predicting: 96it [00:00, ?it/s]"
      ]
     },
     "metadata": {},
     "output_type": "display_data"
    },
    {
     "data": {
      "application/vnd.jupyter.widget-view+json": {
       "model_id": "01b989efbe8f4e839a8abd71c6d5044d",
       "version_major": 2,
       "version_minor": 0
      },
      "text/plain": [
       "Predicting: 96it [00:00, ?it/s]"
      ]
     },
     "metadata": {},
     "output_type": "display_data"
    },
    {
     "data": {
      "application/vnd.jupyter.widget-view+json": {
       "model_id": "aaf3b1e6defc4763ba4ce6c03dccff57",
       "version_major": 2,
       "version_minor": 0
      },
      "text/plain": [
       "Predicting: 96it [00:00, ?it/s]"
      ]
     },
     "metadata": {},
     "output_type": "display_data"
    },
    {
     "data": {
      "application/vnd.jupyter.widget-view+json": {
       "model_id": "083778fa358542408efc676cb6f29036",
       "version_major": 2,
       "version_minor": 0
      },
      "text/plain": [
       "Predicting: 96it [00:00, ?it/s]"
      ]
     },
     "metadata": {},
     "output_type": "display_data"
    },
    {
     "data": {
      "application/vnd.jupyter.widget-view+json": {
       "model_id": "65098731b0b24c9898f4329f7e7c5df6",
       "version_major": 2,
       "version_minor": 0
      },
      "text/plain": [
       "Predicting: 96it [00:00, ?it/s]"
      ]
     },
     "metadata": {},
     "output_type": "display_data"
    },
    {
     "data": {
      "application/vnd.jupyter.widget-view+json": {
       "model_id": "1db3604360204492a66af9e108dae5a8",
       "version_major": 2,
       "version_minor": 0
      },
      "text/plain": [
       "Predicting: 96it [00:00, ?it/s]"
      ]
     },
     "metadata": {},
     "output_type": "display_data"
    },
    {
     "data": {
      "application/vnd.jupyter.widget-view+json": {
       "model_id": "ea583756d7e6419d81378f49b3244160",
       "version_major": 2,
       "version_minor": 0
      },
      "text/plain": [
       "Predicting: 96it [00:00, ?it/s]"
      ]
     },
     "metadata": {},
     "output_type": "display_data"
    },
    {
     "data": {
      "application/vnd.jupyter.widget-view+json": {
       "model_id": "ef856f1e6d1c4228b902f17b22347ffa",
       "version_major": 2,
       "version_minor": 0
      },
      "text/plain": [
       "Predicting: 96it [00:00, ?it/s]"
      ]
     },
     "metadata": {},
     "output_type": "display_data"
    },
    {
     "data": {
      "application/vnd.jupyter.widget-view+json": {
       "model_id": "161e02d7eee14e009831f02afbb67806",
       "version_major": 2,
       "version_minor": 0
      },
      "text/plain": [
       "Predicting: 96it [00:00, ?it/s]"
      ]
     },
     "metadata": {},
     "output_type": "display_data"
    },
    {
     "data": {
      "application/vnd.jupyter.widget-view+json": {
       "model_id": "334a958a71db47919c57e948308e46bd",
       "version_major": 2,
       "version_minor": 0
      },
      "text/plain": [
       "Predicting: 96it [00:00, ?it/s]"
      ]
     },
     "metadata": {},
     "output_type": "display_data"
    },
    {
     "data": {
      "application/vnd.jupyter.widget-view+json": {
       "model_id": "6456765e84e8480bad4aa089b867f8a1",
       "version_major": 2,
       "version_minor": 0
      },
      "text/plain": [
       "Predicting: 96it [00:00, ?it/s]"
      ]
     },
     "metadata": {},
     "output_type": "display_data"
    },
    {
     "data": {
      "application/vnd.jupyter.widget-view+json": {
       "model_id": "f23bcfbafe174d16a59e0581efade1d8",
       "version_major": 2,
       "version_minor": 0
      },
      "text/plain": [
       "Predicting: 96it [00:00, ?it/s]"
      ]
     },
     "metadata": {},
     "output_type": "display_data"
    },
    {
     "data": {
      "application/vnd.jupyter.widget-view+json": {
       "model_id": "d0941f09fc55497a81e1728153e1a942",
       "version_major": 2,
       "version_minor": 0
      },
      "text/plain": [
       "Predicting: 96it [00:00, ?it/s]"
      ]
     },
     "metadata": {},
     "output_type": "display_data"
    },
    {
     "data": {
      "application/vnd.jupyter.widget-view+json": {
       "model_id": "8f01c4d77233493cb028ed1a248cc9f0",
       "version_major": 2,
       "version_minor": 0
      },
      "text/plain": [
       "Predicting: 96it [00:00, ?it/s]"
      ]
     },
     "metadata": {},
     "output_type": "display_data"
    },
    {
     "data": {
      "application/vnd.jupyter.widget-view+json": {
       "model_id": "730992ba721f4d3a8165797e04a1db16",
       "version_major": 2,
       "version_minor": 0
      },
      "text/plain": [
       "Predicting: 96it [00:00, ?it/s]"
      ]
     },
     "metadata": {},
     "output_type": "display_data"
    },
    {
     "data": {
      "application/vnd.jupyter.widget-view+json": {
       "model_id": "e272e0ff49bd4a36b119775cb748f0d6",
       "version_major": 2,
       "version_minor": 0
      },
      "text/plain": [
       "Predicting: 96it [00:00, ?it/s]"
      ]
     },
     "metadata": {},
     "output_type": "display_data"
    },
    {
     "data": {
      "application/vnd.jupyter.widget-view+json": {
       "model_id": "d32559e4178048bba4ff4a6e76bc6be2",
       "version_major": 2,
       "version_minor": 0
      },
      "text/plain": [
       "Predicting: 96it [00:00, ?it/s]"
      ]
     },
     "metadata": {},
     "output_type": "display_data"
    },
    {
     "data": {
      "application/vnd.jupyter.widget-view+json": {
       "model_id": "ddf73c2d07514c24b06e93e12d0e84a9",
       "version_major": 2,
       "version_minor": 0
      },
      "text/plain": [
       "Predicting: 96it [00:00, ?it/s]"
      ]
     },
     "metadata": {},
     "output_type": "display_data"
    },
    {
     "data": {
      "application/vnd.jupyter.widget-view+json": {
       "model_id": "34236451e49a425892d7e0f2985c24d2",
       "version_major": 2,
       "version_minor": 0
      },
      "text/plain": [
       "Predicting: 96it [00:00, ?it/s]"
      ]
     },
     "metadata": {},
     "output_type": "display_data"
    },
    {
     "data": {
      "application/vnd.jupyter.widget-view+json": {
       "model_id": "753a9b86a4b443dca647b78c6f5f3130",
       "version_major": 2,
       "version_minor": 0
      },
      "text/plain": [
       "Predicting: 96it [00:00, ?it/s]"
      ]
     },
     "metadata": {},
     "output_type": "display_data"
    },
    {
     "data": {
      "application/vnd.jupyter.widget-view+json": {
       "model_id": "1c148215cc144e9d94e37959216547a4",
       "version_major": 2,
       "version_minor": 0
      },
      "text/plain": [
       "Predicting: 96it [00:00, ?it/s]"
      ]
     },
     "metadata": {},
     "output_type": "display_data"
    },
    {
     "data": {
      "application/vnd.jupyter.widget-view+json": {
       "model_id": "c7080490ec5d47aebfce7e567b87008b",
       "version_major": 2,
       "version_minor": 0
      },
      "text/plain": [
       "Predicting: 96it [00:00, ?it/s]"
      ]
     },
     "metadata": {},
     "output_type": "display_data"
    },
    {
     "data": {
      "application/vnd.jupyter.widget-view+json": {
       "model_id": "3b09b9376cff4255bfc364bc3786b913",
       "version_major": 2,
       "version_minor": 0
      },
      "text/plain": [
       "Predicting: 96it [00:00, ?it/s]"
      ]
     },
     "metadata": {},
     "output_type": "display_data"
    },
    {
     "data": {
      "application/vnd.jupyter.widget-view+json": {
       "model_id": "ab250ddde092432d99fb85ca0a656b92",
       "version_major": 2,
       "version_minor": 0
      },
      "text/plain": [
       "Predicting: 96it [00:00, ?it/s]"
      ]
     },
     "metadata": {},
     "output_type": "display_data"
    },
    {
     "data": {
      "application/vnd.jupyter.widget-view+json": {
       "model_id": "dac60006a125423d993bb48f93c69713",
       "version_major": 2,
       "version_minor": 0
      },
      "text/plain": [
       "Predicting: 96it [00:00, ?it/s]"
      ]
     },
     "metadata": {},
     "output_type": "display_data"
    },
    {
     "data": {
      "application/vnd.jupyter.widget-view+json": {
       "model_id": "9aa7cfdce5a2411bbd72f7c6170eaade",
       "version_major": 2,
       "version_minor": 0
      },
      "text/plain": [
       "Predicting: 96it [00:00, ?it/s]"
      ]
     },
     "metadata": {},
     "output_type": "display_data"
    },
    {
     "data": {
      "application/vnd.jupyter.widget-view+json": {
       "model_id": "eca4dc6600754df09010a5492730caea",
       "version_major": 2,
       "version_minor": 0
      },
      "text/plain": [
       "Predicting: 96it [00:00, ?it/s]"
      ]
     },
     "metadata": {},
     "output_type": "display_data"
    },
    {
     "data": {
      "application/vnd.jupyter.widget-view+json": {
       "model_id": "b8c036561fff4e278c3954d5a4afdc21",
       "version_major": 2,
       "version_minor": 0
      },
      "text/plain": [
       "Predicting: 96it [00:00, ?it/s]"
      ]
     },
     "metadata": {},
     "output_type": "display_data"
    },
    {
     "data": {
      "application/vnd.jupyter.widget-view+json": {
       "model_id": "7ce7bf212f83472c82c6bf4d051b9df0",
       "version_major": 2,
       "version_minor": 0
      },
      "text/plain": [
       "Predicting: 96it [00:00, ?it/s]"
      ]
     },
     "metadata": {},
     "output_type": "display_data"
    },
    {
     "data": {
      "application/vnd.jupyter.widget-view+json": {
       "model_id": "621a56754b264f589c76172a801bbb3d",
       "version_major": 2,
       "version_minor": 0
      },
      "text/plain": [
       "Predicting: 96it [00:00, ?it/s]"
      ]
     },
     "metadata": {},
     "output_type": "display_data"
    },
    {
     "data": {
      "application/vnd.jupyter.widget-view+json": {
       "model_id": "1182ec084dad4800bd097ee74516fb70",
       "version_major": 2,
       "version_minor": 0
      },
      "text/plain": [
       "Predicting: 96it [00:00, ?it/s]"
      ]
     },
     "metadata": {},
     "output_type": "display_data"
    },
    {
     "data": {
      "application/vnd.jupyter.widget-view+json": {
       "model_id": "0d852b9dc2534a0c985eab7c63b34512",
       "version_major": 2,
       "version_minor": 0
      },
      "text/plain": [
       "Predicting: 96it [00:00, ?it/s]"
      ]
     },
     "metadata": {},
     "output_type": "display_data"
    },
    {
     "data": {
      "application/vnd.jupyter.widget-view+json": {
       "model_id": "3d53ddf7d3764337814b2355a1f6a9d8",
       "version_major": 2,
       "version_minor": 0
      },
      "text/plain": [
       "Predicting: 96it [00:00, ?it/s]"
      ]
     },
     "metadata": {},
     "output_type": "display_data"
    },
    {
     "data": {
      "application/vnd.jupyter.widget-view+json": {
       "model_id": "5f7a486dd1644c9d8ab0a2f387b5b535",
       "version_major": 2,
       "version_minor": 0
      },
      "text/plain": [
       "Predicting: 96it [00:00, ?it/s]"
      ]
     },
     "metadata": {},
     "output_type": "display_data"
    },
    {
     "data": {
      "application/vnd.jupyter.widget-view+json": {
       "model_id": "7b2a9dcedd9d47feb0c05bc91bf364df",
       "version_major": 2,
       "version_minor": 0
      },
      "text/plain": [
       "Predicting: 96it [00:00, ?it/s]"
      ]
     },
     "metadata": {},
     "output_type": "display_data"
    },
    {
     "data": {
      "application/vnd.jupyter.widget-view+json": {
       "model_id": "c7fef477d2c4412fb302982a626d8ba5",
       "version_major": 2,
       "version_minor": 0
      },
      "text/plain": [
       "Predicting: 96it [00:00, ?it/s]"
      ]
     },
     "metadata": {},
     "output_type": "display_data"
    },
    {
     "data": {
      "application/vnd.jupyter.widget-view+json": {
       "model_id": "eb47eacad7e84212a98fb3bc6efcc7a3",
       "version_major": 2,
       "version_minor": 0
      },
      "text/plain": [
       "Predicting: 96it [00:00, ?it/s]"
      ]
     },
     "metadata": {},
     "output_type": "display_data"
    },
    {
     "data": {
      "application/vnd.jupyter.widget-view+json": {
       "model_id": "adf178d1f8a64248b5112e34e97a99b8",
       "version_major": 2,
       "version_minor": 0
      },
      "text/plain": [
       "Predicting: 96it [00:00, ?it/s]"
      ]
     },
     "metadata": {},
     "output_type": "display_data"
    },
    {
     "data": {
      "application/vnd.jupyter.widget-view+json": {
       "model_id": "9403d8de0d09445aab8e4276a6afe8ac",
       "version_major": 2,
       "version_minor": 0
      },
      "text/plain": [
       "Predicting: 96it [00:00, ?it/s]"
      ]
     },
     "metadata": {},
     "output_type": "display_data"
    },
    {
     "data": {
      "application/vnd.jupyter.widget-view+json": {
       "model_id": "9cef5d4af055480ba7b58dc09cf58b10",
       "version_major": 2,
       "version_minor": 0
      },
      "text/plain": [
       "Predicting: 96it [00:00, ?it/s]"
      ]
     },
     "metadata": {},
     "output_type": "display_data"
    },
    {
     "data": {
      "application/vnd.jupyter.widget-view+json": {
       "model_id": "2822610599c64a08b5e7262bdb245c62",
       "version_major": 2,
       "version_minor": 0
      },
      "text/plain": [
       "Predicting: 96it [00:00, ?it/s]"
      ]
     },
     "metadata": {},
     "output_type": "display_data"
    },
    {
     "data": {
      "application/vnd.jupyter.widget-view+json": {
       "model_id": "ad4c8405ee4a4e35814829d801d85182",
       "version_major": 2,
       "version_minor": 0
      },
      "text/plain": [
       "Predicting: 96it [00:00, ?it/s]"
      ]
     },
     "metadata": {},
     "output_type": "display_data"
    },
    {
     "data": {
      "application/vnd.jupyter.widget-view+json": {
       "model_id": "463973f761e245078f0a83aaa35eba02",
       "version_major": 2,
       "version_minor": 0
      },
      "text/plain": [
       "Predicting: 96it [00:00, ?it/s]"
      ]
     },
     "metadata": {},
     "output_type": "display_data"
    },
    {
     "data": {
      "application/vnd.jupyter.widget-view+json": {
       "model_id": "47604fd8adcd4648aadaab09eb681164",
       "version_major": 2,
       "version_minor": 0
      },
      "text/plain": [
       "Predicting: 96it [00:00, ?it/s]"
      ]
     },
     "metadata": {},
     "output_type": "display_data"
    },
    {
     "data": {
      "application/vnd.jupyter.widget-view+json": {
       "model_id": "021c126fdf3c4d4fb2d15656eca90fc3",
       "version_major": 2,
       "version_minor": 0
      },
      "text/plain": [
       "Predicting: 96it [00:00, ?it/s]"
      ]
     },
     "metadata": {},
     "output_type": "display_data"
    },
    {
     "data": {
      "application/vnd.jupyter.widget-view+json": {
       "model_id": "b20c2e6231f94e1c97982fbd8a77d0ac",
       "version_major": 2,
       "version_minor": 0
      },
      "text/plain": [
       "Predicting: 96it [00:00, ?it/s]"
      ]
     },
     "metadata": {},
     "output_type": "display_data"
    },
    {
     "data": {
      "application/vnd.jupyter.widget-view+json": {
       "model_id": "3da200f7714843f4b8e1f34652f20161",
       "version_major": 2,
       "version_minor": 0
      },
      "text/plain": [
       "Predicting: 96it [00:00, ?it/s]"
      ]
     },
     "metadata": {},
     "output_type": "display_data"
    },
    {
     "data": {
      "application/vnd.jupyter.widget-view+json": {
       "model_id": "75e5e07829f946f8be8676335a230871",
       "version_major": 2,
       "version_minor": 0
      },
      "text/plain": [
       "Predicting: 96it [00:00, ?it/s]"
      ]
     },
     "metadata": {},
     "output_type": "display_data"
    },
    {
     "data": {
      "application/vnd.jupyter.widget-view+json": {
       "model_id": "141aa5930727495d998aefea7e7f7271",
       "version_major": 2,
       "version_minor": 0
      },
      "text/plain": [
       "Predicting: 96it [00:00, ?it/s]"
      ]
     },
     "metadata": {},
     "output_type": "display_data"
    },
    {
     "data": {
      "application/vnd.jupyter.widget-view+json": {
       "model_id": "afccfb2fa6fe4c11b9a3e4a06e6572e4",
       "version_major": 2,
       "version_minor": 0
      },
      "text/plain": [
       "Predicting: 96it [00:00, ?it/s]"
      ]
     },
     "metadata": {},
     "output_type": "display_data"
    },
    {
     "data": {
      "application/vnd.jupyter.widget-view+json": {
       "model_id": "be0693b706e2416ebb2edac0d1693e16",
       "version_major": 2,
       "version_minor": 0
      },
      "text/plain": [
       "Predicting: 96it [00:00, ?it/s]"
      ]
     },
     "metadata": {},
     "output_type": "display_data"
    },
    {
     "data": {
      "application/vnd.jupyter.widget-view+json": {
       "model_id": "01c7eba2c30c4ad2b29f46a6fdf40302",
       "version_major": 2,
       "version_minor": 0
      },
      "text/plain": [
       "Predicting: 96it [00:00, ?it/s]"
      ]
     },
     "metadata": {},
     "output_type": "display_data"
    },
    {
     "data": {
      "application/vnd.jupyter.widget-view+json": {
       "model_id": "99a83a00724d469c83bc4ed7a7cea25a",
       "version_major": 2,
       "version_minor": 0
      },
      "text/plain": [
       "Predicting: 96it [00:00, ?it/s]"
      ]
     },
     "metadata": {},
     "output_type": "display_data"
    },
    {
     "data": {
      "application/vnd.jupyter.widget-view+json": {
       "model_id": "82acaca5db62496c99a7654d323d5541",
       "version_major": 2,
       "version_minor": 0
      },
      "text/plain": [
       "Predicting: 96it [00:00, ?it/s]"
      ]
     },
     "metadata": {},
     "output_type": "display_data"
    },
    {
     "data": {
      "application/vnd.jupyter.widget-view+json": {
       "model_id": "05d4b783940b466f9bfbdf75b0016ed4",
       "version_major": 2,
       "version_minor": 0
      },
      "text/plain": [
       "Predicting: 96it [00:00, ?it/s]"
      ]
     },
     "metadata": {},
     "output_type": "display_data"
    },
    {
     "data": {
      "application/vnd.jupyter.widget-view+json": {
       "model_id": "ed9176319e9e4536a319d9340a821532",
       "version_major": 2,
       "version_minor": 0
      },
      "text/plain": [
       "Predicting: 96it [00:00, ?it/s]"
      ]
     },
     "metadata": {},
     "output_type": "display_data"
    },
    {
     "data": {
      "application/vnd.jupyter.widget-view+json": {
       "model_id": "55030283f8574bdb804b1ce98b083cb6",
       "version_major": 2,
       "version_minor": 0
      },
      "text/plain": [
       "Predicting: 96it [00:00, ?it/s]"
      ]
     },
     "metadata": {},
     "output_type": "display_data"
    },
    {
     "data": {
      "application/vnd.jupyter.widget-view+json": {
       "model_id": "8a055de8c7584864bd0a1250142f0b9d",
       "version_major": 2,
       "version_minor": 0
      },
      "text/plain": [
       "Predicting: 96it [00:00, ?it/s]"
      ]
     },
     "metadata": {},
     "output_type": "display_data"
    },
    {
     "data": {
      "application/vnd.jupyter.widget-view+json": {
       "model_id": "fd2f8ad0d37449c7bcc50d3f5260c47e",
       "version_major": 2,
       "version_minor": 0
      },
      "text/plain": [
       "Predicting: 96it [00:00, ?it/s]"
      ]
     },
     "metadata": {},
     "output_type": "display_data"
    },
    {
     "data": {
      "application/vnd.jupyter.widget-view+json": {
       "model_id": "1354e66ec16b4132ac020684090c6ba2",
       "version_major": 2,
       "version_minor": 0
      },
      "text/plain": [
       "Predicting: 96it [00:00, ?it/s]"
      ]
     },
     "metadata": {},
     "output_type": "display_data"
    },
    {
     "data": {
      "application/vnd.jupyter.widget-view+json": {
       "model_id": "0ff54286176445f498a80d82e914ee6f",
       "version_major": 2,
       "version_minor": 0
      },
      "text/plain": [
       "Predicting: 96it [00:00, ?it/s]"
      ]
     },
     "metadata": {},
     "output_type": "display_data"
    },
    {
     "data": {
      "application/vnd.jupyter.widget-view+json": {
       "model_id": "588e0d30fe2f47e180d0ad1978b6b556",
       "version_major": 2,
       "version_minor": 0
      },
      "text/plain": [
       "Predicting: 96it [00:00, ?it/s]"
      ]
     },
     "metadata": {},
     "output_type": "display_data"
    },
    {
     "data": {
      "application/vnd.jupyter.widget-view+json": {
       "model_id": "323dfafab44b4e1aa0ae0736b4527eaf",
       "version_major": 2,
       "version_minor": 0
      },
      "text/plain": [
       "Predicting: 96it [00:00, ?it/s]"
      ]
     },
     "metadata": {},
     "output_type": "display_data"
    },
    {
     "data": {
      "application/vnd.jupyter.widget-view+json": {
       "model_id": "740cde799f444391912956fe57456731",
       "version_major": 2,
       "version_minor": 0
      },
      "text/plain": [
       "Predicting: 96it [00:00, ?it/s]"
      ]
     },
     "metadata": {},
     "output_type": "display_data"
    },
    {
     "data": {
      "application/vnd.jupyter.widget-view+json": {
       "model_id": "aebd62461ff945ccb3aace76baa17594",
       "version_major": 2,
       "version_minor": 0
      },
      "text/plain": [
       "Predicting: 96it [00:00, ?it/s]"
      ]
     },
     "metadata": {},
     "output_type": "display_data"
    },
    {
     "data": {
      "application/vnd.jupyter.widget-view+json": {
       "model_id": "09a778660a7843148162eb34b29a8418",
       "version_major": 2,
       "version_minor": 0
      },
      "text/plain": [
       "Predicting: 96it [00:00, ?it/s]"
      ]
     },
     "metadata": {},
     "output_type": "display_data"
    },
    {
     "data": {
      "application/vnd.jupyter.widget-view+json": {
       "model_id": "a8de51f2e74f43d6a09483813f05d2b1",
       "version_major": 2,
       "version_minor": 0
      },
      "text/plain": [
       "Predicting: 96it [00:00, ?it/s]"
      ]
     },
     "metadata": {},
     "output_type": "display_data"
    },
    {
     "data": {
      "application/vnd.jupyter.widget-view+json": {
       "model_id": "4899b9f099c549d1abb2b03bc17bc4e3",
       "version_major": 2,
       "version_minor": 0
      },
      "text/plain": [
       "Predicting: 96it [00:00, ?it/s]"
      ]
     },
     "metadata": {},
     "output_type": "display_data"
    },
    {
     "data": {
      "application/vnd.jupyter.widget-view+json": {
       "model_id": "bbcefd92bd5b4e978adc0c0ad871cb45",
       "version_major": 2,
       "version_minor": 0
      },
      "text/plain": [
       "Predicting: 96it [00:00, ?it/s]"
      ]
     },
     "metadata": {},
     "output_type": "display_data"
    },
    {
     "data": {
      "application/vnd.jupyter.widget-view+json": {
       "model_id": "4dfc6524afeb4030ae4dfe149fdba471",
       "version_major": 2,
       "version_minor": 0
      },
      "text/plain": [
       "Predicting: 96it [00:00, ?it/s]"
      ]
     },
     "metadata": {},
     "output_type": "display_data"
    },
    {
     "data": {
      "application/vnd.jupyter.widget-view+json": {
       "model_id": "4efb47fda6df433c9ebb010122f47ffd",
       "version_major": 2,
       "version_minor": 0
      },
      "text/plain": [
       "Predicting: 96it [00:00, ?it/s]"
      ]
     },
     "metadata": {},
     "output_type": "display_data"
    },
    {
     "data": {
      "application/vnd.jupyter.widget-view+json": {
       "model_id": "d44bdb7cba87464ba5aa98bfc60214de",
       "version_major": 2,
       "version_minor": 0
      },
      "text/plain": [
       "Predicting: 96it [00:00, ?it/s]"
      ]
     },
     "metadata": {},
     "output_type": "display_data"
    },
    {
     "data": {
      "application/vnd.jupyter.widget-view+json": {
       "model_id": "e10e12c9171b41d69d77fd2746144734",
       "version_major": 2,
       "version_minor": 0
      },
      "text/plain": [
       "Predicting: 96it [00:00, ?it/s]"
      ]
     },
     "metadata": {},
     "output_type": "display_data"
    },
    {
     "data": {
      "application/vnd.jupyter.widget-view+json": {
       "model_id": "52138990f5c14040a3e11517a3cde838",
       "version_major": 2,
       "version_minor": 0
      },
      "text/plain": [
       "Predicting: 96it [00:00, ?it/s]"
      ]
     },
     "metadata": {},
     "output_type": "display_data"
    },
    {
     "data": {
      "application/vnd.jupyter.widget-view+json": {
       "model_id": "c6434e17d0dc4d4fada68f1a94595d2d",
       "version_major": 2,
       "version_minor": 0
      },
      "text/plain": [
       "Predicting: 96it [00:00, ?it/s]"
      ]
     },
     "metadata": {},
     "output_type": "display_data"
    },
    {
     "data": {
      "application/vnd.jupyter.widget-view+json": {
       "model_id": "e6af69e6ca7647cd863d0df644db7279",
       "version_major": 2,
       "version_minor": 0
      },
      "text/plain": [
       "Predicting: 96it [00:00, ?it/s]"
      ]
     },
     "metadata": {},
     "output_type": "display_data"
    },
    {
     "data": {
      "application/vnd.jupyter.widget-view+json": {
       "model_id": "20adecbd43c7450c86694d8f1ce7c5d0",
       "version_major": 2,
       "version_minor": 0
      },
      "text/plain": [
       "Predicting: 96it [00:00, ?it/s]"
      ]
     },
     "metadata": {},
     "output_type": "display_data"
    },
    {
     "data": {
      "application/vnd.jupyter.widget-view+json": {
       "model_id": "5b4b0a6381ba447f89c83c0c9ed922bb",
       "version_major": 2,
       "version_minor": 0
      },
      "text/plain": [
       "Predicting: 96it [00:00, ?it/s]"
      ]
     },
     "metadata": {},
     "output_type": "display_data"
    },
    {
     "data": {
      "application/vnd.jupyter.widget-view+json": {
       "model_id": "154391fac5b945a0bf73b84a01ba1eea",
       "version_major": 2,
       "version_minor": 0
      },
      "text/plain": [
       "Predicting: 96it [00:00, ?it/s]"
      ]
     },
     "metadata": {},
     "output_type": "display_data"
    },
    {
     "data": {
      "application/vnd.jupyter.widget-view+json": {
       "model_id": "1ea2d67befa544d398430986e6548c98",
       "version_major": 2,
       "version_minor": 0
      },
      "text/plain": [
       "Predicting: 96it [00:00, ?it/s]"
      ]
     },
     "metadata": {},
     "output_type": "display_data"
    },
    {
     "data": {
      "application/vnd.jupyter.widget-view+json": {
       "model_id": "5a0fed82d404425a979756d599786ee8",
       "version_major": 2,
       "version_minor": 0
      },
      "text/plain": [
       "Predicting: 96it [00:00, ?it/s]"
      ]
     },
     "metadata": {},
     "output_type": "display_data"
    },
    {
     "data": {
      "application/vnd.jupyter.widget-view+json": {
       "model_id": "b6a251cb205b44bf96509f98041ecf22",
       "version_major": 2,
       "version_minor": 0
      },
      "text/plain": [
       "Predicting: 96it [00:00, ?it/s]"
      ]
     },
     "metadata": {},
     "output_type": "display_data"
    },
    {
     "data": {
      "application/vnd.jupyter.widget-view+json": {
       "model_id": "362b912ff2d14f5994ea97ba37d85a12",
       "version_major": 2,
       "version_minor": 0
      },
      "text/plain": [
       "Predicting: 96it [00:00, ?it/s]"
      ]
     },
     "metadata": {},
     "output_type": "display_data"
    },
    {
     "data": {
      "application/vnd.jupyter.widget-view+json": {
       "model_id": "3f2829a307a4403c901603fe0a5cb6ec",
       "version_major": 2,
       "version_minor": 0
      },
      "text/plain": [
       "Predicting: 96it [00:00, ?it/s]"
      ]
     },
     "metadata": {},
     "output_type": "display_data"
    },
    {
     "data": {
      "application/vnd.jupyter.widget-view+json": {
       "model_id": "924315012a874aafb5ec8c1f2bdf2e52",
       "version_major": 2,
       "version_minor": 0
      },
      "text/plain": [
       "Predicting: 96it [00:00, ?it/s]"
      ]
     },
     "metadata": {},
     "output_type": "display_data"
    },
    {
     "data": {
      "application/vnd.jupyter.widget-view+json": {
       "model_id": "606252b2a8b247f9be1f60ad32f6ef34",
       "version_major": 2,
       "version_minor": 0
      },
      "text/plain": [
       "Predicting: 96it [00:00, ?it/s]"
      ]
     },
     "metadata": {},
     "output_type": "display_data"
    },
    {
     "data": {
      "application/vnd.jupyter.widget-view+json": {
       "model_id": "02c76ae524734b4eaaa4f67a5be77fdc",
       "version_major": 2,
       "version_minor": 0
      },
      "text/plain": [
       "Predicting: 96it [00:00, ?it/s]"
      ]
     },
     "metadata": {},
     "output_type": "display_data"
    },
    {
     "data": {
      "application/vnd.jupyter.widget-view+json": {
       "model_id": "26d09836024a4702a47d6a1ea44bec36",
       "version_major": 2,
       "version_minor": 0
      },
      "text/plain": [
       "Predicting: 96it [00:00, ?it/s]"
      ]
     },
     "metadata": {},
     "output_type": "display_data"
    },
    {
     "data": {
      "application/vnd.jupyter.widget-view+json": {
       "model_id": "c6d6b26bb3cb467396eed1c11236e11d",
       "version_major": 2,
       "version_minor": 0
      },
      "text/plain": [
       "Predicting: 96it [00:00, ?it/s]"
      ]
     },
     "metadata": {},
     "output_type": "display_data"
    },
    {
     "data": {
      "application/vnd.jupyter.widget-view+json": {
       "model_id": "7691a99b2b7340d38738301caeea8c40",
       "version_major": 2,
       "version_minor": 0
      },
      "text/plain": [
       "Predicting: 96it [00:00, ?it/s]"
      ]
     },
     "metadata": {},
     "output_type": "display_data"
    },
    {
     "data": {
      "application/vnd.jupyter.widget-view+json": {
       "model_id": "a85b36c98e854e3fb026d8dde530bb56",
       "version_major": 2,
       "version_minor": 0
      },
      "text/plain": [
       "Predicting: 96it [00:00, ?it/s]"
      ]
     },
     "metadata": {},
     "output_type": "display_data"
    },
    {
     "data": {
      "application/vnd.jupyter.widget-view+json": {
       "model_id": "08845f34441548d096ba67ca314a3962",
       "version_major": 2,
       "version_minor": 0
      },
      "text/plain": [
       "Predicting: 96it [00:00, ?it/s]"
      ]
     },
     "metadata": {},
     "output_type": "display_data"
    },
    {
     "data": {
      "application/vnd.jupyter.widget-view+json": {
       "model_id": "c11d2286ec6d43038e02c4cbd405cd10",
       "version_major": 2,
       "version_minor": 0
      },
      "text/plain": [
       "Predicting: 96it [00:00, ?it/s]"
      ]
     },
     "metadata": {},
     "output_type": "display_data"
    },
    {
     "data": {
      "application/vnd.jupyter.widget-view+json": {
       "model_id": "98029502a69042d999b5ede5d440f5c0",
       "version_major": 2,
       "version_minor": 0
      },
      "text/plain": [
       "Predicting: 96it [00:00, ?it/s]"
      ]
     },
     "metadata": {},
     "output_type": "display_data"
    },
    {
     "data": {
      "application/vnd.jupyter.widget-view+json": {
       "model_id": "850ab0de816b45f49fff2346946ad978",
       "version_major": 2,
       "version_minor": 0
      },
      "text/plain": [
       "Predicting: 96it [00:00, ?it/s]"
      ]
     },
     "metadata": {},
     "output_type": "display_data"
    },
    {
     "data": {
      "application/vnd.jupyter.widget-view+json": {
       "model_id": "45b3555ac8da4e38927d0a9f0d433b69",
       "version_major": 2,
       "version_minor": 0
      },
      "text/plain": [
       "Predicting: 96it [00:00, ?it/s]"
      ]
     },
     "metadata": {},
     "output_type": "display_data"
    },
    {
     "data": {
      "application/vnd.jupyter.widget-view+json": {
       "model_id": "0cc317b33b544e899ae60449c7d08640",
       "version_major": 2,
       "version_minor": 0
      },
      "text/plain": [
       "Predicting: 96it [00:00, ?it/s]"
      ]
     },
     "metadata": {},
     "output_type": "display_data"
    },
    {
     "data": {
      "application/vnd.jupyter.widget-view+json": {
       "model_id": "fdd3bd7fd3e7405abb4f4524384620a0",
       "version_major": 2,
       "version_minor": 0
      },
      "text/plain": [
       "Predicting: 96it [00:00, ?it/s]"
      ]
     },
     "metadata": {},
     "output_type": "display_data"
    },
    {
     "data": {
      "application/vnd.jupyter.widget-view+json": {
       "model_id": "2f6b872704b8404eba98a04220e89ce7",
       "version_major": 2,
       "version_minor": 0
      },
      "text/plain": [
       "Predicting: 96it [00:00, ?it/s]"
      ]
     },
     "metadata": {},
     "output_type": "display_data"
    },
    {
     "data": {
      "application/vnd.jupyter.widget-view+json": {
       "model_id": "e78c59107f6c4787af4c8628373d62c9",
       "version_major": 2,
       "version_minor": 0
      },
      "text/plain": [
       "Predicting: 96it [00:00, ?it/s]"
      ]
     },
     "metadata": {},
     "output_type": "display_data"
    },
    {
     "data": {
      "application/vnd.jupyter.widget-view+json": {
       "model_id": "23376a8818744cca81ec3da58a727b0b",
       "version_major": 2,
       "version_minor": 0
      },
      "text/plain": [
       "Predicting: 96it [00:00, ?it/s]"
      ]
     },
     "metadata": {},
     "output_type": "display_data"
    },
    {
     "data": {
      "application/vnd.jupyter.widget-view+json": {
       "model_id": "f3a5fe89d131461abbe8bc9ac5fce212",
       "version_major": 2,
       "version_minor": 0
      },
      "text/plain": [
       "Predicting: 96it [00:00, ?it/s]"
      ]
     },
     "metadata": {},
     "output_type": "display_data"
    },
    {
     "data": {
      "application/vnd.jupyter.widget-view+json": {
       "model_id": "cbf51e639a50403d9c5a1876e9c36329",
       "version_major": 2,
       "version_minor": 0
      },
      "text/plain": [
       "Predicting: 96it [00:00, ?it/s]"
      ]
     },
     "metadata": {},
     "output_type": "display_data"
    },
    {
     "data": {
      "application/vnd.jupyter.widget-view+json": {
       "model_id": "0812e82c8d26430996db3e1832236217",
       "version_major": 2,
       "version_minor": 0
      },
      "text/plain": [
       "Predicting: 96it [00:00, ?it/s]"
      ]
     },
     "metadata": {},
     "output_type": "display_data"
    },
    {
     "data": {
      "application/vnd.jupyter.widget-view+json": {
       "model_id": "71c367b36d3b4aa483c297b28abf55e6",
       "version_major": 2,
       "version_minor": 0
      },
      "text/plain": [
       "Predicting: 96it [00:00, ?it/s]"
      ]
     },
     "metadata": {},
     "output_type": "display_data"
    },
    {
     "data": {
      "application/vnd.jupyter.widget-view+json": {
       "model_id": "dcde527a50624b348e61e0c778269e34",
       "version_major": 2,
       "version_minor": 0
      },
      "text/plain": [
       "Predicting: 96it [00:00, ?it/s]"
      ]
     },
     "metadata": {},
     "output_type": "display_data"
    },
    {
     "data": {
      "application/vnd.jupyter.widget-view+json": {
       "model_id": "5652a444922a4d0880f700fc6b4dd7cd",
       "version_major": 2,
       "version_minor": 0
      },
      "text/plain": [
       "Predicting: 96it [00:00, ?it/s]"
      ]
     },
     "metadata": {},
     "output_type": "display_data"
    },
    {
     "data": {
      "application/vnd.jupyter.widget-view+json": {
       "model_id": "f82a264a3f4e45f6bb2bf64e5747a828",
       "version_major": 2,
       "version_minor": 0
      },
      "text/plain": [
       "Predicting: 96it [00:00, ?it/s]"
      ]
     },
     "metadata": {},
     "output_type": "display_data"
    },
    {
     "data": {
      "application/vnd.jupyter.widget-view+json": {
       "model_id": "0266b5d3a3084f41a742b7b7cd1fbdf3",
       "version_major": 2,
       "version_minor": 0
      },
      "text/plain": [
       "Predicting: 96it [00:00, ?it/s]"
      ]
     },
     "metadata": {},
     "output_type": "display_data"
    },
    {
     "data": {
      "application/vnd.jupyter.widget-view+json": {
       "model_id": "f981d0e8679a4698abe1e4eea1062f74",
       "version_major": 2,
       "version_minor": 0
      },
      "text/plain": [
       "Predicting: 96it [00:00, ?it/s]"
      ]
     },
     "metadata": {},
     "output_type": "display_data"
    },
    {
     "data": {
      "application/vnd.jupyter.widget-view+json": {
       "model_id": "8c1e8e6b43c04642899f5a69e472a8c9",
       "version_major": 2,
       "version_minor": 0
      },
      "text/plain": [
       "Predicting: 96it [00:00, ?it/s]"
      ]
     },
     "metadata": {},
     "output_type": "display_data"
    },
    {
     "data": {
      "application/vnd.jupyter.widget-view+json": {
       "model_id": "b84624081837457594543b98805a9e40",
       "version_major": 2,
       "version_minor": 0
      },
      "text/plain": [
       "Predicting: 96it [00:00, ?it/s]"
      ]
     },
     "metadata": {},
     "output_type": "display_data"
    },
    {
     "data": {
      "application/vnd.jupyter.widget-view+json": {
       "model_id": "ca5f2b8a316a4d7ea22be0401cbb1b35",
       "version_major": 2,
       "version_minor": 0
      },
      "text/plain": [
       "Predicting: 96it [00:00, ?it/s]"
      ]
     },
     "metadata": {},
     "output_type": "display_data"
    },
    {
     "data": {
      "application/vnd.jupyter.widget-view+json": {
       "model_id": "7f8dc491cd1a4f568d1f3e1751a2551d",
       "version_major": 2,
       "version_minor": 0
      },
      "text/plain": [
       "Predicting: 96it [00:00, ?it/s]"
      ]
     },
     "metadata": {},
     "output_type": "display_data"
    },
    {
     "data": {
      "application/vnd.jupyter.widget-view+json": {
       "model_id": "c12649843d1b45f4ad3285806c926a92",
       "version_major": 2,
       "version_minor": 0
      },
      "text/plain": [
       "Predicting: 96it [00:00, ?it/s]"
      ]
     },
     "metadata": {},
     "output_type": "display_data"
    },
    {
     "data": {
      "application/vnd.jupyter.widget-view+json": {
       "model_id": "87f206f53e3d40348d46cb681c9fc710",
       "version_major": 2,
       "version_minor": 0
      },
      "text/plain": [
       "Predicting: 96it [00:00, ?it/s]"
      ]
     },
     "metadata": {},
     "output_type": "display_data"
    },
    {
     "data": {
      "application/vnd.jupyter.widget-view+json": {
       "model_id": "a5a3339d653e4e3389f0cb00b7227089",
       "version_major": 2,
       "version_minor": 0
      },
      "text/plain": [
       "Predicting: 96it [00:00, ?it/s]"
      ]
     },
     "metadata": {},
     "output_type": "display_data"
    },
    {
     "data": {
      "application/vnd.jupyter.widget-view+json": {
       "model_id": "4d9e4c9ff2a14903b019c7e36d49501c",
       "version_major": 2,
       "version_minor": 0
      },
      "text/plain": [
       "Predicting: 96it [00:00, ?it/s]"
      ]
     },
     "metadata": {},
     "output_type": "display_data"
    },
    {
     "data": {
      "application/vnd.jupyter.widget-view+json": {
       "model_id": "e730f9d7e12748188e4110245ee781e5",
       "version_major": 2,
       "version_minor": 0
      },
      "text/plain": [
       "Predicting: 96it [00:00, ?it/s]"
      ]
     },
     "metadata": {},
     "output_type": "display_data"
    },
    {
     "data": {
      "application/vnd.jupyter.widget-view+json": {
       "model_id": "0a6cd2ac8a3f431b82acf40bad41bbb1",
       "version_major": 2,
       "version_minor": 0
      },
      "text/plain": [
       "Predicting: 96it [00:00, ?it/s]"
      ]
     },
     "metadata": {},
     "output_type": "display_data"
    },
    {
     "data": {
      "application/vnd.jupyter.widget-view+json": {
       "model_id": "41a62c5acb6549988f9525fecaa1a09e",
       "version_major": 2,
       "version_minor": 0
      },
      "text/plain": [
       "Predicting: 96it [00:00, ?it/s]"
      ]
     },
     "metadata": {},
     "output_type": "display_data"
    },
    {
     "data": {
      "application/vnd.jupyter.widget-view+json": {
       "model_id": "3c3ba4597abe4051a506fb44b1e821ba",
       "version_major": 2,
       "version_minor": 0
      },
      "text/plain": [
       "Predicting: 96it [00:00, ?it/s]"
      ]
     },
     "metadata": {},
     "output_type": "display_data"
    },
    {
     "data": {
      "application/vnd.jupyter.widget-view+json": {
       "model_id": "41086b638aca41cd983622d95ea8ef3b",
       "version_major": 2,
       "version_minor": 0
      },
      "text/plain": [
       "Predicting: 96it [00:00, ?it/s]"
      ]
     },
     "metadata": {},
     "output_type": "display_data"
    },
    {
     "data": {
      "application/vnd.jupyter.widget-view+json": {
       "model_id": "6cca8b9e51e046f9b5dc3699860bc64c",
       "version_major": 2,
       "version_minor": 0
      },
      "text/plain": [
       "Predicting: 96it [00:00, ?it/s]"
      ]
     },
     "metadata": {},
     "output_type": "display_data"
    },
    {
     "data": {
      "application/vnd.jupyter.widget-view+json": {
       "model_id": "d4360dbfebe645cbb2ff6e82798dbc83",
       "version_major": 2,
       "version_minor": 0
      },
      "text/plain": [
       "Predicting: 96it [00:00, ?it/s]"
      ]
     },
     "metadata": {},
     "output_type": "display_data"
    },
    {
     "data": {
      "application/vnd.jupyter.widget-view+json": {
       "model_id": "c34e8ef50e38467ba05da2c23c2eff64",
       "version_major": 2,
       "version_minor": 0
      },
      "text/plain": [
       "Predicting: 96it [00:00, ?it/s]"
      ]
     },
     "metadata": {},
     "output_type": "display_data"
    },
    {
     "data": {
      "application/vnd.jupyter.widget-view+json": {
       "model_id": "3b3411365cb74ddaafd8a7bce2559090",
       "version_major": 2,
       "version_minor": 0
      },
      "text/plain": [
       "Predicting: 96it [00:00, ?it/s]"
      ]
     },
     "metadata": {},
     "output_type": "display_data"
    },
    {
     "data": {
      "application/vnd.jupyter.widget-view+json": {
       "model_id": "d8e7f20e81f14bd89ece62f43b988ab8",
       "version_major": 2,
       "version_minor": 0
      },
      "text/plain": [
       "Predicting: 96it [00:00, ?it/s]"
      ]
     },
     "metadata": {},
     "output_type": "display_data"
    },
    {
     "data": {
      "application/vnd.jupyter.widget-view+json": {
       "model_id": "abe1efc4ee1b40b38226eb3ac1e48209",
       "version_major": 2,
       "version_minor": 0
      },
      "text/plain": [
       "Predicting: 96it [00:00, ?it/s]"
      ]
     },
     "metadata": {},
     "output_type": "display_data"
    },
    {
     "data": {
      "application/vnd.jupyter.widget-view+json": {
       "model_id": "810c91f2cd4e4431b9f6f86b42641270",
       "version_major": 2,
       "version_minor": 0
      },
      "text/plain": [
       "Predicting: 96it [00:00, ?it/s]"
      ]
     },
     "metadata": {},
     "output_type": "display_data"
    },
    {
     "data": {
      "application/vnd.jupyter.widget-view+json": {
       "model_id": "83a5fd4623c04011ba129c17612c1322",
       "version_major": 2,
       "version_minor": 0
      },
      "text/plain": [
       "Predicting: 96it [00:00, ?it/s]"
      ]
     },
     "metadata": {},
     "output_type": "display_data"
    },
    {
     "data": {
      "application/vnd.jupyter.widget-view+json": {
       "model_id": "0ed52e9784b742bbafaf20c129652c09",
       "version_major": 2,
       "version_minor": 0
      },
      "text/plain": [
       "Predicting: 96it [00:00, ?it/s]"
      ]
     },
     "metadata": {},
     "output_type": "display_data"
    },
    {
     "data": {
      "application/vnd.jupyter.widget-view+json": {
       "model_id": "cb763ecfe4c84d8983733fd6fd41c3e3",
       "version_major": 2,
       "version_minor": 0
      },
      "text/plain": [
       "Predicting: 96it [00:00, ?it/s]"
      ]
     },
     "metadata": {},
     "output_type": "display_data"
    },
    {
     "data": {
      "application/vnd.jupyter.widget-view+json": {
       "model_id": "1528cac35ee94176b530db77913c89ac",
       "version_major": 2,
       "version_minor": 0
      },
      "text/plain": [
       "Predicting: 96it [00:00, ?it/s]"
      ]
     },
     "metadata": {},
     "output_type": "display_data"
    },
    {
     "data": {
      "application/vnd.jupyter.widget-view+json": {
       "model_id": "b262e7794a434d7f8cac337485c692fe",
       "version_major": 2,
       "version_minor": 0
      },
      "text/plain": [
       "Predicting: 96it [00:00, ?it/s]"
      ]
     },
     "metadata": {},
     "output_type": "display_data"
    },
    {
     "data": {
      "application/vnd.jupyter.widget-view+json": {
       "model_id": "ca434e737b9b49959a79024fac53d5e5",
       "version_major": 2,
       "version_minor": 0
      },
      "text/plain": [
       "Predicting: 96it [00:00, ?it/s]"
      ]
     },
     "metadata": {},
     "output_type": "display_data"
    },
    {
     "data": {
      "application/vnd.jupyter.widget-view+json": {
       "model_id": "beee618f52a94217bda3722a6cf8a294",
       "version_major": 2,
       "version_minor": 0
      },
      "text/plain": [
       "Predicting: 96it [00:00, ?it/s]"
      ]
     },
     "metadata": {},
     "output_type": "display_data"
    },
    {
     "data": {
      "application/vnd.jupyter.widget-view+json": {
       "model_id": "dc4c85e704c04e61b81ae61c53b6fec0",
       "version_major": 2,
       "version_minor": 0
      },
      "text/plain": [
       "Predicting: 96it [00:00, ?it/s]"
      ]
     },
     "metadata": {},
     "output_type": "display_data"
    },
    {
     "data": {
      "application/vnd.jupyter.widget-view+json": {
       "model_id": "570ff0fb5b8e4a47bdfc9173e9d8de9f",
       "version_major": 2,
       "version_minor": 0
      },
      "text/plain": [
       "Predicting: 96it [00:00, ?it/s]"
      ]
     },
     "metadata": {},
     "output_type": "display_data"
    },
    {
     "data": {
      "application/vnd.jupyter.widget-view+json": {
       "model_id": "eb63d7d50d654ea2bce0cbcc9c06e0d6",
       "version_major": 2,
       "version_minor": 0
      },
      "text/plain": [
       "Predicting: 96it [00:00, ?it/s]"
      ]
     },
     "metadata": {},
     "output_type": "display_data"
    },
    {
     "data": {
      "application/vnd.jupyter.widget-view+json": {
       "model_id": "d2d93ad2ad144b5c8e36d6f1fe49de29",
       "version_major": 2,
       "version_minor": 0
      },
      "text/plain": [
       "Predicting: 96it [00:00, ?it/s]"
      ]
     },
     "metadata": {},
     "output_type": "display_data"
    },
    {
     "data": {
      "application/vnd.jupyter.widget-view+json": {
       "model_id": "af2bd82e621b4b9db5bda7edfdf0ccef",
       "version_major": 2,
       "version_minor": 0
      },
      "text/plain": [
       "Predicting: 96it [00:00, ?it/s]"
      ]
     },
     "metadata": {},
     "output_type": "display_data"
    },
    {
     "data": {
      "application/vnd.jupyter.widget-view+json": {
       "model_id": "0ac52f12586d484d9f4a0578820fef4f",
       "version_major": 2,
       "version_minor": 0
      },
      "text/plain": [
       "Predicting: 96it [00:00, ?it/s]"
      ]
     },
     "metadata": {},
     "output_type": "display_data"
    },
    {
     "data": {
      "application/vnd.jupyter.widget-view+json": {
       "model_id": "1f7dc47b27e9473da20f3b8b7e23b7fc",
       "version_major": 2,
       "version_minor": 0
      },
      "text/plain": [
       "Predicting: 96it [00:00, ?it/s]"
      ]
     },
     "metadata": {},
     "output_type": "display_data"
    },
    {
     "data": {
      "application/vnd.jupyter.widget-view+json": {
       "model_id": "76c5df3062a54ee7961a5111beca0840",
       "version_major": 2,
       "version_minor": 0
      },
      "text/plain": [
       "Predicting: 96it [00:00, ?it/s]"
      ]
     },
     "metadata": {},
     "output_type": "display_data"
    },
    {
     "data": {
      "application/vnd.jupyter.widget-view+json": {
       "model_id": "c4d3c60a441e40cb9d4b7b762dc64e4c",
       "version_major": 2,
       "version_minor": 0
      },
      "text/plain": [
       "Predicting: 96it [00:00, ?it/s]"
      ]
     },
     "metadata": {},
     "output_type": "display_data"
    },
    {
     "data": {
      "application/vnd.jupyter.widget-view+json": {
       "model_id": "fda8292e7ba24eb4b27e2623e76cf337",
       "version_major": 2,
       "version_minor": 0
      },
      "text/plain": [
       "Predicting: 96it [00:00, ?it/s]"
      ]
     },
     "metadata": {},
     "output_type": "display_data"
    },
    {
     "data": {
      "application/vnd.jupyter.widget-view+json": {
       "model_id": "4831b8eadc5249009c387bf34f779e62",
       "version_major": 2,
       "version_minor": 0
      },
      "text/plain": [
       "Predicting: 96it [00:00, ?it/s]"
      ]
     },
     "metadata": {},
     "output_type": "display_data"
    },
    {
     "data": {
      "application/vnd.jupyter.widget-view+json": {
       "model_id": "82d8f53c59b44efd88d6cbfe73322393",
       "version_major": 2,
       "version_minor": 0
      },
      "text/plain": [
       "Predicting: 96it [00:00, ?it/s]"
      ]
     },
     "metadata": {},
     "output_type": "display_data"
    },
    {
     "data": {
      "application/vnd.jupyter.widget-view+json": {
       "model_id": "56611652940d42b79ecd0bf3d5609b40",
       "version_major": 2,
       "version_minor": 0
      },
      "text/plain": [
       "Predicting: 96it [00:00, ?it/s]"
      ]
     },
     "metadata": {},
     "output_type": "display_data"
    },
    {
     "data": {
      "application/vnd.jupyter.widget-view+json": {
       "model_id": "3a977dda0fd445618e0b0ac36bcf4231",
       "version_major": 2,
       "version_minor": 0
      },
      "text/plain": [
       "Predicting: 96it [00:00, ?it/s]"
      ]
     },
     "metadata": {},
     "output_type": "display_data"
    },
    {
     "data": {
      "application/vnd.jupyter.widget-view+json": {
       "model_id": "efe9d78d4fee417da33b1fde81ad3a50",
       "version_major": 2,
       "version_minor": 0
      },
      "text/plain": [
       "Predicting: 96it [00:00, ?it/s]"
      ]
     },
     "metadata": {},
     "output_type": "display_data"
    },
    {
     "data": {
      "application/vnd.jupyter.widget-view+json": {
       "model_id": "af7a729e88b44e87bc5177d62e8eddc4",
       "version_major": 2,
       "version_minor": 0
      },
      "text/plain": [
       "Predicting: 96it [00:00, ?it/s]"
      ]
     },
     "metadata": {},
     "output_type": "display_data"
    },
    {
     "data": {
      "application/vnd.jupyter.widget-view+json": {
       "model_id": "90cb7bd1807340b7aba7b1fbcebf068a",
       "version_major": 2,
       "version_minor": 0
      },
      "text/plain": [
       "Predicting: 96it [00:00, ?it/s]"
      ]
     },
     "metadata": {},
     "output_type": "display_data"
    },
    {
     "data": {
      "application/vnd.jupyter.widget-view+json": {
       "model_id": "75cd7d2447094812af9f76c4151be54f",
       "version_major": 2,
       "version_minor": 0
      },
      "text/plain": [
       "Predicting: 96it [00:00, ?it/s]"
      ]
     },
     "metadata": {},
     "output_type": "display_data"
    },
    {
     "data": {
      "application/vnd.jupyter.widget-view+json": {
       "model_id": "d2e5f1bcdd2242e9b2a29569932db022",
       "version_major": 2,
       "version_minor": 0
      },
      "text/plain": [
       "Predicting: 96it [00:00, ?it/s]"
      ]
     },
     "metadata": {},
     "output_type": "display_data"
    },
    {
     "data": {
      "application/vnd.jupyter.widget-view+json": {
       "model_id": "562b1572872141769f8da0c1ea01d796",
       "version_major": 2,
       "version_minor": 0
      },
      "text/plain": [
       "Predicting: 96it [00:00, ?it/s]"
      ]
     },
     "metadata": {},
     "output_type": "display_data"
    },
    {
     "data": {
      "application/vnd.jupyter.widget-view+json": {
       "model_id": "298d10908a354383971114b94b22165d",
       "version_major": 2,
       "version_minor": 0
      },
      "text/plain": [
       "Predicting: 96it [00:00, ?it/s]"
      ]
     },
     "metadata": {},
     "output_type": "display_data"
    },
    {
     "data": {
      "application/vnd.jupyter.widget-view+json": {
       "model_id": "b32ff35a11754cb08617a51557f7e848",
       "version_major": 2,
       "version_minor": 0
      },
      "text/plain": [
       "Predicting: 96it [00:00, ?it/s]"
      ]
     },
     "metadata": {},
     "output_type": "display_data"
    },
    {
     "data": {
      "application/vnd.jupyter.widget-view+json": {
       "model_id": "ad1f6167752c466b8d0d29bf8c7480bc",
       "version_major": 2,
       "version_minor": 0
      },
      "text/plain": [
       "Predicting: 96it [00:00, ?it/s]"
      ]
     },
     "metadata": {},
     "output_type": "display_data"
    },
    {
     "data": {
      "application/vnd.jupyter.widget-view+json": {
       "model_id": "9c77e21c4e924573958a4ebd14eba770",
       "version_major": 2,
       "version_minor": 0
      },
      "text/plain": [
       "Predicting: 96it [00:00, ?it/s]"
      ]
     },
     "metadata": {},
     "output_type": "display_data"
    },
    {
     "data": {
      "application/vnd.jupyter.widget-view+json": {
       "model_id": "3333d6358db94b438408acf0fd1090c1",
       "version_major": 2,
       "version_minor": 0
      },
      "text/plain": [
       "Predicting: 96it [00:00, ?it/s]"
      ]
     },
     "metadata": {},
     "output_type": "display_data"
    },
    {
     "data": {
      "application/vnd.jupyter.widget-view+json": {
       "model_id": "8681c670555a48bab5d373603b42cf2d",
       "version_major": 2,
       "version_minor": 0
      },
      "text/plain": [
       "Predicting: 96it [00:00, ?it/s]"
      ]
     },
     "metadata": {},
     "output_type": "display_data"
    },
    {
     "data": {
      "application/vnd.jupyter.widget-view+json": {
       "model_id": "2921358e39974cfaa9ca42460a70b95b",
       "version_major": 2,
       "version_minor": 0
      },
      "text/plain": [
       "Predicting: 96it [00:00, ?it/s]"
      ]
     },
     "metadata": {},
     "output_type": "display_data"
    },
    {
     "data": {
      "application/vnd.jupyter.widget-view+json": {
       "model_id": "0c4fdbd859b747e9b13e1a63b3b6435f",
       "version_major": 2,
       "version_minor": 0
      },
      "text/plain": [
       "Predicting: 96it [00:00, ?it/s]"
      ]
     },
     "metadata": {},
     "output_type": "display_data"
    },
    {
     "data": {
      "application/vnd.jupyter.widget-view+json": {
       "model_id": "a61d166dedc948028d72736bae913ade",
       "version_major": 2,
       "version_minor": 0
      },
      "text/plain": [
       "Predicting: 96it [00:00, ?it/s]"
      ]
     },
     "metadata": {},
     "output_type": "display_data"
    },
    {
     "data": {
      "application/vnd.jupyter.widget-view+json": {
       "model_id": "a4d263cb9d2d4b8487fe6674e148116f",
       "version_major": 2,
       "version_minor": 0
      },
      "text/plain": [
       "Predicting: 96it [00:00, ?it/s]"
      ]
     },
     "metadata": {},
     "output_type": "display_data"
    },
    {
     "data": {
      "application/vnd.jupyter.widget-view+json": {
       "model_id": "969b4437fbd2468f9657ee3bbaa0809b",
       "version_major": 2,
       "version_minor": 0
      },
      "text/plain": [
       "Predicting: 96it [00:00, ?it/s]"
      ]
     },
     "metadata": {},
     "output_type": "display_data"
    },
    {
     "data": {
      "application/vnd.jupyter.widget-view+json": {
       "model_id": "680b099304554c30a0be429186da9fdf",
       "version_major": 2,
       "version_minor": 0
      },
      "text/plain": [
       "Predicting: 96it [00:00, ?it/s]"
      ]
     },
     "metadata": {},
     "output_type": "display_data"
    },
    {
     "data": {
      "application/vnd.jupyter.widget-view+json": {
       "model_id": "a0800897593b4d4a9b66e9a21a0b4432",
       "version_major": 2,
       "version_minor": 0
      },
      "text/plain": [
       "Predicting: 96it [00:00, ?it/s]"
      ]
     },
     "metadata": {},
     "output_type": "display_data"
    },
    {
     "data": {
      "application/vnd.jupyter.widget-view+json": {
       "model_id": "061a33e2d2ae441e93b8330ae0baa2bc",
       "version_major": 2,
       "version_minor": 0
      },
      "text/plain": [
       "Predicting: 96it [00:00, ?it/s]"
      ]
     },
     "metadata": {},
     "output_type": "display_data"
    },
    {
     "data": {
      "application/vnd.jupyter.widget-view+json": {
       "model_id": "353fcb6a5b6e4bf5afbb737d4678e85c",
       "version_major": 2,
       "version_minor": 0
      },
      "text/plain": [
       "Predicting: 96it [00:00, ?it/s]"
      ]
     },
     "metadata": {},
     "output_type": "display_data"
    },
    {
     "data": {
      "application/vnd.jupyter.widget-view+json": {
       "model_id": "cec5337366e4472589242c088291451e",
       "version_major": 2,
       "version_minor": 0
      },
      "text/plain": [
       "Predicting: 96it [00:00, ?it/s]"
      ]
     },
     "metadata": {},
     "output_type": "display_data"
    },
    {
     "data": {
      "application/vnd.jupyter.widget-view+json": {
       "model_id": "dc9e3808a4c943d9b43f868ce4f50dca",
       "version_major": 2,
       "version_minor": 0
      },
      "text/plain": [
       "Predicting: 96it [00:00, ?it/s]"
      ]
     },
     "metadata": {},
     "output_type": "display_data"
    },
    {
     "data": {
      "application/vnd.jupyter.widget-view+json": {
       "model_id": "e34dc3bea16d44b78223b3963e3d3d42",
       "version_major": 2,
       "version_minor": 0
      },
      "text/plain": [
       "Predicting: 96it [00:00, ?it/s]"
      ]
     },
     "metadata": {},
     "output_type": "display_data"
    },
    {
     "data": {
      "application/vnd.jupyter.widget-view+json": {
       "model_id": "f064b9fb198243b1b926f0990b980772",
       "version_major": 2,
       "version_minor": 0
      },
      "text/plain": [
       "Predicting: 96it [00:00, ?it/s]"
      ]
     },
     "metadata": {},
     "output_type": "display_data"
    },
    {
     "data": {
      "application/vnd.jupyter.widget-view+json": {
       "model_id": "fb35ebb33949458389f62180a6e12117",
       "version_major": 2,
       "version_minor": 0
      },
      "text/plain": [
       "Predicting: 96it [00:00, ?it/s]"
      ]
     },
     "metadata": {},
     "output_type": "display_data"
    },
    {
     "data": {
      "application/vnd.jupyter.widget-view+json": {
       "model_id": "522548d2e7044ae180e0b9653aa24689",
       "version_major": 2,
       "version_minor": 0
      },
      "text/plain": [
       "Predicting: 96it [00:00, ?it/s]"
      ]
     },
     "metadata": {},
     "output_type": "display_data"
    },
    {
     "data": {
      "application/vnd.jupyter.widget-view+json": {
       "model_id": "a04264b7534047a2aae4e0210a5e4a40",
       "version_major": 2,
       "version_minor": 0
      },
      "text/plain": [
       "Predicting: 96it [00:00, ?it/s]"
      ]
     },
     "metadata": {},
     "output_type": "display_data"
    },
    {
     "data": {
      "application/vnd.jupyter.widget-view+json": {
       "model_id": "4a7a7ec89946415598d8822fe04773f3",
       "version_major": 2,
       "version_minor": 0
      },
      "text/plain": [
       "Predicting: 96it [00:00, ?it/s]"
      ]
     },
     "metadata": {},
     "output_type": "display_data"
    },
    {
     "data": {
      "application/vnd.jupyter.widget-view+json": {
       "model_id": "fe7f79cf7b684ca690483f2e20af5665",
       "version_major": 2,
       "version_minor": 0
      },
      "text/plain": [
       "Predicting: 96it [00:00, ?it/s]"
      ]
     },
     "metadata": {},
     "output_type": "display_data"
    },
    {
     "data": {
      "application/vnd.jupyter.widget-view+json": {
       "model_id": "771d740a8c5d418d9f4068d42dd2849c",
       "version_major": 2,
       "version_minor": 0
      },
      "text/plain": [
       "Predicting: 96it [00:00, ?it/s]"
      ]
     },
     "metadata": {},
     "output_type": "display_data"
    },
    {
     "data": {
      "application/vnd.jupyter.widget-view+json": {
       "model_id": "30ed5592baec4ec2a97413eca2903291",
       "version_major": 2,
       "version_minor": 0
      },
      "text/plain": [
       "Predicting: 96it [00:00, ?it/s]"
      ]
     },
     "metadata": {},
     "output_type": "display_data"
    },
    {
     "data": {
      "application/vnd.jupyter.widget-view+json": {
       "model_id": "dfd05bed0a6e4dd48f0d46c8d5e4fd5f",
       "version_major": 2,
       "version_minor": 0
      },
      "text/plain": [
       "Predicting: 96it [00:00, ?it/s]"
      ]
     },
     "metadata": {},
     "output_type": "display_data"
    },
    {
     "data": {
      "application/vnd.jupyter.widget-view+json": {
       "model_id": "cc1ce2e3676e4ca38cca995ae4c106aa",
       "version_major": 2,
       "version_minor": 0
      },
      "text/plain": [
       "Predicting: 96it [00:00, ?it/s]"
      ]
     },
     "metadata": {},
     "output_type": "display_data"
    },
    {
     "data": {
      "application/vnd.jupyter.widget-view+json": {
       "model_id": "508c4ecc603a40518510980bb1cb4541",
       "version_major": 2,
       "version_minor": 0
      },
      "text/plain": [
       "Predicting: 96it [00:00, ?it/s]"
      ]
     },
     "metadata": {},
     "output_type": "display_data"
    },
    {
     "data": {
      "application/vnd.jupyter.widget-view+json": {
       "model_id": "6c7cb9c862fe4fe2b8767a13d6a09eec",
       "version_major": 2,
       "version_minor": 0
      },
      "text/plain": [
       "Predicting: 96it [00:00, ?it/s]"
      ]
     },
     "metadata": {},
     "output_type": "display_data"
    },
    {
     "data": {
      "application/vnd.jupyter.widget-view+json": {
       "model_id": "ba3d91de82fb40949865cfe56cb7dd6c",
       "version_major": 2,
       "version_minor": 0
      },
      "text/plain": [
       "Predicting: 96it [00:00, ?it/s]"
      ]
     },
     "metadata": {},
     "output_type": "display_data"
    },
    {
     "data": {
      "application/vnd.jupyter.widget-view+json": {
       "model_id": "eb48efd47a4842959db59a699e748d91",
       "version_major": 2,
       "version_minor": 0
      },
      "text/plain": [
       "Predicting: 96it [00:00, ?it/s]"
      ]
     },
     "metadata": {},
     "output_type": "display_data"
    },
    {
     "data": {
      "application/vnd.jupyter.widget-view+json": {
       "model_id": "b93198c6caa049d1804ea3e59998dd5c",
       "version_major": 2,
       "version_minor": 0
      },
      "text/plain": [
       "Predicting: 96it [00:00, ?it/s]"
      ]
     },
     "metadata": {},
     "output_type": "display_data"
    },
    {
     "data": {
      "application/vnd.jupyter.widget-view+json": {
       "model_id": "85c95ae5f84b4efbba1a5f032cbe0311",
       "version_major": 2,
       "version_minor": 0
      },
      "text/plain": [
       "Predicting: 96it [00:00, ?it/s]"
      ]
     },
     "metadata": {},
     "output_type": "display_data"
    },
    {
     "data": {
      "application/vnd.jupyter.widget-view+json": {
       "model_id": "e3194ffa0624427e8f86c6a1d767acd1",
       "version_major": 2,
       "version_minor": 0
      },
      "text/plain": [
       "Predicting: 96it [00:00, ?it/s]"
      ]
     },
     "metadata": {},
     "output_type": "display_data"
    },
    {
     "data": {
      "application/vnd.jupyter.widget-view+json": {
       "model_id": "5ddc38c210a84e4993286e65981c6b41",
       "version_major": 2,
       "version_minor": 0
      },
      "text/plain": [
       "Predicting: 96it [00:00, ?it/s]"
      ]
     },
     "metadata": {},
     "output_type": "display_data"
    },
    {
     "data": {
      "application/vnd.jupyter.widget-view+json": {
       "model_id": "460e3db69d8c4ac0bc5a012d8bd04c8a",
       "version_major": 2,
       "version_minor": 0
      },
      "text/plain": [
       "Predicting: 96it [00:00, ?it/s]"
      ]
     },
     "metadata": {},
     "output_type": "display_data"
    },
    {
     "data": {
      "application/vnd.jupyter.widget-view+json": {
       "model_id": "9f12ed70db514e699c172eff857aba09",
       "version_major": 2,
       "version_minor": 0
      },
      "text/plain": [
       "Predicting: 96it [00:00, ?it/s]"
      ]
     },
     "metadata": {},
     "output_type": "display_data"
    },
    {
     "data": {
      "application/vnd.jupyter.widget-view+json": {
       "model_id": "3970bb7fe1a948cc8a3483e78af8f941",
       "version_major": 2,
       "version_minor": 0
      },
      "text/plain": [
       "Predicting: 96it [00:00, ?it/s]"
      ]
     },
     "metadata": {},
     "output_type": "display_data"
    },
    {
     "data": {
      "application/vnd.jupyter.widget-view+json": {
       "model_id": "c0852586bc0f47a48464a9d8f7a98ac3",
       "version_major": 2,
       "version_minor": 0
      },
      "text/plain": [
       "Predicting: 96it [00:00, ?it/s]"
      ]
     },
     "metadata": {},
     "output_type": "display_data"
    },
    {
     "data": {
      "application/vnd.jupyter.widget-view+json": {
       "model_id": "c7e2052a8c554972817c3be8cd84039d",
       "version_major": 2,
       "version_minor": 0
      },
      "text/plain": [
       "Predicting: 96it [00:00, ?it/s]"
      ]
     },
     "metadata": {},
     "output_type": "display_data"
    },
    {
     "data": {
      "application/vnd.jupyter.widget-view+json": {
       "model_id": "b29ddc5c1a014010aee1fc7c53f5a565",
       "version_major": 2,
       "version_minor": 0
      },
      "text/plain": [
       "Predicting: 96it [00:00, ?it/s]"
      ]
     },
     "metadata": {},
     "output_type": "display_data"
    },
    {
     "data": {
      "application/vnd.jupyter.widget-view+json": {
       "model_id": "ebcf595928dc4dc6bbb0a898353771e4",
       "version_major": 2,
       "version_minor": 0
      },
      "text/plain": [
       "Predicting: 96it [00:00, ?it/s]"
      ]
     },
     "metadata": {},
     "output_type": "display_data"
    },
    {
     "data": {
      "application/vnd.jupyter.widget-view+json": {
       "model_id": "5073a25f36044560af00bbf1b95e536e",
       "version_major": 2,
       "version_minor": 0
      },
      "text/plain": [
       "Predicting: 96it [00:00, ?it/s]"
      ]
     },
     "metadata": {},
     "output_type": "display_data"
    },
    {
     "data": {
      "application/vnd.jupyter.widget-view+json": {
       "model_id": "5fe6cfe5090f4ce5b95b06dd6047dda0",
       "version_major": 2,
       "version_minor": 0
      },
      "text/plain": [
       "Predicting: 96it [00:00, ?it/s]"
      ]
     },
     "metadata": {},
     "output_type": "display_data"
    },
    {
     "data": {
      "application/vnd.jupyter.widget-view+json": {
       "model_id": "04a4220159f54507ba7821d0d3c29b6f",
       "version_major": 2,
       "version_minor": 0
      },
      "text/plain": [
       "Predicting: 96it [00:00, ?it/s]"
      ]
     },
     "metadata": {},
     "output_type": "display_data"
    },
    {
     "data": {
      "application/vnd.jupyter.widget-view+json": {
       "model_id": "6b5782af589941fcbf9d1b4f2f43dac5",
       "version_major": 2,
       "version_minor": 0
      },
      "text/plain": [
       "Predicting: 96it [00:00, ?it/s]"
      ]
     },
     "metadata": {},
     "output_type": "display_data"
    },
    {
     "data": {
      "application/vnd.jupyter.widget-view+json": {
       "model_id": "cfe42dc3491a461189fb8a7fbf59783f",
       "version_major": 2,
       "version_minor": 0
      },
      "text/plain": [
       "Predicting: 96it [00:00, ?it/s]"
      ]
     },
     "metadata": {},
     "output_type": "display_data"
    },
    {
     "data": {
      "application/vnd.jupyter.widget-view+json": {
       "model_id": "bc2ce7dddb26450e8756e32f66f290a7",
       "version_major": 2,
       "version_minor": 0
      },
      "text/plain": [
       "Predicting: 96it [00:00, ?it/s]"
      ]
     },
     "metadata": {},
     "output_type": "display_data"
    },
    {
     "data": {
      "application/vnd.jupyter.widget-view+json": {
       "model_id": "393d64a3b90d43749fca902589ecbb6c",
       "version_major": 2,
       "version_minor": 0
      },
      "text/plain": [
       "Predicting: 96it [00:00, ?it/s]"
      ]
     },
     "metadata": {},
     "output_type": "display_data"
    },
    {
     "data": {
      "application/vnd.jupyter.widget-view+json": {
       "model_id": "c7fb136112f44c77bd93afcae3c6aa74",
       "version_major": 2,
       "version_minor": 0
      },
      "text/plain": [
       "Predicting: 96it [00:00, ?it/s]"
      ]
     },
     "metadata": {},
     "output_type": "display_data"
    },
    {
     "data": {
      "application/vnd.jupyter.widget-view+json": {
       "model_id": "809c6c8feea84ce9a3aed99398e61b5e",
       "version_major": 2,
       "version_minor": 0
      },
      "text/plain": [
       "Predicting: 96it [00:00, ?it/s]"
      ]
     },
     "metadata": {},
     "output_type": "display_data"
    },
    {
     "data": {
      "application/vnd.jupyter.widget-view+json": {
       "model_id": "8f143c0950ef4f9ca8a27fc0a287adcb",
       "version_major": 2,
       "version_minor": 0
      },
      "text/plain": [
       "Predicting: 96it [00:00, ?it/s]"
      ]
     },
     "metadata": {},
     "output_type": "display_data"
    },
    {
     "data": {
      "application/vnd.jupyter.widget-view+json": {
       "model_id": "c266b23ce42f48988644f643f8df2240",
       "version_major": 2,
       "version_minor": 0
      },
      "text/plain": [
       "Predicting: 96it [00:00, ?it/s]"
      ]
     },
     "metadata": {},
     "output_type": "display_data"
    },
    {
     "data": {
      "application/vnd.jupyter.widget-view+json": {
       "model_id": "1f5982b5ad4e467089f944e1d5a0cb02",
       "version_major": 2,
       "version_minor": 0
      },
      "text/plain": [
       "Predicting: 96it [00:00, ?it/s]"
      ]
     },
     "metadata": {},
     "output_type": "display_data"
    },
    {
     "data": {
      "application/vnd.jupyter.widget-view+json": {
       "model_id": "771c2de849364e2b9a8e5046fe7cff80",
       "version_major": 2,
       "version_minor": 0
      },
      "text/plain": [
       "Predicting: 96it [00:00, ?it/s]"
      ]
     },
     "metadata": {},
     "output_type": "display_data"
    },
    {
     "data": {
      "application/vnd.jupyter.widget-view+json": {
       "model_id": "1859badf4b394b3187f8ef80c8a04c3d",
       "version_major": 2,
       "version_minor": 0
      },
      "text/plain": [
       "Predicting: 96it [00:00, ?it/s]"
      ]
     },
     "metadata": {},
     "output_type": "display_data"
    },
    {
     "data": {
      "application/vnd.jupyter.widget-view+json": {
       "model_id": "0285214d2b994f39b831753f83ce507e",
       "version_major": 2,
       "version_minor": 0
      },
      "text/plain": [
       "Predicting: 96it [00:00, ?it/s]"
      ]
     },
     "metadata": {},
     "output_type": "display_data"
    },
    {
     "data": {
      "application/vnd.jupyter.widget-view+json": {
       "model_id": "8b59ee1f101746389236180ebc301ac3",
       "version_major": 2,
       "version_minor": 0
      },
      "text/plain": [
       "Predicting: 96it [00:00, ?it/s]"
      ]
     },
     "metadata": {},
     "output_type": "display_data"
    },
    {
     "data": {
      "application/vnd.jupyter.widget-view+json": {
       "model_id": "e106ed82d5c0474991a789adc0254685",
       "version_major": 2,
       "version_minor": 0
      },
      "text/plain": [
       "Predicting: 96it [00:00, ?it/s]"
      ]
     },
     "metadata": {},
     "output_type": "display_data"
    },
    {
     "data": {
      "application/vnd.jupyter.widget-view+json": {
       "model_id": "b22615264beb42fc9422e5dd320e3fe5",
       "version_major": 2,
       "version_minor": 0
      },
      "text/plain": [
       "Predicting: 96it [00:00, ?it/s]"
      ]
     },
     "metadata": {},
     "output_type": "display_data"
    },
    {
     "data": {
      "application/vnd.jupyter.widget-view+json": {
       "model_id": "3a0afdd7c24947dabffdba14d9db16f6",
       "version_major": 2,
       "version_minor": 0
      },
      "text/plain": [
       "Predicting: 96it [00:00, ?it/s]"
      ]
     },
     "metadata": {},
     "output_type": "display_data"
    },
    {
     "data": {
      "application/vnd.jupyter.widget-view+json": {
       "model_id": "1cbde85f4ee3485ca7fa9e3e27a87e0d",
       "version_major": 2,
       "version_minor": 0
      },
      "text/plain": [
       "Predicting: 96it [00:00, ?it/s]"
      ]
     },
     "metadata": {},
     "output_type": "display_data"
    },
    {
     "data": {
      "application/vnd.jupyter.widget-view+json": {
       "model_id": "c9ea9fe3e368492285ddde10fb648923",
       "version_major": 2,
       "version_minor": 0
      },
      "text/plain": [
       "Predicting: 96it [00:00, ?it/s]"
      ]
     },
     "metadata": {},
     "output_type": "display_data"
    },
    {
     "data": {
      "application/vnd.jupyter.widget-view+json": {
       "model_id": "e68c6cd21e574762a813937db2941a21",
       "version_major": 2,
       "version_minor": 0
      },
      "text/plain": [
       "Predicting: 96it [00:00, ?it/s]"
      ]
     },
     "metadata": {},
     "output_type": "display_data"
    },
    {
     "data": {
      "application/vnd.jupyter.widget-view+json": {
       "model_id": "7bad5c99ba9d4318a416074b7d6070e8",
       "version_major": 2,
       "version_minor": 0
      },
      "text/plain": [
       "Predicting: 96it [00:00, ?it/s]"
      ]
     },
     "metadata": {},
     "output_type": "display_data"
    },
    {
     "data": {
      "application/vnd.jupyter.widget-view+json": {
       "model_id": "193fc9aca1ba45c69ca78a9e75574dec",
       "version_major": 2,
       "version_minor": 0
      },
      "text/plain": [
       "Predicting: 96it [00:00, ?it/s]"
      ]
     },
     "metadata": {},
     "output_type": "display_data"
    },
    {
     "data": {
      "application/vnd.jupyter.widget-view+json": {
       "model_id": "1a651dbfab1740c2af1b32c2ac538058",
       "version_major": 2,
       "version_minor": 0
      },
      "text/plain": [
       "Predicting: 96it [00:00, ?it/s]"
      ]
     },
     "metadata": {},
     "output_type": "display_data"
    },
    {
     "data": {
      "application/vnd.jupyter.widget-view+json": {
       "model_id": "482237d9bb544d0eaaaec164eade913a",
       "version_major": 2,
       "version_minor": 0
      },
      "text/plain": [
       "Predicting: 96it [00:00, ?it/s]"
      ]
     },
     "metadata": {},
     "output_type": "display_data"
    },
    {
     "data": {
      "application/vnd.jupyter.widget-view+json": {
       "model_id": "6f36da14107942869bf439dee4829210",
       "version_major": 2,
       "version_minor": 0
      },
      "text/plain": [
       "Predicting: 96it [00:00, ?it/s]"
      ]
     },
     "metadata": {},
     "output_type": "display_data"
    },
    {
     "data": {
      "application/vnd.jupyter.widget-view+json": {
       "model_id": "e958b3262ce94bad88d74d2b8bc72d4e",
       "version_major": 2,
       "version_minor": 0
      },
      "text/plain": [
       "Predicting: 96it [00:00, ?it/s]"
      ]
     },
     "metadata": {},
     "output_type": "display_data"
    },
    {
     "data": {
      "application/vnd.jupyter.widget-view+json": {
       "model_id": "41a94cea07ad447da17fc931197e7749",
       "version_major": 2,
       "version_minor": 0
      },
      "text/plain": [
       "Predicting: 96it [00:00, ?it/s]"
      ]
     },
     "metadata": {},
     "output_type": "display_data"
    },
    {
     "data": {
      "application/vnd.jupyter.widget-view+json": {
       "model_id": "cbe5820c8f8a41e085c80e9544f61a8d",
       "version_major": 2,
       "version_minor": 0
      },
      "text/plain": [
       "Predicting: 96it [00:00, ?it/s]"
      ]
     },
     "metadata": {},
     "output_type": "display_data"
    },
    {
     "data": {
      "application/vnd.jupyter.widget-view+json": {
       "model_id": "8006c40a2b354e80aa00ab70ea6dac88",
       "version_major": 2,
       "version_minor": 0
      },
      "text/plain": [
       "Predicting: 96it [00:00, ?it/s]"
      ]
     },
     "metadata": {},
     "output_type": "display_data"
    },
    {
     "data": {
      "application/vnd.jupyter.widget-view+json": {
       "model_id": "e3eaf2aa59a34de3b0eb54897c1432e1",
       "version_major": 2,
       "version_minor": 0
      },
      "text/plain": [
       "Predicting: 96it [00:00, ?it/s]"
      ]
     },
     "metadata": {},
     "output_type": "display_data"
    },
    {
     "data": {
      "application/vnd.jupyter.widget-view+json": {
       "model_id": "01a6529998c74d0aa9c5f08c58357586",
       "version_major": 2,
       "version_minor": 0
      },
      "text/plain": [
       "Predicting: 96it [00:00, ?it/s]"
      ]
     },
     "metadata": {},
     "output_type": "display_data"
    },
    {
     "data": {
      "application/vnd.jupyter.widget-view+json": {
       "model_id": "49cdb21349d2437ab918add0dded5e03",
       "version_major": 2,
       "version_minor": 0
      },
      "text/plain": [
       "Predicting: 96it [00:00, ?it/s]"
      ]
     },
     "metadata": {},
     "output_type": "display_data"
    },
    {
     "data": {
      "application/vnd.jupyter.widget-view+json": {
       "model_id": "6b2ea6289a0b482eb11ec07fd7cf8a88",
       "version_major": 2,
       "version_minor": 0
      },
      "text/plain": [
       "Predicting: 96it [00:00, ?it/s]"
      ]
     },
     "metadata": {},
     "output_type": "display_data"
    },
    {
     "data": {
      "application/vnd.jupyter.widget-view+json": {
       "model_id": "e3bbbbfe695d47ada12118652abe730e",
       "version_major": 2,
       "version_minor": 0
      },
      "text/plain": [
       "Predicting: 96it [00:00, ?it/s]"
      ]
     },
     "metadata": {},
     "output_type": "display_data"
    },
    {
     "data": {
      "application/vnd.jupyter.widget-view+json": {
       "model_id": "356045828bb146dabd82d883924059a7",
       "version_major": 2,
       "version_minor": 0
      },
      "text/plain": [
       "Predicting: 96it [00:00, ?it/s]"
      ]
     },
     "metadata": {},
     "output_type": "display_data"
    },
    {
     "data": {
      "application/vnd.jupyter.widget-view+json": {
       "model_id": "b3f053af6b5c4a5e9b8c10f658524ab1",
       "version_major": 2,
       "version_minor": 0
      },
      "text/plain": [
       "Predicting: 96it [00:00, ?it/s]"
      ]
     },
     "metadata": {},
     "output_type": "display_data"
    },
    {
     "data": {
      "application/vnd.jupyter.widget-view+json": {
       "model_id": "2739a33bb1da485d8f17ccf5549091c4",
       "version_major": 2,
       "version_minor": 0
      },
      "text/plain": [
       "Predicting: 96it [00:00, ?it/s]"
      ]
     },
     "metadata": {},
     "output_type": "display_data"
    },
    {
     "data": {
      "application/vnd.jupyter.widget-view+json": {
       "model_id": "2d0ffc4f5f884252819c6b1ce1ca7bf7",
       "version_major": 2,
       "version_minor": 0
      },
      "text/plain": [
       "Predicting: 96it [00:00, ?it/s]"
      ]
     },
     "metadata": {},
     "output_type": "display_data"
    },
    {
     "data": {
      "application/vnd.jupyter.widget-view+json": {
       "model_id": "596e5065c13f425cb8acb5bc5cc53b11",
       "version_major": 2,
       "version_minor": 0
      },
      "text/plain": [
       "Predicting: 96it [00:00, ?it/s]"
      ]
     },
     "metadata": {},
     "output_type": "display_data"
    },
    {
     "data": {
      "application/vnd.jupyter.widget-view+json": {
       "model_id": "ccb2c6b07c554cbca0efb9d48005b2f9",
       "version_major": 2,
       "version_minor": 0
      },
      "text/plain": [
       "Predicting: 96it [00:00, ?it/s]"
      ]
     },
     "metadata": {},
     "output_type": "display_data"
    },
    {
     "data": {
      "application/vnd.jupyter.widget-view+json": {
       "model_id": "d07ac1fadb84495db52ecfdac2d26dc5",
       "version_major": 2,
       "version_minor": 0
      },
      "text/plain": [
       "Predicting: 96it [00:00, ?it/s]"
      ]
     },
     "metadata": {},
     "output_type": "display_data"
    },
    {
     "data": {
      "application/vnd.jupyter.widget-view+json": {
       "model_id": "6c6923ae2e83472fa824087232ecdc5c",
       "version_major": 2,
       "version_minor": 0
      },
      "text/plain": [
       "Predicting: 96it [00:00, ?it/s]"
      ]
     },
     "metadata": {},
     "output_type": "display_data"
    },
    {
     "data": {
      "application/vnd.jupyter.widget-view+json": {
       "model_id": "2e27ef14ff564d5799dde6315a007482",
       "version_major": 2,
       "version_minor": 0
      },
      "text/plain": [
       "Predicting: 96it [00:00, ?it/s]"
      ]
     },
     "metadata": {},
     "output_type": "display_data"
    },
    {
     "data": {
      "application/vnd.jupyter.widget-view+json": {
       "model_id": "a5fdff7dbbc94045b72785e93e5001fa",
       "version_major": 2,
       "version_minor": 0
      },
      "text/plain": [
       "Predicting: 96it [00:00, ?it/s]"
      ]
     },
     "metadata": {},
     "output_type": "display_data"
    },
    {
     "data": {
      "application/vnd.jupyter.widget-view+json": {
       "model_id": "fbf88810bbfb4385b1dd8ec09f9d19a3",
       "version_major": 2,
       "version_minor": 0
      },
      "text/plain": [
       "Predicting: 96it [00:00, ?it/s]"
      ]
     },
     "metadata": {},
     "output_type": "display_data"
    },
    {
     "data": {
      "application/vnd.jupyter.widget-view+json": {
       "model_id": "ea5bd725acb445978233df29ed3f9382",
       "version_major": 2,
       "version_minor": 0
      },
      "text/plain": [
       "Predicting: 96it [00:00, ?it/s]"
      ]
     },
     "metadata": {},
     "output_type": "display_data"
    },
    {
     "data": {
      "application/vnd.jupyter.widget-view+json": {
       "model_id": "9241cc94982344319d56aee1d8c421eb",
       "version_major": 2,
       "version_minor": 0
      },
      "text/plain": [
       "Predicting: 96it [00:00, ?it/s]"
      ]
     },
     "metadata": {},
     "output_type": "display_data"
    },
    {
     "data": {
      "application/vnd.jupyter.widget-view+json": {
       "model_id": "3aaf03b089e6442aa7a65107b4110f7d",
       "version_major": 2,
       "version_minor": 0
      },
      "text/plain": [
       "Predicting: 96it [00:00, ?it/s]"
      ]
     },
     "metadata": {},
     "output_type": "display_data"
    },
    {
     "data": {
      "application/vnd.jupyter.widget-view+json": {
       "model_id": "b9a0246020bc4b0693cc8c30203c768b",
       "version_major": 2,
       "version_minor": 0
      },
      "text/plain": [
       "Predicting: 96it [00:00, ?it/s]"
      ]
     },
     "metadata": {},
     "output_type": "display_data"
    },
    {
     "data": {
      "application/vnd.jupyter.widget-view+json": {
       "model_id": "5be85e36e4ff4f0e99a99d9c68d79596",
       "version_major": 2,
       "version_minor": 0
      },
      "text/plain": [
       "Predicting: 96it [00:00, ?it/s]"
      ]
     },
     "metadata": {},
     "output_type": "display_data"
    },
    {
     "data": {
      "application/vnd.jupyter.widget-view+json": {
       "model_id": "d32c8a71eed74924bc9fbe5639247795",
       "version_major": 2,
       "version_minor": 0
      },
      "text/plain": [
       "Predicting: 96it [00:00, ?it/s]"
      ]
     },
     "metadata": {},
     "output_type": "display_data"
    },
    {
     "data": {
      "application/vnd.jupyter.widget-view+json": {
       "model_id": "25a36f0746fe4ce2a47c1fb895ed6694",
       "version_major": 2,
       "version_minor": 0
      },
      "text/plain": [
       "Predicting: 96it [00:00, ?it/s]"
      ]
     },
     "metadata": {},
     "output_type": "display_data"
    },
    {
     "data": {
      "application/vnd.jupyter.widget-view+json": {
       "model_id": "9148b21188824567baa8d5686416039f",
       "version_major": 2,
       "version_minor": 0
      },
      "text/plain": [
       "Predicting: 96it [00:00, ?it/s]"
      ]
     },
     "metadata": {},
     "output_type": "display_data"
    },
    {
     "data": {
      "application/vnd.jupyter.widget-view+json": {
       "model_id": "6f318d24118a422b8b0e7c3d1d9e909e",
       "version_major": 2,
       "version_minor": 0
      },
      "text/plain": [
       "Predicting: 96it [00:00, ?it/s]"
      ]
     },
     "metadata": {},
     "output_type": "display_data"
    },
    {
     "data": {
      "application/vnd.jupyter.widget-view+json": {
       "model_id": "33a0c36e862e43a9bd95302e0939a4be",
       "version_major": 2,
       "version_minor": 0
      },
      "text/plain": [
       "Predicting: 96it [00:00, ?it/s]"
      ]
     },
     "metadata": {},
     "output_type": "display_data"
    },
    {
     "data": {
      "application/vnd.jupyter.widget-view+json": {
       "model_id": "6081770eb27645458379696a9f092de4",
       "version_major": 2,
       "version_minor": 0
      },
      "text/plain": [
       "Predicting: 96it [00:00, ?it/s]"
      ]
     },
     "metadata": {},
     "output_type": "display_data"
    },
    {
     "data": {
      "application/vnd.jupyter.widget-view+json": {
       "model_id": "6efbdbd6211e4d3e92ac1816305cc226",
       "version_major": 2,
       "version_minor": 0
      },
      "text/plain": [
       "Predicting: 96it [00:00, ?it/s]"
      ]
     },
     "metadata": {},
     "output_type": "display_data"
    },
    {
     "data": {
      "application/vnd.jupyter.widget-view+json": {
       "model_id": "e39cbfd462934180972eb502cdcf7b9e",
       "version_major": 2,
       "version_minor": 0
      },
      "text/plain": [
       "Predicting: 96it [00:00, ?it/s]"
      ]
     },
     "metadata": {},
     "output_type": "display_data"
    },
    {
     "data": {
      "application/vnd.jupyter.widget-view+json": {
       "model_id": "94d1c53b19cb4e68922727e1a2b99e5e",
       "version_major": 2,
       "version_minor": 0
      },
      "text/plain": [
       "Predicting: 96it [00:00, ?it/s]"
      ]
     },
     "metadata": {},
     "output_type": "display_data"
    },
    {
     "data": {
      "application/vnd.jupyter.widget-view+json": {
       "model_id": "f7e84596c71e471fb57750eceb59c82c",
       "version_major": 2,
       "version_minor": 0
      },
      "text/plain": [
       "Predicting: 96it [00:00, ?it/s]"
      ]
     },
     "metadata": {},
     "output_type": "display_data"
    },
    {
     "data": {
      "application/vnd.jupyter.widget-view+json": {
       "model_id": "e35b8c6aca594243bbb54b0bf1b79f91",
       "version_major": 2,
       "version_minor": 0
      },
      "text/plain": [
       "Predicting: 96it [00:00, ?it/s]"
      ]
     },
     "metadata": {},
     "output_type": "display_data"
    },
    {
     "data": {
      "application/vnd.jupyter.widget-view+json": {
       "model_id": "f1574cbe9e66420fa052e4b35384bc3c",
       "version_major": 2,
       "version_minor": 0
      },
      "text/plain": [
       "Predicting: 96it [00:00, ?it/s]"
      ]
     },
     "metadata": {},
     "output_type": "display_data"
    },
    {
     "data": {
      "application/vnd.jupyter.widget-view+json": {
       "model_id": "2728305464a841beab2c1673d7f790a5",
       "version_major": 2,
       "version_minor": 0
      },
      "text/plain": [
       "Predicting: 96it [00:00, ?it/s]"
      ]
     },
     "metadata": {},
     "output_type": "display_data"
    },
    {
     "data": {
      "application/vnd.jupyter.widget-view+json": {
       "model_id": "6a84a049bca84bdd939ad07bd1642110",
       "version_major": 2,
       "version_minor": 0
      },
      "text/plain": [
       "Predicting: 96it [00:00, ?it/s]"
      ]
     },
     "metadata": {},
     "output_type": "display_data"
    },
    {
     "data": {
      "application/vnd.jupyter.widget-view+json": {
       "model_id": "46fe3212f6504f3692575557a0409ba7",
       "version_major": 2,
       "version_minor": 0
      },
      "text/plain": [
       "Predicting: 96it [00:00, ?it/s]"
      ]
     },
     "metadata": {},
     "output_type": "display_data"
    },
    {
     "data": {
      "application/vnd.jupyter.widget-view+json": {
       "model_id": "9a2b4740448d4b4989c116e1ea3b3580",
       "version_major": 2,
       "version_minor": 0
      },
      "text/plain": [
       "Predicting: 96it [00:00, ?it/s]"
      ]
     },
     "metadata": {},
     "output_type": "display_data"
    },
    {
     "data": {
      "application/vnd.jupyter.widget-view+json": {
       "model_id": "c95378c761ff43bda6a61156c5cf26d4",
       "version_major": 2,
       "version_minor": 0
      },
      "text/plain": [
       "Predicting: 96it [00:00, ?it/s]"
      ]
     },
     "metadata": {},
     "output_type": "display_data"
    },
    {
     "data": {
      "application/vnd.jupyter.widget-view+json": {
       "model_id": "2a01657c44b04dec93cbe4e9f7a6448e",
       "version_major": 2,
       "version_minor": 0
      },
      "text/plain": [
       "Predicting: 96it [00:00, ?it/s]"
      ]
     },
     "metadata": {},
     "output_type": "display_data"
    },
    {
     "data": {
      "application/vnd.jupyter.widget-view+json": {
       "model_id": "3f90fe2642ef4852b212c60e96e06a27",
       "version_major": 2,
       "version_minor": 0
      },
      "text/plain": [
       "Predicting: 96it [00:00, ?it/s]"
      ]
     },
     "metadata": {},
     "output_type": "display_data"
    },
    {
     "data": {
      "application/vnd.jupyter.widget-view+json": {
       "model_id": "99905157560b4c3c9eecb6cc781f3956",
       "version_major": 2,
       "version_minor": 0
      },
      "text/plain": [
       "Predicting: 96it [00:00, ?it/s]"
      ]
     },
     "metadata": {},
     "output_type": "display_data"
    },
    {
     "data": {
      "application/vnd.jupyter.widget-view+json": {
       "model_id": "fefd285cded04e80a53ecc7577ef00f4",
       "version_major": 2,
       "version_minor": 0
      },
      "text/plain": [
       "Predicting: 96it [00:00, ?it/s]"
      ]
     },
     "metadata": {},
     "output_type": "display_data"
    },
    {
     "data": {
      "application/vnd.jupyter.widget-view+json": {
       "model_id": "01a4ab14b7bd41b9b4b200851e0ced54",
       "version_major": 2,
       "version_minor": 0
      },
      "text/plain": [
       "Predicting: 96it [00:00, ?it/s]"
      ]
     },
     "metadata": {},
     "output_type": "display_data"
    },
    {
     "data": {
      "application/vnd.jupyter.widget-view+json": {
       "model_id": "01da41489aaf449a9350e5ac95fd5e10",
       "version_major": 2,
       "version_minor": 0
      },
      "text/plain": [
       "Predicting: 96it [00:00, ?it/s]"
      ]
     },
     "metadata": {},
     "output_type": "display_data"
    },
    {
     "data": {
      "application/vnd.jupyter.widget-view+json": {
       "model_id": "2d10e2b1d65b46eca2b52c18aad90fbc",
       "version_major": 2,
       "version_minor": 0
      },
      "text/plain": [
       "Predicting: 96it [00:00, ?it/s]"
      ]
     },
     "metadata": {},
     "output_type": "display_data"
    },
    {
     "data": {
      "application/vnd.jupyter.widget-view+json": {
       "model_id": "d384fd4706f04038b6d15fb56dbc92e0",
       "version_major": 2,
       "version_minor": 0
      },
      "text/plain": [
       "Predicting: 96it [00:00, ?it/s]"
      ]
     },
     "metadata": {},
     "output_type": "display_data"
    },
    {
     "data": {
      "application/vnd.jupyter.widget-view+json": {
       "model_id": "71ac36e258e843318851f1813b7fc2c4",
       "version_major": 2,
       "version_minor": 0
      },
      "text/plain": [
       "Predicting: 96it [00:00, ?it/s]"
      ]
     },
     "metadata": {},
     "output_type": "display_data"
    },
    {
     "data": {
      "application/vnd.jupyter.widget-view+json": {
       "model_id": "3114ebc1f72143a39c957959b0fde309",
       "version_major": 2,
       "version_minor": 0
      },
      "text/plain": [
       "Predicting: 96it [00:00, ?it/s]"
      ]
     },
     "metadata": {},
     "output_type": "display_data"
    },
    {
     "data": {
      "application/vnd.jupyter.widget-view+json": {
       "model_id": "67e0ab68731444e3a0bb6469f3d48505",
       "version_major": 2,
       "version_minor": 0
      },
      "text/plain": [
       "Predicting: 96it [00:00, ?it/s]"
      ]
     },
     "metadata": {},
     "output_type": "display_data"
    },
    {
     "data": {
      "application/vnd.jupyter.widget-view+json": {
       "model_id": "30b1f62491644f68a33f3c6a78004c0d",
       "version_major": 2,
       "version_minor": 0
      },
      "text/plain": [
       "Predicting: 96it [00:00, ?it/s]"
      ]
     },
     "metadata": {},
     "output_type": "display_data"
    },
    {
     "data": {
      "application/vnd.jupyter.widget-view+json": {
       "model_id": "2cb8edc2c5904047a2c68ed6c425696b",
       "version_major": 2,
       "version_minor": 0
      },
      "text/plain": [
       "Predicting: 96it [00:00, ?it/s]"
      ]
     },
     "metadata": {},
     "output_type": "display_data"
    },
    {
     "data": {
      "application/vnd.jupyter.widget-view+json": {
       "model_id": "55d07a8804254dbab1e5812be650f1b0",
       "version_major": 2,
       "version_minor": 0
      },
      "text/plain": [
       "Predicting: 96it [00:00, ?it/s]"
      ]
     },
     "metadata": {},
     "output_type": "display_data"
    },
    {
     "data": {
      "application/vnd.jupyter.widget-view+json": {
       "model_id": "c87df56d06ab4cb38cac7e8e171796da",
       "version_major": 2,
       "version_minor": 0
      },
      "text/plain": [
       "Predicting: 96it [00:00, ?it/s]"
      ]
     },
     "metadata": {},
     "output_type": "display_data"
    },
    {
     "data": {
      "application/vnd.jupyter.widget-view+json": {
       "model_id": "768ea48027c644e3aa7c1b8ee5897e2b",
       "version_major": 2,
       "version_minor": 0
      },
      "text/plain": [
       "Predicting: 96it [00:00, ?it/s]"
      ]
     },
     "metadata": {},
     "output_type": "display_data"
    },
    {
     "data": {
      "application/vnd.jupyter.widget-view+json": {
       "model_id": "33d4cf663d0744899bc6f0ae40c4d2f0",
       "version_major": 2,
       "version_minor": 0
      },
      "text/plain": [
       "Predicting: 96it [00:00, ?it/s]"
      ]
     },
     "metadata": {},
     "output_type": "display_data"
    },
    {
     "data": {
      "application/vnd.jupyter.widget-view+json": {
       "model_id": "eb4b88b148144ff0bab79b115dc8e8e0",
       "version_major": 2,
       "version_minor": 0
      },
      "text/plain": [
       "Predicting: 96it [00:00, ?it/s]"
      ]
     },
     "metadata": {},
     "output_type": "display_data"
    },
    {
     "data": {
      "application/vnd.jupyter.widget-view+json": {
       "model_id": "1aa49b98e83f41ce9211321216674cd4",
       "version_major": 2,
       "version_minor": 0
      },
      "text/plain": [
       "Predicting: 96it [00:00, ?it/s]"
      ]
     },
     "metadata": {},
     "output_type": "display_data"
    },
    {
     "data": {
      "application/vnd.jupyter.widget-view+json": {
       "model_id": "de9abff49e1d47a8b34ae54f63dcd4c7",
       "version_major": 2,
       "version_minor": 0
      },
      "text/plain": [
       "Predicting: 96it [00:00, ?it/s]"
      ]
     },
     "metadata": {},
     "output_type": "display_data"
    },
    {
     "data": {
      "application/vnd.jupyter.widget-view+json": {
       "model_id": "a819cf50da3d4442b7e39930b61d0cc3",
       "version_major": 2,
       "version_minor": 0
      },
      "text/plain": [
       "Predicting: 96it [00:00, ?it/s]"
      ]
     },
     "metadata": {},
     "output_type": "display_data"
    },
    {
     "data": {
      "application/vnd.jupyter.widget-view+json": {
       "model_id": "1a49dcc2115343e2a490b5bf3be829f5",
       "version_major": 2,
       "version_minor": 0
      },
      "text/plain": [
       "Predicting: 96it [00:00, ?it/s]"
      ]
     },
     "metadata": {},
     "output_type": "display_data"
    },
    {
     "data": {
      "application/vnd.jupyter.widget-view+json": {
       "model_id": "93a2dbe22c4b4fc588d08741c9a7141d",
       "version_major": 2,
       "version_minor": 0
      },
      "text/plain": [
       "Predicting: 96it [00:00, ?it/s]"
      ]
     },
     "metadata": {},
     "output_type": "display_data"
    },
    {
     "data": {
      "application/vnd.jupyter.widget-view+json": {
       "model_id": "a3e1936be1744b4ba5bd7a3af7b9ce81",
       "version_major": 2,
       "version_minor": 0
      },
      "text/plain": [
       "Predicting: 96it [00:00, ?it/s]"
      ]
     },
     "metadata": {},
     "output_type": "display_data"
    },
    {
     "data": {
      "application/vnd.jupyter.widget-view+json": {
       "model_id": "f975dfea05da4c2687536ed7aded8f1d",
       "version_major": 2,
       "version_minor": 0
      },
      "text/plain": [
       "Predicting: 96it [00:00, ?it/s]"
      ]
     },
     "metadata": {},
     "output_type": "display_data"
    },
    {
     "data": {
      "application/vnd.jupyter.widget-view+json": {
       "model_id": "47489abde6b041d291809c84948da29f",
       "version_major": 2,
       "version_minor": 0
      },
      "text/plain": [
       "Predicting: 96it [00:00, ?it/s]"
      ]
     },
     "metadata": {},
     "output_type": "display_data"
    },
    {
     "data": {
      "application/vnd.jupyter.widget-view+json": {
       "model_id": "3475f163c8c5487c9f8760fccca516e3",
       "version_major": 2,
       "version_minor": 0
      },
      "text/plain": [
       "Predicting: 96it [00:00, ?it/s]"
      ]
     },
     "metadata": {},
     "output_type": "display_data"
    },
    {
     "data": {
      "application/vnd.jupyter.widget-view+json": {
       "model_id": "c0814f5f72644522b864750e9088447c",
       "version_major": 2,
       "version_minor": 0
      },
      "text/plain": [
       "Predicting: 96it [00:00, ?it/s]"
      ]
     },
     "metadata": {},
     "output_type": "display_data"
    },
    {
     "data": {
      "application/vnd.jupyter.widget-view+json": {
       "model_id": "0230a266c93a458d87d3432a33eefd78",
       "version_major": 2,
       "version_minor": 0
      },
      "text/plain": [
       "Predicting: 96it [00:00, ?it/s]"
      ]
     },
     "metadata": {},
     "output_type": "display_data"
    },
    {
     "data": {
      "application/vnd.jupyter.widget-view+json": {
       "model_id": "91718245f999428196ac37b3bc4cdb8d",
       "version_major": 2,
       "version_minor": 0
      },
      "text/plain": [
       "Predicting: 96it [00:00, ?it/s]"
      ]
     },
     "metadata": {},
     "output_type": "display_data"
    },
    {
     "data": {
      "application/vnd.jupyter.widget-view+json": {
       "model_id": "1e086b0e088842808dce8bdcbb8371d1",
       "version_major": 2,
       "version_minor": 0
      },
      "text/plain": [
       "Predicting: 96it [00:00, ?it/s]"
      ]
     },
     "metadata": {},
     "output_type": "display_data"
    },
    {
     "data": {
      "application/vnd.jupyter.widget-view+json": {
       "model_id": "32bd5ded2595479fb537b8a9e4111107",
       "version_major": 2,
       "version_minor": 0
      },
      "text/plain": [
       "Predicting: 96it [00:00, ?it/s]"
      ]
     },
     "metadata": {},
     "output_type": "display_data"
    },
    {
     "data": {
      "application/vnd.jupyter.widget-view+json": {
       "model_id": "e3a248f3b7c74262b503197c79c917b1",
       "version_major": 2,
       "version_minor": 0
      },
      "text/plain": [
       "Predicting: 96it [00:00, ?it/s]"
      ]
     },
     "metadata": {},
     "output_type": "display_data"
    },
    {
     "data": {
      "application/vnd.jupyter.widget-view+json": {
       "model_id": "eb4f961607b84b9092f9e8d1452e75b2",
       "version_major": 2,
       "version_minor": 0
      },
      "text/plain": [
       "Predicting: 96it [00:00, ?it/s]"
      ]
     },
     "metadata": {},
     "output_type": "display_data"
    },
    {
     "data": {
      "application/vnd.jupyter.widget-view+json": {
       "model_id": "0687e290b90d4ae7915da928fe2fbf15",
       "version_major": 2,
       "version_minor": 0
      },
      "text/plain": [
       "Predicting: 96it [00:00, ?it/s]"
      ]
     },
     "metadata": {},
     "output_type": "display_data"
    },
    {
     "data": {
      "application/vnd.jupyter.widget-view+json": {
       "model_id": "215aaa233d234268a9c26c54c52c8797",
       "version_major": 2,
       "version_minor": 0
      },
      "text/plain": [
       "Predicting: 96it [00:00, ?it/s]"
      ]
     },
     "metadata": {},
     "output_type": "display_data"
    },
    {
     "data": {
      "application/vnd.jupyter.widget-view+json": {
       "model_id": "865f772d64fe4faaacf49c6d14cd3a88",
       "version_major": 2,
       "version_minor": 0
      },
      "text/plain": [
       "Predicting: 96it [00:00, ?it/s]"
      ]
     },
     "metadata": {},
     "output_type": "display_data"
    },
    {
     "data": {
      "application/vnd.jupyter.widget-view+json": {
       "model_id": "85f6c8b9e33c40299eedb8d930014d2d",
       "version_major": 2,
       "version_minor": 0
      },
      "text/plain": [
       "Predicting: 96it [00:00, ?it/s]"
      ]
     },
     "metadata": {},
     "output_type": "display_data"
    },
    {
     "data": {
      "application/vnd.jupyter.widget-view+json": {
       "model_id": "f2f0b0f7d73e400ebbdcc3dd2139b8a4",
       "version_major": 2,
       "version_minor": 0
      },
      "text/plain": [
       "Predicting: 96it [00:00, ?it/s]"
      ]
     },
     "metadata": {},
     "output_type": "display_data"
    },
    {
     "data": {
      "application/vnd.jupyter.widget-view+json": {
       "model_id": "d16e4e4792ed40db9ab7adbd6610e99a",
       "version_major": 2,
       "version_minor": 0
      },
      "text/plain": [
       "Predicting: 96it [00:00, ?it/s]"
      ]
     },
     "metadata": {},
     "output_type": "display_data"
    },
    {
     "data": {
      "application/vnd.jupyter.widget-view+json": {
       "model_id": "fbb551e5aa5a427e849f21fea653c96a",
       "version_major": 2,
       "version_minor": 0
      },
      "text/plain": [
       "Predicting: 96it [00:00, ?it/s]"
      ]
     },
     "metadata": {},
     "output_type": "display_data"
    },
    {
     "data": {
      "application/vnd.jupyter.widget-view+json": {
       "model_id": "145541d48a8a4d48981353ba9d4c8f40",
       "version_major": 2,
       "version_minor": 0
      },
      "text/plain": [
       "Predicting: 96it [00:00, ?it/s]"
      ]
     },
     "metadata": {},
     "output_type": "display_data"
    },
    {
     "data": {
      "application/vnd.jupyter.widget-view+json": {
       "model_id": "72586e548064470ab074798ca2891c18",
       "version_major": 2,
       "version_minor": 0
      },
      "text/plain": [
       "Predicting: 96it [00:00, ?it/s]"
      ]
     },
     "metadata": {},
     "output_type": "display_data"
    },
    {
     "data": {
      "application/vnd.jupyter.widget-view+json": {
       "model_id": "ede8a675550948f1bba6b7eb499ea096",
       "version_major": 2,
       "version_minor": 0
      },
      "text/plain": [
       "Predicting: 96it [00:00, ?it/s]"
      ]
     },
     "metadata": {},
     "output_type": "display_data"
    },
    {
     "data": {
      "application/vnd.jupyter.widget-view+json": {
       "model_id": "b1c811a8b6a6469ab2f9b1754fb9ee4f",
       "version_major": 2,
       "version_minor": 0
      },
      "text/plain": [
       "Predicting: 96it [00:00, ?it/s]"
      ]
     },
     "metadata": {},
     "output_type": "display_data"
    },
    {
     "data": {
      "application/vnd.jupyter.widget-view+json": {
       "model_id": "f13677ec9af2457a8eed484fb940b009",
       "version_major": 2,
       "version_minor": 0
      },
      "text/plain": [
       "Predicting: 96it [00:00, ?it/s]"
      ]
     },
     "metadata": {},
     "output_type": "display_data"
    },
    {
     "data": {
      "application/vnd.jupyter.widget-view+json": {
       "model_id": "afcf82b7ddb343fc925dd51a2ef275f4",
       "version_major": 2,
       "version_minor": 0
      },
      "text/plain": [
       "Predicting: 96it [00:00, ?it/s]"
      ]
     },
     "metadata": {},
     "output_type": "display_data"
    },
    {
     "data": {
      "application/vnd.jupyter.widget-view+json": {
       "model_id": "6bc93de53d004b43b40891ffe8a0950e",
       "version_major": 2,
       "version_minor": 0
      },
      "text/plain": [
       "Predicting: 96it [00:00, ?it/s]"
      ]
     },
     "metadata": {},
     "output_type": "display_data"
    },
    {
     "data": {
      "application/vnd.jupyter.widget-view+json": {
       "model_id": "03a88083ed104a6186c9534d90d241c3",
       "version_major": 2,
       "version_minor": 0
      },
      "text/plain": [
       "Predicting: 96it [00:00, ?it/s]"
      ]
     },
     "metadata": {},
     "output_type": "display_data"
    },
    {
     "data": {
      "application/vnd.jupyter.widget-view+json": {
       "model_id": "4f94686ef24949bb843f94709616b930",
       "version_major": 2,
       "version_minor": 0
      },
      "text/plain": [
       "Predicting: 96it [00:00, ?it/s]"
      ]
     },
     "metadata": {},
     "output_type": "display_data"
    },
    {
     "data": {
      "application/vnd.jupyter.widget-view+json": {
       "model_id": "00624e3d8f304a808aa1706eeb8b4b60",
       "version_major": 2,
       "version_minor": 0
      },
      "text/plain": [
       "Predicting: 96it [00:00, ?it/s]"
      ]
     },
     "metadata": {},
     "output_type": "display_data"
    },
    {
     "data": {
      "application/vnd.jupyter.widget-view+json": {
       "model_id": "86f24d87e67a4f248d39334f584fd1c7",
       "version_major": 2,
       "version_minor": 0
      },
      "text/plain": [
       "Predicting: 96it [00:00, ?it/s]"
      ]
     },
     "metadata": {},
     "output_type": "display_data"
    },
    {
     "data": {
      "application/vnd.jupyter.widget-view+json": {
       "model_id": "57fbbdef1c0742d5a76bcfde0f6c7f2d",
       "version_major": 2,
       "version_minor": 0
      },
      "text/plain": [
       "Predicting: 96it [00:00, ?it/s]"
      ]
     },
     "metadata": {},
     "output_type": "display_data"
    },
    {
     "data": {
      "application/vnd.jupyter.widget-view+json": {
       "model_id": "2a743e76df904c20b2bc0bb19cf2f7fe",
       "version_major": 2,
       "version_minor": 0
      },
      "text/plain": [
       "Predicting: 96it [00:00, ?it/s]"
      ]
     },
     "metadata": {},
     "output_type": "display_data"
    },
    {
     "data": {
      "application/vnd.jupyter.widget-view+json": {
       "model_id": "6aeb3717c5bb47afb74fb7dfc560a8d0",
       "version_major": 2,
       "version_minor": 0
      },
      "text/plain": [
       "Predicting: 96it [00:00, ?it/s]"
      ]
     },
     "metadata": {},
     "output_type": "display_data"
    },
    {
     "data": {
      "application/vnd.jupyter.widget-view+json": {
       "model_id": "c048def580c543fea509fd9bcae0685b",
       "version_major": 2,
       "version_minor": 0
      },
      "text/plain": [
       "Predicting: 96it [00:00, ?it/s]"
      ]
     },
     "metadata": {},
     "output_type": "display_data"
    },
    {
     "data": {
      "application/vnd.jupyter.widget-view+json": {
       "model_id": "b4b3cf4fc8334af5ba5298be1a5623fc",
       "version_major": 2,
       "version_minor": 0
      },
      "text/plain": [
       "Predicting: 96it [00:00, ?it/s]"
      ]
     },
     "metadata": {},
     "output_type": "display_data"
    },
    {
     "data": {
      "application/vnd.jupyter.widget-view+json": {
       "model_id": "918360fbb53045b7b430a321ef02da08",
       "version_major": 2,
       "version_minor": 0
      },
      "text/plain": [
       "Predicting: 96it [00:00, ?it/s]"
      ]
     },
     "metadata": {},
     "output_type": "display_data"
    },
    {
     "data": {
      "application/vnd.jupyter.widget-view+json": {
       "model_id": "c5ad8a7c391f49f09c3bb6f55e6a3c6a",
       "version_major": 2,
       "version_minor": 0
      },
      "text/plain": [
       "Predicting: 96it [00:00, ?it/s]"
      ]
     },
     "metadata": {},
     "output_type": "display_data"
    },
    {
     "data": {
      "application/vnd.jupyter.widget-view+json": {
       "model_id": "438cede32a4049769b963460170d8c75",
       "version_major": 2,
       "version_minor": 0
      },
      "text/plain": [
       "Predicting: 96it [00:00, ?it/s]"
      ]
     },
     "metadata": {},
     "output_type": "display_data"
    },
    {
     "data": {
      "application/vnd.jupyter.widget-view+json": {
       "model_id": "c40140fe52114609944d06756babd44a",
       "version_major": 2,
       "version_minor": 0
      },
      "text/plain": [
       "Predicting: 96it [00:00, ?it/s]"
      ]
     },
     "metadata": {},
     "output_type": "display_data"
    },
    {
     "data": {
      "application/vnd.jupyter.widget-view+json": {
       "model_id": "e2c2ab4341e24a23afbf258aa9529e9d",
       "version_major": 2,
       "version_minor": 0
      },
      "text/plain": [
       "Predicting: 96it [00:00, ?it/s]"
      ]
     },
     "metadata": {},
     "output_type": "display_data"
    },
    {
     "data": {
      "application/vnd.jupyter.widget-view+json": {
       "model_id": "60f69758cfb1414d9d98dcabe487b3ce",
       "version_major": 2,
       "version_minor": 0
      },
      "text/plain": [
       "Predicting: 96it [00:00, ?it/s]"
      ]
     },
     "metadata": {},
     "output_type": "display_data"
    },
    {
     "data": {
      "application/vnd.jupyter.widget-view+json": {
       "model_id": "a0691802096b410a814924f8a95a6c5a",
       "version_major": 2,
       "version_minor": 0
      },
      "text/plain": [
       "Predicting: 96it [00:00, ?it/s]"
      ]
     },
     "metadata": {},
     "output_type": "display_data"
    },
    {
     "data": {
      "application/vnd.jupyter.widget-view+json": {
       "model_id": "93206d6522b5483aad3cde29c02b138a",
       "version_major": 2,
       "version_minor": 0
      },
      "text/plain": [
       "Predicting: 96it [00:00, ?it/s]"
      ]
     },
     "metadata": {},
     "output_type": "display_data"
    },
    {
     "data": {
      "application/vnd.jupyter.widget-view+json": {
       "model_id": "02251d69e9fc42e386e2160462a83288",
       "version_major": 2,
       "version_minor": 0
      },
      "text/plain": [
       "Predicting: 96it [00:00, ?it/s]"
      ]
     },
     "metadata": {},
     "output_type": "display_data"
    },
    {
     "data": {
      "application/vnd.jupyter.widget-view+json": {
       "model_id": "62fba47c46a04aed8e66c2e068cb3715",
       "version_major": 2,
       "version_minor": 0
      },
      "text/plain": [
       "Predicting: 96it [00:00, ?it/s]"
      ]
     },
     "metadata": {},
     "output_type": "display_data"
    },
    {
     "data": {
      "application/vnd.jupyter.widget-view+json": {
       "model_id": "e536f1c9c8c6474bbf504a8c5f255b8b",
       "version_major": 2,
       "version_minor": 0
      },
      "text/plain": [
       "Predicting: 96it [00:00, ?it/s]"
      ]
     },
     "metadata": {},
     "output_type": "display_data"
    },
    {
     "data": {
      "application/vnd.jupyter.widget-view+json": {
       "model_id": "03a496f4f95d4248818879ab043aa0c9",
       "version_major": 2,
       "version_minor": 0
      },
      "text/plain": [
       "Predicting: 96it [00:00, ?it/s]"
      ]
     },
     "metadata": {},
     "output_type": "display_data"
    },
    {
     "data": {
      "application/vnd.jupyter.widget-view+json": {
       "model_id": "737a5364eb5f4033a667aaf21c611007",
       "version_major": 2,
       "version_minor": 0
      },
      "text/plain": [
       "Predicting: 96it [00:00, ?it/s]"
      ]
     },
     "metadata": {},
     "output_type": "display_data"
    },
    {
     "data": {
      "application/vnd.jupyter.widget-view+json": {
       "model_id": "3b2ec940eae3429baec5231e5b5ce9c8",
       "version_major": 2,
       "version_minor": 0
      },
      "text/plain": [
       "Predicting: 96it [00:00, ?it/s]"
      ]
     },
     "metadata": {},
     "output_type": "display_data"
    },
    {
     "data": {
      "application/vnd.jupyter.widget-view+json": {
       "model_id": "3c15d42e176a43c0b8e4956ad7d088f5",
       "version_major": 2,
       "version_minor": 0
      },
      "text/plain": [
       "Predicting: 96it [00:00, ?it/s]"
      ]
     },
     "metadata": {},
     "output_type": "display_data"
    },
    {
     "data": {
      "application/vnd.jupyter.widget-view+json": {
       "model_id": "5274f0e4bacb459a8f488cccfc801536",
       "version_major": 2,
       "version_minor": 0
      },
      "text/plain": [
       "Predicting: 96it [00:00, ?it/s]"
      ]
     },
     "metadata": {},
     "output_type": "display_data"
    },
    {
     "data": {
      "application/vnd.jupyter.widget-view+json": {
       "model_id": "c7b6a1a99de64f05880860d5a90eaa1a",
       "version_major": 2,
       "version_minor": 0
      },
      "text/plain": [
       "Predicting: 96it [00:00, ?it/s]"
      ]
     },
     "metadata": {},
     "output_type": "display_data"
    },
    {
     "data": {
      "application/vnd.jupyter.widget-view+json": {
       "model_id": "fba2af9320744a209e2997e5e21b89ba",
       "version_major": 2,
       "version_minor": 0
      },
      "text/plain": [
       "Predicting: 96it [00:00, ?it/s]"
      ]
     },
     "metadata": {},
     "output_type": "display_data"
    },
    {
     "data": {
      "application/vnd.jupyter.widget-view+json": {
       "model_id": "723eeb0bc3ea40d991cad491c66ad979",
       "version_major": 2,
       "version_minor": 0
      },
      "text/plain": [
       "Predicting: 96it [00:00, ?it/s]"
      ]
     },
     "metadata": {},
     "output_type": "display_data"
    },
    {
     "data": {
      "application/vnd.jupyter.widget-view+json": {
       "model_id": "5fe65afdb0c34881b360111c9d7bd990",
       "version_major": 2,
       "version_minor": 0
      },
      "text/plain": [
       "Predicting: 96it [00:00, ?it/s]"
      ]
     },
     "metadata": {},
     "output_type": "display_data"
    },
    {
     "data": {
      "application/vnd.jupyter.widget-view+json": {
       "model_id": "c7c22f2bcd9e4e1bb63e15c935920e47",
       "version_major": 2,
       "version_minor": 0
      },
      "text/plain": [
       "Predicting: 96it [00:00, ?it/s]"
      ]
     },
     "metadata": {},
     "output_type": "display_data"
    },
    {
     "data": {
      "application/vnd.jupyter.widget-view+json": {
       "model_id": "2637c7262d384e09b9b9f2c56e9b6461",
       "version_major": 2,
       "version_minor": 0
      },
      "text/plain": [
       "Predicting: 96it [00:00, ?it/s]"
      ]
     },
     "metadata": {},
     "output_type": "display_data"
    },
    {
     "data": {
      "application/vnd.jupyter.widget-view+json": {
       "model_id": "7c8c2d7f9674426992b89e7802d21f61",
       "version_major": 2,
       "version_minor": 0
      },
      "text/plain": [
       "Predicting: 96it [00:00, ?it/s]"
      ]
     },
     "metadata": {},
     "output_type": "display_data"
    },
    {
     "data": {
      "application/vnd.jupyter.widget-view+json": {
       "model_id": "d23b747ee33846a1867c55ff2687994c",
       "version_major": 2,
       "version_minor": 0
      },
      "text/plain": [
       "Predicting: 96it [00:00, ?it/s]"
      ]
     },
     "metadata": {},
     "output_type": "display_data"
    },
    {
     "data": {
      "application/vnd.jupyter.widget-view+json": {
       "model_id": "5293fb81aff44e27a086df96f8671da6",
       "version_major": 2,
       "version_minor": 0
      },
      "text/plain": [
       "Predicting: 96it [00:00, ?it/s]"
      ]
     },
     "metadata": {},
     "output_type": "display_data"
    },
    {
     "data": {
      "application/vnd.jupyter.widget-view+json": {
       "model_id": "1597de2fcd2f41a795d7a0a856d94ccf",
       "version_major": 2,
       "version_minor": 0
      },
      "text/plain": [
       "Predicting: 96it [00:00, ?it/s]"
      ]
     },
     "metadata": {},
     "output_type": "display_data"
    },
    {
     "data": {
      "application/vnd.jupyter.widget-view+json": {
       "model_id": "31c6c731ae5d496d85f49ad3676e6e2b",
       "version_major": 2,
       "version_minor": 0
      },
      "text/plain": [
       "Predicting: 96it [00:00, ?it/s]"
      ]
     },
     "metadata": {},
     "output_type": "display_data"
    },
    {
     "data": {
      "application/vnd.jupyter.widget-view+json": {
       "model_id": "d208a1fa89e044f49413bf78f8959e0f",
       "version_major": 2,
       "version_minor": 0
      },
      "text/plain": [
       "Predicting: 96it [00:00, ?it/s]"
      ]
     },
     "metadata": {},
     "output_type": "display_data"
    },
    {
     "data": {
      "application/vnd.jupyter.widget-view+json": {
       "model_id": "525881ceddc24565a93f29ea06f0b461",
       "version_major": 2,
       "version_minor": 0
      },
      "text/plain": [
       "Predicting: 96it [00:00, ?it/s]"
      ]
     },
     "metadata": {},
     "output_type": "display_data"
    },
    {
     "data": {
      "application/vnd.jupyter.widget-view+json": {
       "model_id": "d38a4692d1164a07a026f120cffd89df",
       "version_major": 2,
       "version_minor": 0
      },
      "text/plain": [
       "Predicting: 96it [00:00, ?it/s]"
      ]
     },
     "metadata": {},
     "output_type": "display_data"
    },
    {
     "data": {
      "application/vnd.jupyter.widget-view+json": {
       "model_id": "89f600e8b196428992fbeac2687d87a2",
       "version_major": 2,
       "version_minor": 0
      },
      "text/plain": [
       "Predicting: 96it [00:00, ?it/s]"
      ]
     },
     "metadata": {},
     "output_type": "display_data"
    },
    {
     "data": {
      "application/vnd.jupyter.widget-view+json": {
       "model_id": "b472b07831ad4f52867d0fae47a83827",
       "version_major": 2,
       "version_minor": 0
      },
      "text/plain": [
       "Predicting: 96it [00:00, ?it/s]"
      ]
     },
     "metadata": {},
     "output_type": "display_data"
    },
    {
     "data": {
      "application/vnd.jupyter.widget-view+json": {
       "model_id": "c481e9c2023942f1bbb27cc49ea15995",
       "version_major": 2,
       "version_minor": 0
      },
      "text/plain": [
       "Predicting: 96it [00:00, ?it/s]"
      ]
     },
     "metadata": {},
     "output_type": "display_data"
    },
    {
     "data": {
      "application/vnd.jupyter.widget-view+json": {
       "model_id": "1d88deb8f4db4e319e92bb0ee429db64",
       "version_major": 2,
       "version_minor": 0
      },
      "text/plain": [
       "Predicting: 96it [00:00, ?it/s]"
      ]
     },
     "metadata": {},
     "output_type": "display_data"
    },
    {
     "data": {
      "application/vnd.jupyter.widget-view+json": {
       "model_id": "013109b3870041e4af429b059fcd063f",
       "version_major": 2,
       "version_minor": 0
      },
      "text/plain": [
       "Predicting: 96it [00:00, ?it/s]"
      ]
     },
     "metadata": {},
     "output_type": "display_data"
    },
    {
     "data": {
      "application/vnd.jupyter.widget-view+json": {
       "model_id": "a1de0c3d47864be986dcbad00f8740df",
       "version_major": 2,
       "version_minor": 0
      },
      "text/plain": [
       "Predicting: 96it [00:00, ?it/s]"
      ]
     },
     "metadata": {},
     "output_type": "display_data"
    },
    {
     "data": {
      "application/vnd.jupyter.widget-view+json": {
       "model_id": "d882c35aeaec4f01a1667cf5bce9e17b",
       "version_major": 2,
       "version_minor": 0
      },
      "text/plain": [
       "Predicting: 96it [00:00, ?it/s]"
      ]
     },
     "metadata": {},
     "output_type": "display_data"
    },
    {
     "data": {
      "application/vnd.jupyter.widget-view+json": {
       "model_id": "42d53918ea334bc2b3538052cac824dd",
       "version_major": 2,
       "version_minor": 0
      },
      "text/plain": [
       "Predicting: 96it [00:00, ?it/s]"
      ]
     },
     "metadata": {},
     "output_type": "display_data"
    },
    {
     "data": {
      "application/vnd.jupyter.widget-view+json": {
       "model_id": "43f16a6ba4a44c41a8cf53a5cda2b125",
       "version_major": 2,
       "version_minor": 0
      },
      "text/plain": [
       "Predicting: 96it [00:00, ?it/s]"
      ]
     },
     "metadata": {},
     "output_type": "display_data"
    },
    {
     "data": {
      "application/vnd.jupyter.widget-view+json": {
       "model_id": "519e90e55f3a49689e8d70beeada7134",
       "version_major": 2,
       "version_minor": 0
      },
      "text/plain": [
       "Predicting: 96it [00:00, ?it/s]"
      ]
     },
     "metadata": {},
     "output_type": "display_data"
    },
    {
     "data": {
      "application/vnd.jupyter.widget-view+json": {
       "model_id": "7a8f3ce625cd4953a6b7c0921ae51da0",
       "version_major": 2,
       "version_minor": 0
      },
      "text/plain": [
       "Predicting: 96it [00:00, ?it/s]"
      ]
     },
     "metadata": {},
     "output_type": "display_data"
    },
    {
     "data": {
      "application/vnd.jupyter.widget-view+json": {
       "model_id": "dab5c6472cf9408d9656b80c4defa8d7",
       "version_major": 2,
       "version_minor": 0
      },
      "text/plain": [
       "Predicting: 96it [00:00, ?it/s]"
      ]
     },
     "metadata": {},
     "output_type": "display_data"
    },
    {
     "data": {
      "application/vnd.jupyter.widget-view+json": {
       "model_id": "aa3fd82d28644170997aa01da947b634",
       "version_major": 2,
       "version_minor": 0
      },
      "text/plain": [
       "Predicting: 96it [00:00, ?it/s]"
      ]
     },
     "metadata": {},
     "output_type": "display_data"
    },
    {
     "data": {
      "application/vnd.jupyter.widget-view+json": {
       "model_id": "6e435f5917ea40f89fa4171a4c39cb90",
       "version_major": 2,
       "version_minor": 0
      },
      "text/plain": [
       "Predicting: 96it [00:00, ?it/s]"
      ]
     },
     "metadata": {},
     "output_type": "display_data"
    },
    {
     "data": {
      "application/vnd.jupyter.widget-view+json": {
       "model_id": "2fdbe1dc1c244172ab758f505eecef7a",
       "version_major": 2,
       "version_minor": 0
      },
      "text/plain": [
       "Predicting: 96it [00:00, ?it/s]"
      ]
     },
     "metadata": {},
     "output_type": "display_data"
    },
    {
     "data": {
      "application/vnd.jupyter.widget-view+json": {
       "model_id": "a8c0abfe26934d3ba6f2d5de0c1a8e82",
       "version_major": 2,
       "version_minor": 0
      },
      "text/plain": [
       "Predicting: 96it [00:00, ?it/s]"
      ]
     },
     "metadata": {},
     "output_type": "display_data"
    },
    {
     "data": {
      "application/vnd.jupyter.widget-view+json": {
       "model_id": "b6b0d5cb12a446a1a32332c670aee63b",
       "version_major": 2,
       "version_minor": 0
      },
      "text/plain": [
       "Predicting: 96it [00:00, ?it/s]"
      ]
     },
     "metadata": {},
     "output_type": "display_data"
    },
    {
     "data": {
      "application/vnd.jupyter.widget-view+json": {
       "model_id": "6a40db8459c84aa89d818c09fed223e4",
       "version_major": 2,
       "version_minor": 0
      },
      "text/plain": [
       "Predicting: 96it [00:00, ?it/s]"
      ]
     },
     "metadata": {},
     "output_type": "display_data"
    },
    {
     "data": {
      "application/vnd.jupyter.widget-view+json": {
       "model_id": "bb08840d6ef54050a8cf7f255bf81a58",
       "version_major": 2,
       "version_minor": 0
      },
      "text/plain": [
       "Predicting: 96it [00:00, ?it/s]"
      ]
     },
     "metadata": {},
     "output_type": "display_data"
    },
    {
     "data": {
      "application/vnd.jupyter.widget-view+json": {
       "model_id": "849548a437224c759478cfca0ee79b5f",
       "version_major": 2,
       "version_minor": 0
      },
      "text/plain": [
       "Predicting: 96it [00:00, ?it/s]"
      ]
     },
     "metadata": {},
     "output_type": "display_data"
    },
    {
     "data": {
      "application/vnd.jupyter.widget-view+json": {
       "model_id": "cb60cc6e489643deafb2a42604288626",
       "version_major": 2,
       "version_minor": 0
      },
      "text/plain": [
       "Predicting: 96it [00:00, ?it/s]"
      ]
     },
     "metadata": {},
     "output_type": "display_data"
    },
    {
     "data": {
      "application/vnd.jupyter.widget-view+json": {
       "model_id": "0dc5d8b1a01b4a9fb4f4ff569b1f6615",
       "version_major": 2,
       "version_minor": 0
      },
      "text/plain": [
       "Predicting: 96it [00:00, ?it/s]"
      ]
     },
     "metadata": {},
     "output_type": "display_data"
    },
    {
     "data": {
      "application/vnd.jupyter.widget-view+json": {
       "model_id": "27218eb724bf4d96bf2005b8cefe0231",
       "version_major": 2,
       "version_minor": 0
      },
      "text/plain": [
       "Predicting: 96it [00:00, ?it/s]"
      ]
     },
     "metadata": {},
     "output_type": "display_data"
    },
    {
     "data": {
      "application/vnd.jupyter.widget-view+json": {
       "model_id": "cb20062342cb4181b74df35c364c7ef6",
       "version_major": 2,
       "version_minor": 0
      },
      "text/plain": [
       "Predicting: 96it [00:00, ?it/s]"
      ]
     },
     "metadata": {},
     "output_type": "display_data"
    },
    {
     "data": {
      "application/vnd.jupyter.widget-view+json": {
       "model_id": "05118ba13fe9418e88d49bee66f11e01",
       "version_major": 2,
       "version_minor": 0
      },
      "text/plain": [
       "Predicting: 96it [00:00, ?it/s]"
      ]
     },
     "metadata": {},
     "output_type": "display_data"
    },
    {
     "data": {
      "application/vnd.jupyter.widget-view+json": {
       "model_id": "e6cdf93f969a4b42be7d82ec82cf668c",
       "version_major": 2,
       "version_minor": 0
      },
      "text/plain": [
       "Predicting: 96it [00:00, ?it/s]"
      ]
     },
     "metadata": {},
     "output_type": "display_data"
    },
    {
     "data": {
      "application/vnd.jupyter.widget-view+json": {
       "model_id": "bf001281b2f74e028ed771137d30ab18",
       "version_major": 2,
       "version_minor": 0
      },
      "text/plain": [
       "Predicting: 96it [00:00, ?it/s]"
      ]
     },
     "metadata": {},
     "output_type": "display_data"
    },
    {
     "data": {
      "application/vnd.jupyter.widget-view+json": {
       "model_id": "3125b15553484bf6902ef4d2eb72df12",
       "version_major": 2,
       "version_minor": 0
      },
      "text/plain": [
       "Predicting: 96it [00:00, ?it/s]"
      ]
     },
     "metadata": {},
     "output_type": "display_data"
    },
    {
     "data": {
      "application/vnd.jupyter.widget-view+json": {
       "model_id": "3281e619c8bd4913b2bf2c5114e7b21f",
       "version_major": 2,
       "version_minor": 0
      },
      "text/plain": [
       "Predicting: 96it [00:00, ?it/s]"
      ]
     },
     "metadata": {},
     "output_type": "display_data"
    },
    {
     "data": {
      "application/vnd.jupyter.widget-view+json": {
       "model_id": "364b6b72659442fbaa8c994316c1876f",
       "version_major": 2,
       "version_minor": 0
      },
      "text/plain": [
       "Predicting: 96it [00:00, ?it/s]"
      ]
     },
     "metadata": {},
     "output_type": "display_data"
    },
    {
     "data": {
      "application/vnd.jupyter.widget-view+json": {
       "model_id": "cee9540c4887486faf186ede7011fcf0",
       "version_major": 2,
       "version_minor": 0
      },
      "text/plain": [
       "Predicting: 96it [00:00, ?it/s]"
      ]
     },
     "metadata": {},
     "output_type": "display_data"
    },
    {
     "data": {
      "application/vnd.jupyter.widget-view+json": {
       "model_id": "da84ea601a124a54981c6875d526904f",
       "version_major": 2,
       "version_minor": 0
      },
      "text/plain": [
       "Predicting: 96it [00:00, ?it/s]"
      ]
     },
     "metadata": {},
     "output_type": "display_data"
    },
    {
     "data": {
      "application/vnd.jupyter.widget-view+json": {
       "model_id": "68043ba73dd5476dac330492af05c318",
       "version_major": 2,
       "version_minor": 0
      },
      "text/plain": [
       "Predicting: 96it [00:00, ?it/s]"
      ]
     },
     "metadata": {},
     "output_type": "display_data"
    },
    {
     "data": {
      "application/vnd.jupyter.widget-view+json": {
       "model_id": "f8496b9d06184647a0096d277bf234f9",
       "version_major": 2,
       "version_minor": 0
      },
      "text/plain": [
       "Predicting: 96it [00:00, ?it/s]"
      ]
     },
     "metadata": {},
     "output_type": "display_data"
    },
    {
     "data": {
      "application/vnd.jupyter.widget-view+json": {
       "model_id": "45ddf7d72920411886ff8ebcac892159",
       "version_major": 2,
       "version_minor": 0
      },
      "text/plain": [
       "Predicting: 96it [00:00, ?it/s]"
      ]
     },
     "metadata": {},
     "output_type": "display_data"
    },
    {
     "data": {
      "application/vnd.jupyter.widget-view+json": {
       "model_id": "dadce1cf60b142c9842115ae3cfcaedc",
       "version_major": 2,
       "version_minor": 0
      },
      "text/plain": [
       "Predicting: 96it [00:00, ?it/s]"
      ]
     },
     "metadata": {},
     "output_type": "display_data"
    },
    {
     "data": {
      "application/vnd.jupyter.widget-view+json": {
       "model_id": "1db87b90ab1f445aabd13bcb7343b48f",
       "version_major": 2,
       "version_minor": 0
      },
      "text/plain": [
       "Predicting: 96it [00:00, ?it/s]"
      ]
     },
     "metadata": {},
     "output_type": "display_data"
    },
    {
     "data": {
      "application/vnd.jupyter.widget-view+json": {
       "model_id": "f2934a631135470a81e2432653c1ccb0",
       "version_major": 2,
       "version_minor": 0
      },
      "text/plain": [
       "Predicting: 96it [00:00, ?it/s]"
      ]
     },
     "metadata": {},
     "output_type": "display_data"
    },
    {
     "data": {
      "application/vnd.jupyter.widget-view+json": {
       "model_id": "ec44398be32442aeaaf7e49dc83a018d",
       "version_major": 2,
       "version_minor": 0
      },
      "text/plain": [
       "Predicting: 96it [00:00, ?it/s]"
      ]
     },
     "metadata": {},
     "output_type": "display_data"
    },
    {
     "data": {
      "application/vnd.jupyter.widget-view+json": {
       "model_id": "091036248abf47b7a07426f3a730faf3",
       "version_major": 2,
       "version_minor": 0
      },
      "text/plain": [
       "Predicting: 96it [00:00, ?it/s]"
      ]
     },
     "metadata": {},
     "output_type": "display_data"
    },
    {
     "data": {
      "application/vnd.jupyter.widget-view+json": {
       "model_id": "09fc400cc2b74f4d98e5720ce401100e",
       "version_major": 2,
       "version_minor": 0
      },
      "text/plain": [
       "Predicting: 96it [00:00, ?it/s]"
      ]
     },
     "metadata": {},
     "output_type": "display_data"
    },
    {
     "data": {
      "application/vnd.jupyter.widget-view+json": {
       "model_id": "c87a3ff3a1ce4b079704cc5310c47137",
       "version_major": 2,
       "version_minor": 0
      },
      "text/plain": [
       "Predicting: 96it [00:00, ?it/s]"
      ]
     },
     "metadata": {},
     "output_type": "display_data"
    },
    {
     "data": {
      "application/vnd.jupyter.widget-view+json": {
       "model_id": "983794ca741c4879a2dc6ea4db54534b",
       "version_major": 2,
       "version_minor": 0
      },
      "text/plain": [
       "Predicting: 96it [00:00, ?it/s]"
      ]
     },
     "metadata": {},
     "output_type": "display_data"
    }
   ],
   "source": [
    "backtest_cov_list = []\n",
    "for i in range(0,5):\n",
    "    target = test_target[i]\n",
    "    covars = test_covars[i]\n",
    "    backtest_pred = backtrack_testing(target, covars)\n",
    "    backtest_cov_list.append(backtest_pred)"
   ]
  },
  {
   "cell_type": "code",
   "execution_count": 84,
   "id": "b07e0a88",
   "metadata": {},
   "outputs": [],
   "source": [
    "#list(training_data['token_id'].value_counts())"
   ]
  },
  {
   "cell_type": "code",
   "execution_count": 184,
   "id": "9dcc966c",
   "metadata": {},
   "outputs": [
    {
     "data": {
      "image/png": "[encoded data removed]",
      "text/plain": [
       "<Figure size 432x288 with 1 Axes>"
      ]
     },
     "metadata": {},
     "output_type": "display_data"
    },
    {
     "data": {
      "image/png": "[encoded data removed]",
      "text/plain": [
       "<Figure size 432x288 with 1 Axes>"
      ]
     },
     "metadata": {},
     "output_type": "display_data"
    },
    {
     "data": {
      "image/png": "[encoded data removed]",
      "text/plain": [
       "<Figure size 432x288 with 1 Axes>"
      ]
     },
     "metadata": {},
     "output_type": "display_data"
    },
    {
     "data": {
      "image/png": "[encoded data removed]",
      "text/plain": [
       "<Figure size 432x288 with 1 Axes>"
      ]
     },
     "metadata": {},
     "output_type": "display_data"
    },
    {
     "data": {
      "image/png": "[encoded data removed]",
      "text/plain": [
       "<Figure size 432x288 with 1 Axes>"
      ]
     },
     "metadata": {},
     "output_type": "display_data"
    }
   ],
   "source": [
    "for i in range(len(backtest_cov_list)):\n",
    "    mape_value = \"MAPE = {:.2f}%\".format(smape(predict_target, backtest_cov))\n",
    "    rmse_value = \"RMSE = {:.2f}%\".format(rmse(predict_target, backtest_cov))\n",
    "    target = test_target[i]\n",
    "    fig, axs = plt.subplots()\n",
    "    fig.patch.set_facecolor('white')\n",
    "    target.plot(label=\"actual\")\n",
    "    backtest_cov_list[i].plot(label=\"forecast\")\n",
    "    plt.ylabel('eth sale price')\n",
    "    plt.legend()\n",
    "    plt.title(mape_value+'  '+rmse_value)"
   ]
  },
  {
   "cell_type": "code",
   "execution_count": null,
   "id": "60c5c5a3",
   "metadata": {},
   "outputs": [],
   "source": []
  }
 ],
 "metadata": {
  "kernelspec": {
   "display_name": "Python [conda env:DartMachineLearning]",
   "language": "python",
   "name": "conda-env-DartMachineLearning-py"
  },
  "language_info": {
   "codemirror_mode": {
    "name": "ipython",
    "version": 3
   },
   "file_extension": ".py",
   "mimetype": "text/x-python",
   "name": "python",
   "nbconvert_exporter": "python",
   "pygments_lexer": "ipython3",
   "version": "3.8.13"
  }
 },
 "nbformat": 4,
 "nbformat_minor": 5
}
