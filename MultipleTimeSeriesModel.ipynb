{
 "cells": [
  {
   "cell_type": "code",
   "execution_count": 1,
   "id": "eae84797",
   "metadata": {},
   "outputs": [
    {
     "name": "stderr",
     "output_type": "stream",
     "text": [
      "2022-06-09 20:37:31 prophet.plot ERROR: Importing plotly failed. Interactive plots will not work.\n"
     ]
    }
   ],
   "source": [
    "# Source: https://github.com/unit8co/darts/blob/master/examples/01-multi-time-series-and-covariates.ipynb\n",
    "import pandas as pd\n",
    "import numpy as np\n",
    "import torch\n",
    "import matplotlib.pyplot as plt\n",
    "\n",
    "from darts import TimeSeries\n",
    "from darts.utils.timeseries_generation import (\n",
    "    gaussian_timeseries,\n",
    "    linear_timeseries,\n",
    "    sine_timeseries,\n",
    ")\n",
    "from darts.models import (\n",
    "    RNNModel,\n",
    "    TCNModel,\n",
    "    TransformerModel,\n",
    "    NBEATSModel,\n",
    "    BlockRNNModel,\n",
    ")\n",
    "from darts.metrics import mape, smape\n",
    "from darts.dataprocessing.transformers import Scaler\n",
    "from darts.utils.timeseries_generation import datetime_attribute_timeseries\n",
    "from darts.datasets import AirPassengersDataset, MonthlyMilkDataset\n",
    "\n",
    "# for reproducibility\n",
    "torch.manual_seed(1)\n",
    "np.random.seed(1)"
   ]
  },
  {
   "cell_type": "code",
   "execution_count": 3,
   "id": "d7e66789",
   "metadata": {},
   "outputs": [
    {
     "name": "stderr",
     "output_type": "stream",
     "text": [
      "/var/folders/pr/s8vz2jrj0gzcy0cb3dtmqx800000gn/T/ipykernel_63171/1019096430.py:2: DtypeWarning: Columns (13) have mixed types. Specify dtype option on import or set low_memory=False.\n",
      "  training_data = pd.read_csv('./data/training_data.csv')\n"
     ]
    },
    {
     "data": {
      "text/plain": [
       "['timestamp',\n",
       " 'token_id',\n",
       " 'owner',\n",
       " 'mouth',\n",
       " 'eyes',\n",
       " 'hat',\n",
       " 'fur',\n",
       " 'background',\n",
       " 'clothes',\n",
       " 'earring',\n",
       " 'eth_fees',\n",
       " 'eth_sale price',\n",
       " 'usd_platform_fees',\n",
       " 'usd_sale_price',\n",
       " 'index',\n",
       " 'average_price',\n",
       " 'max_price',\n",
       " 'min_price',\n",
       " 'total_sales',\n",
       " 'total_volume',\n",
       " 'unique_buyers',\n",
       " 'unique_sellers',\n",
       " 'buyers_ratio',\n",
       " 'btc_close',\n",
       " 'btc_volume',\n",
       " 'eth_close',\n",
       " 'eth_volume',\n",
       " 'gas_price',\n",
       " 'nft',\n",
       " 'nfts',\n",
       " 'opensea']"
      ]
     },
     "execution_count": 3,
     "metadata": {},
     "output_type": "execute_result"
    }
   ],
   "source": [
    "# Encode data for the model\n",
    "training_data = pd.read_csv('./data/training_data.csv')\n",
    "\n",
    "# Temp df to test function\n",
    "data_unseen = training_data[2390:2629]\n",
    "data_unseen.columns = data_unseen.columns.str.lower()\n",
    "training_data = training_data[0:2390]\n",
    "training_data.columns = training_data.columns.str.lower()\n",
    "training_data = training_data.drop(columns=['name', 'last_sale','sales','presale'])\n",
    "training_data.head(3)\n",
    "list(training_data.columns)"
   ]
  },
  {
   "cell_type": "code",
   "execution_count": null,
   "id": "766c347a",
   "metadata": {},
   "outputs": [],
   "source": [
    "# Test out put -> can be deleted later\n",
    "training_data_temp = training_data"
   ]
  },
  {
   "cell_type": "code",
   "execution_count": null,
   "id": "15a4a8b6",
   "metadata": {},
   "outputs": [],
   "source": [
    "col_to_encode = training_data[['owner', 'mouth', 'eyes', 'hat', 'fur', 'background', 'clothes', 'earring']]\n",
    "col_to_encode.fillna('Other', inplace=True)"
   ]
  },
  {
   "cell_type": "code",
   "execution_count": null,
   "id": "61fc7faf",
   "metadata": {},
   "outputs": [],
   "source": [
    "# OneHotEncode data\n",
    "X = col_to_encode\n",
    "enc = OneHotEncoder(handle_unknown='ignore', sparse=False)\n",
    "enc.fit(X)\n",
    "print('done')"
   ]
  },
  {
   "cell_type": "code",
   "execution_count": null,
   "id": "90b62043",
   "metadata": {},
   "outputs": [],
   "source": [
    "col_names = ['owner', 'mouth', 'eyes', 'hat', 'fur', 'background', 'clothes', 'earring']\n",
    "colnames = enc.get_feature_names(col_names)\n",
    "encoded_traning_data =  pd.DataFrame(enc.fit_transform(X), columns = colnames)\n",
    "print('done')"
   ]
  },
  {
   "cell_type": "code",
   "execution_count": null,
   "id": "30a74cfe",
   "metadata": {},
   "outputs": [],
   "source": [
    "encoded_traning_data.head(3)"
   ]
  },
  {
   "cell_type": "code",
   "execution_count": null,
   "id": "2c97294a",
   "metadata": {},
   "outputs": [],
   "source": [
    "training_data_temp = training_data_temp.drop(columns=col_names)\n",
    "training_data_dic = training_data_temp.to_dict('list')\n",
    "encoded_traning_data_dic = encoded_traning_data.to_dict('list')"
   ]
  },
  {
   "cell_type": "code",
   "execution_count": null,
   "id": "56cd6821",
   "metadata": {},
   "outputs": [],
   "source": [
    "def merge(d1, d2):\n",
    "    result = {**d1, **d2}\n",
    "    return result\n",
    "encoded_traning_data_temp = merge(encoded_traning_data_dic, training_data_dic)\n",
    "encoded_traning_data_temp = pd.DataFrame.from_dict(encoded_traning_data_temp)"
   ]
  },
  {
   "cell_type": "code",
   "execution_count": null,
   "id": "369f839f",
   "metadata": {},
   "outputs": [],
   "source": [
    "# get target index no\n",
    "#list(encoded_traning_data_temp.columns)\n",
    "index_no = encoded_traning_data_temp.columns.get_loc(\"eth_sale price\")\n",
    "index_no"
   ]
  },
  {
   "cell_type": "code",
   "execution_count": null,
   "id": "8fcc00fa",
   "metadata": {},
   "outputs": [],
   "source": [
    "#from sklearn.preprocessing import MinMaxScaler\n",
    "#sc = MinMaxScaler(feature_range=(0,1))\n",
    "#encoded_traning_data_temp = encoded_traning_data_temp.drop(['timestamp'], 1)\n",
    "#training_set_scaled = sc.fit_transform(encoded_traning_data_temp)\n",
    "#training_set_scaled"
   ]
  },
  {
   "cell_type": "code",
   "execution_count": 2,
   "id": "b5e6f5ce",
   "metadata": {},
   "outputs": [
    {
     "ename": "NameError",
     "evalue": "name 'series_air_scaled' is not defined",
     "output_type": "error",
     "traceback": [
      "\u001b[0;31m---------------------------------------------------------------------------\u001b[0m",
      "\u001b[0;31mNameError\u001b[0m                                 Traceback (most recent call last)",
      "\u001b[0;32m/var/folders/pr/s8vz2jrj0gzcy0cb3dtmqx800000gn/T/ipykernel_63171/2438015352.py\u001b[0m in \u001b[0;36m<module>\u001b[0;34m\u001b[0m\n\u001b[1;32m      1\u001b[0m \u001b[0;31m# build year and month series:\u001b[0m\u001b[0;34m\u001b[0m\u001b[0;34m\u001b[0m\u001b[0;34m\u001b[0m\u001b[0m\n\u001b[0;32m----> 2\u001b[0;31m \u001b[0mair_year\u001b[0m \u001b[0;34m=\u001b[0m \u001b[0mdatetime_attribute_timeseries\u001b[0m\u001b[0;34m(\u001b[0m\u001b[0mseries_air_scaled\u001b[0m\u001b[0;34m,\u001b[0m \u001b[0mattribute\u001b[0m\u001b[0;34m=\u001b[0m\u001b[0;34m\"year\"\u001b[0m\u001b[0;34m)\u001b[0m\u001b[0;34m\u001b[0m\u001b[0;34m\u001b[0m\u001b[0m\n\u001b[0m\u001b[1;32m      3\u001b[0m \u001b[0mair_month\u001b[0m \u001b[0;34m=\u001b[0m \u001b[0mdatetime_attribute_timeseries\u001b[0m\u001b[0;34m(\u001b[0m\u001b[0mseries_air_scaled\u001b[0m\u001b[0;34m,\u001b[0m \u001b[0mattribute\u001b[0m\u001b[0;34m=\u001b[0m\u001b[0;34m\"month\"\u001b[0m\u001b[0;34m)\u001b[0m\u001b[0;34m\u001b[0m\u001b[0;34m\u001b[0m\u001b[0m\n\u001b[1;32m      4\u001b[0m \u001b[0;34m\u001b[0m\u001b[0m\n\u001b[1;32m      5\u001b[0m \u001b[0mmilk_year\u001b[0m \u001b[0;34m=\u001b[0m \u001b[0mdatetime_attribute_timeseries\u001b[0m\u001b[0;34m(\u001b[0m\u001b[0mseries_milk_scaled\u001b[0m\u001b[0;34m,\u001b[0m \u001b[0mattribute\u001b[0m\u001b[0;34m=\u001b[0m\u001b[0;34m\"year\"\u001b[0m\u001b[0;34m)\u001b[0m\u001b[0;34m\u001b[0m\u001b[0;34m\u001b[0m\u001b[0m\n",
      "\u001b[0;31mNameError\u001b[0m: name 'series_air_scaled' is not defined"
     ]
    }
   ],
   "source": [
    "# build year and month series:\n",
    "air_year = datetime_attribute_timeseries(series_air_scaled, attribute=\"year\")\n",
    "air_month = datetime_attribute_timeseries(series_air_scaled, attribute=\"month\")\n",
    "\n",
    "milk_year = datetime_attribute_timeseries(series_milk_scaled, attribute=\"year\")\n",
    "milk_month = datetime_attribute_timeseries(series_milk_scaled, attribute=\"month\")\n",
    "\n",
    "# stack year and month to obtain series of 2 dimensions (year and month):\n",
    "air_covariates = air_year.stack(air_month)\n",
    "milk_covariates = milk_year.stack(milk_month)\n",
    "\n",
    "# scale them between 0 and 1:\n",
    "scaler_dt_air = Scaler()\n",
    "air_covariates = scaler_dt_air.fit_transform(air_covariates)\n",
    "\n",
    "scaler_dt_milk = Scaler()\n",
    "milk_covariates = scaler_dt_milk.fit_transform(milk_covariates)\n",
    "\n",
    "# split in train/validation sets:\n",
    "air_train_covariates, air_val_covariates = air_covariates[:-36], air_covariates[-36:]\n",
    "milk_train_covariates, milk_val_covariates = (\n",
    "    milk_covariates[:-36],\n",
    "    milk_covariates[-36:],\n",
    ")\n",
    "\n",
    "# plot the covariates:\n",
    "plt.figure()\n",
    "air_covariates.plot()\n",
    "plt.title(\"Air traffic covariates (year and month)\")\n",
    "\n",
    "plt.figure()\n",
    "milk_covariates.plot()\n",
    "plt.title(\"Milk production covariates (year and month)\")"
   ]
  },
  {
   "cell_type": "code",
   "execution_count": null,
   "id": "fb5bb2a4",
   "metadata": {},
   "outputs": [],
   "source": [
    "#model = keras.Sequential()\n",
    "#model.add(layers.GRU(64, input_shape=(5, 5040)))\n",
    "#model.add(layers.BatchNormalization())\n",
    "#model.add(layers.Dense(10))\n",
    "#print(model.summary())"
   ]
  }
 ],
 "metadata": {
  "kernelspec": {
   "display_name": "Python [conda env:DartMachineLearning]",
   "language": "python",
   "name": "conda-env-DartMachineLearning-py"
  },
  "language_info": {
   "codemirror_mode": {
    "name": "ipython",
    "version": 3
   },
   "file_extension": ".py",
   "mimetype": "text/x-python",
   "name": "python",
   "nbconvert_exporter": "python",
   "pygments_lexer": "ipython3",
   "version": "3.8.13"
  }
 },
 "nbformat": 4,
 "nbformat_minor": 5
}
